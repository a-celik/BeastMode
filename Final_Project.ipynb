{
 "cells": [
  {
   "cell_type": "markdown",
   "metadata": {},
   "source": [
    "# CS109 Final Project Process Book"
   ]
  },
  {
   "cell_type": "markdown",
   "metadata": {},
   "source": [
    "## Background & Motivation\n",
    "Social media and entertainment are such pervasive parts of millennials' lives. We want to study the intersection of these two. Is it possible to predict box office success of film through sentiments expressed on social media? Stay tuned for more!"
   ]
  },
  {
   "cell_type": "markdown",
   "metadata": {},
   "source": [
    "## Table of Contents\n",
    "* [CS109 Final Project Process Book](#CS109-Final-Project-Process-Book)\n",
    "\t* [Milestone 1: Scrape and prepare data before thanksgiving](#Milestone-1:-Scrape-and-prepare-data-before-thanksgiving)\n",
    "\t\t* [Scraping and cleaning Box Office Mojo](#Scraping-and-cleaning-Box-Office-Mojo)\n",
    "\t\t* [Loading and preparing IMDB review dataset](#Loading-and-preparing-IMDB-review-dataset)\n",
    "\t\t* [Loading and preparing AFINN dictionary](#Loading-and-preparing-AFINN-dictionary)\n",
    "\t* [Milestone 2: Analysing and visualizing the data](#Milestone-2:-Analysing-and-visualizing-the-data)\n",
    "\t\t* [Descriptive statistics](#Descriptive-statistics)\n",
    "\t\t* [Analysis](#Analysis)\n",
    "        * [Visualization](#Visualization)\n",
    "\t* [Milestone 3: Video and finishing touches](#Milestone-3:-Video-and-finishing-touches)\n",
    "\t\t* [Screencast video](#Screencast-video)\n",
    "\t\t* [Website](#Website)\n",
    "\t\t* [Finishing touches](#Finishing-touches)"
   ]
  },
  {
   "cell_type": "code",
   "execution_count": 1,
   "metadata": {
    "collapsed": true
   },
   "outputs": [],
   "source": [
    "%matplotlib inline\n",
    "import numpy as np\n",
    "import scipy as sp\n",
    "import matplotlib as mpl\n",
    "import matplotlib.cm as cm\n",
    "import matplotlib.pyplot as plt\n",
    "import pandas as pd\n",
    "import time\n",
    "pd.set_option('display.width', 500)\n",
    "pd.set_option('display.max_columns', 100)\n",
    "pd.set_option('display.notebook_repr_html', True)\n",
    "import seaborn as sns\n",
    "sns.set_style(\"whitegrid\")\n",
    "sns.set_context(\"poster\")"
   ]
  },
  {
   "cell_type": "markdown",
   "metadata": {},
   "source": [
    "## Milestone 1: Scrape and prepare data before thanksgiving"
   ]
  },
  {
   "cell_type": "markdown",
   "metadata": {},
   "source": [
    "For our project we will be using data from 3 different sources\n",
    " <ul><b>Box Office Mojo (BOM)</b> (http://www.boxofficemojo.com) is a website that aggregates, in a table, a list of all movies released in a year and attributes such as how much it grossed in the opening week, how much it grossed in total and how long it aired for </ul>\n",
    " <ul><b>Large Movie Review Dataset</b> (http://ai.stanford.edu/~amaas/data/sentiment/) is a polarized dataset of movie reviews from IMDB prepared by Maas et al from Stanford. The dataset contains 25,000 entries in the training set and 25,000 entries in the test set. </ul>\n",
    " <ul><b>AFINN-111 Dictionary</b> (http://www2.imm.dtu.dk/pubdb/views/publication_details.php?id=60100) is a dictionary list of 2477 english words and phrases rated for valence with an integer from -5 to 5. Originally prepared by Finn Årup Nielsen</ul><br>\n",
    "In this first milestone, we will get all the data into a format that we can start running analysis on!"
   ]
  },
  {
   "cell_type": "markdown",
   "metadata": {},
   "source": [
    "### Scraping and cleaning Box Office Mojo"
   ]
  },
  {
   "cell_type": "markdown",
   "metadata": {},
   "source": [
    "First we import the `requests` and `BeautifulSoup` libraries to make working with HTTP requests easier, and then easily transfer HTML content to Python data structures."
   ]
  },
  {
   "cell_type": "code",
   "execution_count": 2,
   "metadata": {
    "collapsed": true
   },
   "outputs": [],
   "source": [
    "from bs4 import BeautifulSoup\n",
    "# The \"requests\" library makes working with HTTP requests easier\n",
    "# than the built-in urllib libraries.\n",
    "import requests"
   ]
  },
  {
   "cell_type": "markdown",
   "metadata": {},
   "source": [
    "Secondly, we prepare the data frame `movie_df` to store the data that we will scrape from BOM. We give this dataframe 9 columns: <br>\n",
    "    * ranking: the ranking of the movie in its release year by gross\n",
    "    * title: movie title\n",
    "    * gross: how much the movie grossed while in theatres\n",
    "    * Total_theaters: the total number of theaters that showed this movie\n",
    "    * opening_gross: how much the movie grossed in the opening weekend (Fri-Sun)\n",
    "    * opening_theaters: the total number of theaters that showed this movie in the opening weekend (Fri-Sun)\n",
    "    * open_date: date of opening\n",
    "    * close_date: date of closing\n",
    "    * year: year of release"
   ]
  },
  {
   "cell_type": "code",
   "execution_count": 3,
   "metadata": {
    "collapsed": false
   },
   "outputs": [],
   "source": [
    "movie_df = pd.DataFrame(columns=['close_date', 'gross', 'open_date', 'opening_gross', 'opening_theaters','ranking','title','total_theaters','year'])"
   ]
  },
  {
   "cell_type": "markdown",
   "metadata": {},
   "source": [
    "Now we write a function `rowInfoGrabber` that we will call in a loop over the table on the BOM webpage to grab the attributes and save them into the corresponding columns in `movie_df`."
   ]
  },
  {
   "cell_type": "code",
   "execution_count": 4,
   "metadata": {
    "collapsed": true
   },
   "outputs": [],
   "source": [
    "def rowInfoGrabber(r):\n",
    "    info = []\n",
    "    # Ranking\n",
    "    info.append(int(r.find(\"font\").get_text()))\n",
    "    # Title\n",
    "    info.append(r.find(\"a\").get_text())\n",
    "    # Gross\n",
    "    info.append(int(r.find(\"td\", attrs={\"align\":\"right\"}).find(\"b\").get_text().strip(\"$\").replace(\",\",\"\")))\n",
    "    '''\n",
    "    For the next 3 categories, we need to deal with the 2000 Anomaly \"Fantasia\" where there are missing numbers.\n",
    "    In this case I have chosen to replace the missing values 'N/A' with the values from 'Final Destination', which\n",
    "    if right above it in the movie table and differs in gross income by about $1 million, which is a small \n",
    "    difference. See the picture below for a snapshot of the anomaly in the movie table from 2000.\n",
    "    '''\n",
    "    # Total number of theaters\n",
    "    if r.find_all(\"td\",attrs={\"align\":\"right\"})[1].find(\"font\").get_text().replace(\",\",\"\") == 'N/A':\n",
    "        info.append(2587)\n",
    "    else:\n",
    "        info.append(int(r.find_all(\"td\",attrs={\"align\":\"right\"})[1].find(\"font\").get_text().replace(\",\",\"\")))\n",
    "    # Opening Gross\n",
    "    if r.find_all(\"td\", attrs={\"align\":\"right\"})[2].find(\"font\").get_text().strip(\"$\").replace(\",\",\"\") == 'N/A':\n",
    "        info.append(10015822)\n",
    "    else: \n",
    "        info.append(int(r.find_all(\"td\", attrs={\"align\":\"right\"})[2].find(\"font\").get_text().strip(\"$\").replace(\",\",\"\")))\n",
    "    # Opening Number of Theaters\n",
    "    if r.find_all(\"td\", attrs={\"align\":\"right\"})[3].find(\"font\").get_text().replace(\",\",\"\") == 'N/A':\n",
    "        info.append(2587)\n",
    "    else:\n",
    "        info.append(int(r.find_all(\"td\", attrs={\"align\":\"right\"})[3].find(\"font\").get_text().replace(\",\",\"\")))\n",
    "    # Date of Opening\n",
    "    info.append(r.find_all(\"td\", attrs={\"align\":\"right\"})[4].find(\"a\").get_text())\n",
    "    # Date of Closing: Before 2002 they didn't have a \"closing\" date in their tables. We must account for this.\n",
    "    if (len(r.find_all(\"td\", attrs={\"align\":\"right\"})) <= 5):\n",
    "        info.append('-')\n",
    "    else:\n",
    "        info.append(r.find_all(\"td\", attrs={\"align\":\"right\"})[5].find(\"font\").get_text())\n",
    "    return info"
   ]
  },
  {
   "cell_type": "markdown",
   "metadata": {},
   "source": [
    "This is the image: <image src=“Example.png”>"
   ]
  },
  {
   "cell_type": "code",
   "execution_count": 5,
   "metadata": {
    "collapsed": true
   },
   "outputs": [],
   "source": [
    "fields = [\"ranking\", \"title\", \"gross\", \"total_theaters\", \"opening_gross\", \"opening_theaters\", \"open_date\", \"close_date\"]"
   ]
  },
  {
   "cell_type": "markdown",
   "metadata": {
    "collapsed": true
   },
   "source": [
    "Finally we're ready to scrape! <br>\n",
    "Because IMDB was created in 1990, we will scrape that far back in BOM. So we're scraping the past 26 years (1990 - 2015). Also note that because the HTML was changed starting in 2001, our scraping will be a little different before and after then."
   ]
  },
  {
   "cell_type": "code",
   "execution_count": 6,
   "metadata": {
    "collapsed": false
   },
   "outputs": [
    {
     "name": "stdout",
     "output_type": "stream",
     "text": [
      "1990\n",
      "1991\n",
      "1992\n",
      "1993\n",
      "1994\n",
      "1995\n",
      "1996\n",
      "1997\n",
      "1998\n",
      "1999\n",
      "2000\n",
      "2001\n",
      "2002\n",
      "2003\n",
      "2004\n",
      "2005\n",
      "2006\n",
      "2007\n",
      "2008\n",
      "2009\n",
      "2010\n",
      "2011\n",
      "2012\n",
      "2013\n",
      "2014\n",
      "2015\n",
      "CPU times: user 10.6 s, sys: 171 ms, total: 10.8 s\n",
      "Wall time: 41.6 s\n"
     ]
    }
   ],
   "source": [
    "%%time\n",
    "years = [1990 + i for i in range(26)]\n",
    "for year in years:\n",
    "    pageText = requests.get(\"http://www.boxofficemojo.com/yearly/chart/?yr=%(yr)d&p=.htm\" % {'yr':year})\n",
    "    soup = BeautifulSoup(pageText.text, \"html.parser\")\n",
    "    movieTable = soup.find(\"td\", attrs={\"colspan\":\"3\"})\n",
    "    movieRows = movieTable.find(\"table\").find_all(\"tr\")[2:102]\n",
    "    print year\n",
    "    movie_dicts = [dict(zip(fields, rowInfoGrabber(row))) for row in movieRows]\n",
    "    year_df = pd.DataFrame(movie_dicts)\n",
    "    year_df['year'] = year\n",
    "    movie_df = movie_df.append(year_df, ignore_index=True)\n",
    "    time.sleep(1)"
   ]
  },
  {
   "cell_type": "code",
   "execution_count": 7,
   "metadata": {
    "collapsed": false
   },
   "outputs": [
    {
     "data": {
      "text/plain": [
       "(2600, 9)"
      ]
     },
     "execution_count": 7,
     "metadata": {},
     "output_type": "execute_result"
    }
   ],
   "source": [
    "movie_df.shape"
   ]
  },
  {
   "cell_type": "code",
   "execution_count": 8,
   "metadata": {
    "collapsed": false
   },
   "outputs": [
    {
     "data": {
      "text/html": [
       "<div style=\"max-height:1000px;max-width:1500px;overflow:auto;\">\n",
       "<table border=\"1\" class=\"dataframe\">\n",
       "  <thead>\n",
       "    <tr style=\"text-align: right;\">\n",
       "      <th></th>\n",
       "      <th>close_date</th>\n",
       "      <th>gross</th>\n",
       "      <th>open_date</th>\n",
       "      <th>opening_gross</th>\n",
       "      <th>opening_theaters</th>\n",
       "      <th>ranking</th>\n",
       "      <th>title</th>\n",
       "      <th>total_theaters</th>\n",
       "      <th>year</th>\n",
       "    </tr>\n",
       "  </thead>\n",
       "  <tbody>\n",
       "    <tr>\n",
       "      <th>0</th>\n",
       "      <td> -</td>\n",
       "      <td> 285761243</td>\n",
       "      <td> 11/16</td>\n",
       "      <td> 17081997</td>\n",
       "      <td> 1202</td>\n",
       "      <td> 1</td>\n",
       "      <td>                   Home Alone</td>\n",
       "      <td> 2173</td>\n",
       "      <td> 1990</td>\n",
       "    </tr>\n",
       "    <tr>\n",
       "      <th>1</th>\n",
       "      <td> -</td>\n",
       "      <td> 217631306</td>\n",
       "      <td>  7/13</td>\n",
       "      <td> 12191540</td>\n",
       "      <td> 1101</td>\n",
       "      <td> 2</td>\n",
       "      <td>                        Ghost</td>\n",
       "      <td> 1766</td>\n",
       "      <td> 1990</td>\n",
       "    </tr>\n",
       "    <tr>\n",
       "      <th>2</th>\n",
       "      <td> -</td>\n",
       "      <td> 184208848</td>\n",
       "      <td>  11/9</td>\n",
       "      <td>   598257</td>\n",
       "      <td>   14</td>\n",
       "      <td> 3</td>\n",
       "      <td>           Dances with Wolves</td>\n",
       "      <td> 1636</td>\n",
       "      <td> 1990</td>\n",
       "    </tr>\n",
       "    <tr>\n",
       "      <th>3</th>\n",
       "      <td> -</td>\n",
       "      <td> 178406268</td>\n",
       "      <td>  3/23</td>\n",
       "      <td> 11280591</td>\n",
       "      <td> 1325</td>\n",
       "      <td> 4</td>\n",
       "      <td>                 Pretty Woman</td>\n",
       "      <td> 1811</td>\n",
       "      <td> 1990</td>\n",
       "    </tr>\n",
       "    <tr>\n",
       "      <th>4</th>\n",
       "      <td> -</td>\n",
       "      <td> 135265915</td>\n",
       "      <td>  3/30</td>\n",
       "      <td> 25398367</td>\n",
       "      <td> 2006</td>\n",
       "      <td> 5</td>\n",
       "      <td> Teenage Mutant Ninja Turtles</td>\n",
       "      <td> 2377</td>\n",
       "      <td> 1990</td>\n",
       "    </tr>\n",
       "  </tbody>\n",
       "</table>\n",
       "</div>"
      ],
      "text/plain": [
       "  close_date      gross open_date  opening_gross  opening_theaters  ranking                         title  total_theaters  year\n",
       "0          -  285761243     11/16       17081997              1202        1                    Home Alone            2173  1990\n",
       "1          -  217631306      7/13       12191540              1101        2                         Ghost            1766  1990\n",
       "2          -  184208848      11/9         598257                14        3            Dances with Wolves            1636  1990\n",
       "3          -  178406268      3/23       11280591              1325        4                  Pretty Woman            1811  1990\n",
       "4          -  135265915      3/30       25398367              2006        5  Teenage Mutant Ninja Turtles            2377  1990"
      ]
     },
     "execution_count": 8,
     "metadata": {},
     "output_type": "execute_result"
    }
   ],
   "source": [
    "movie_df.head()"
   ]
  },
  {
   "cell_type": "markdown",
   "metadata": {},
   "source": [
    "Because some films do not have a close date, we will have to be careful with the close date!"
   ]
  },
  {
   "cell_type": "code",
   "execution_count": 9,
   "metadata": {
    "collapsed": false
   },
   "outputs": [],
   "source": [
    "# if we decide it's worth just dumping the movies with no close_date, we can use the code below\n",
    "# movie_df=movie_df[movie_df.close_date != '-'].reset_index(drop=True)"
   ]
  },
  {
   "cell_type": "markdown",
   "metadata": {},
   "source": [
    "Next, we combine the `close_date`, `open_date` and `year` columns into two columns `close_date` and `open_date` that are time series. This will make it easier for us to work with the data in the future. "
   ]
  },
  {
   "cell_type": "code",
   "execution_count": 10,
   "metadata": {
    "collapsed": false
   },
   "outputs": [],
   "source": [
    "# splitting the close_date and open_date into the respective month and day\n",
    "movie_df['close_month'] = movie_df['close_date'].map(lambda x: '0' if x=='-' else x[:x.find('/')])\n",
    "movie_df['close_day'] = movie_df['close_date'].map(lambda x: '0' if x=='-' else x[x.find('/')+1:len(x)])\n",
    "movie_df['open_month'] = movie_df['open_date'].map(lambda x: x[:x.find('/')])\n",
    "movie_df['open_day'] = movie_df['open_date'].map(lambda x: x[x.find('/')+1:len(x)])\n",
    "\n",
    "# dropping the old close_date and open_date\n",
    "movie_df = movie_df.drop('close_date', 1)\n",
    "movie_df = movie_df.drop('open_date', 1)\n",
    "\n",
    "# creating an open_year by turning the year column into a string and getting rid of trailing bits\n",
    "movie_df['open_year'] = movie_df.year.astype(str)\n",
    "movie_df['open_year'] = movie_df.open_year.map(lambda x: x[:x.find('.')])\n",
    "\n",
    "# creating a close_year column, by looking at whether the close month is earlier/later than the open month in the year\n",
    "close_month = movie_df['close_month'].astype(int)\n",
    "open_month = movie_df['open_month'].astype(int)\n",
    "year = movie_df['year'].astype(int)\n",
    "close_year=[]\n",
    "for i in range (0, len(year)):\n",
    "    if close_month[i] >= open_month[i]:\n",
    "        close_year.append(year[i])\n",
    "    else:\n",
    "        close_year.append(year[i]+1) \n",
    "movie_df['close_year'] = close_year\n",
    "movie_df['close_year'] = movie_df['close_year'].astype(str)"
   ]
  },
  {
   "cell_type": "code",
   "execution_count": 11,
   "metadata": {
    "collapsed": false
   },
   "outputs": [
    {
     "data": {
      "text/html": [
       "<div style=\"max-height:1000px;max-width:1500px;overflow:auto;\">\n",
       "<table border=\"1\" class=\"dataframe\">\n",
       "  <thead>\n",
       "    <tr style=\"text-align: right;\">\n",
       "      <th></th>\n",
       "      <th>gross</th>\n",
       "      <th>opening_gross</th>\n",
       "      <th>opening_theaters</th>\n",
       "      <th>ranking</th>\n",
       "      <th>title</th>\n",
       "      <th>total_theaters</th>\n",
       "      <th>year</th>\n",
       "      <th>close_month</th>\n",
       "      <th>close_day</th>\n",
       "      <th>open_month</th>\n",
       "      <th>open_day</th>\n",
       "      <th>open_year</th>\n",
       "      <th>close_year</th>\n",
       "    </tr>\n",
       "  </thead>\n",
       "  <tbody>\n",
       "    <tr>\n",
       "      <th>0</th>\n",
       "      <td> 285761243</td>\n",
       "      <td> 17081997</td>\n",
       "      <td> 1202</td>\n",
       "      <td> 1</td>\n",
       "      <td>                   Home Alone</td>\n",
       "      <td> 2173</td>\n",
       "      <td> 1990</td>\n",
       "      <td> 0</td>\n",
       "      <td> 0</td>\n",
       "      <td> 11</td>\n",
       "      <td> 16</td>\n",
       "      <td> 1990</td>\n",
       "      <td> 1991</td>\n",
       "    </tr>\n",
       "    <tr>\n",
       "      <th>1</th>\n",
       "      <td> 217631306</td>\n",
       "      <td> 12191540</td>\n",
       "      <td> 1101</td>\n",
       "      <td> 2</td>\n",
       "      <td>                        Ghost</td>\n",
       "      <td> 1766</td>\n",
       "      <td> 1990</td>\n",
       "      <td> 0</td>\n",
       "      <td> 0</td>\n",
       "      <td>  7</td>\n",
       "      <td> 13</td>\n",
       "      <td> 1990</td>\n",
       "      <td> 1991</td>\n",
       "    </tr>\n",
       "    <tr>\n",
       "      <th>2</th>\n",
       "      <td> 184208848</td>\n",
       "      <td>   598257</td>\n",
       "      <td>   14</td>\n",
       "      <td> 3</td>\n",
       "      <td>           Dances with Wolves</td>\n",
       "      <td> 1636</td>\n",
       "      <td> 1990</td>\n",
       "      <td> 0</td>\n",
       "      <td> 0</td>\n",
       "      <td> 11</td>\n",
       "      <td>  9</td>\n",
       "      <td> 1990</td>\n",
       "      <td> 1991</td>\n",
       "    </tr>\n",
       "    <tr>\n",
       "      <th>3</th>\n",
       "      <td> 178406268</td>\n",
       "      <td> 11280591</td>\n",
       "      <td> 1325</td>\n",
       "      <td> 4</td>\n",
       "      <td>                 Pretty Woman</td>\n",
       "      <td> 1811</td>\n",
       "      <td> 1990</td>\n",
       "      <td> 0</td>\n",
       "      <td> 0</td>\n",
       "      <td>  3</td>\n",
       "      <td> 23</td>\n",
       "      <td> 1990</td>\n",
       "      <td> 1991</td>\n",
       "    </tr>\n",
       "    <tr>\n",
       "      <th>4</th>\n",
       "      <td> 135265915</td>\n",
       "      <td> 25398367</td>\n",
       "      <td> 2006</td>\n",
       "      <td> 5</td>\n",
       "      <td> Teenage Mutant Ninja Turtles</td>\n",
       "      <td> 2377</td>\n",
       "      <td> 1990</td>\n",
       "      <td> 0</td>\n",
       "      <td> 0</td>\n",
       "      <td>  3</td>\n",
       "      <td> 30</td>\n",
       "      <td> 1990</td>\n",
       "      <td> 1991</td>\n",
       "    </tr>\n",
       "  </tbody>\n",
       "</table>\n",
       "</div>"
      ],
      "text/plain": [
       "       gross  opening_gross  opening_theaters  ranking                         title  total_theaters  year close_month close_day open_month open_day open_year close_year\n",
       "0  285761243       17081997              1202        1                    Home Alone            2173  1990           0         0         11       16      1990       1991\n",
       "1  217631306       12191540              1101        2                         Ghost            1766  1990           0         0          7       13      1990       1991\n",
       "2  184208848         598257                14        3            Dances with Wolves            1636  1990           0         0         11        9      1990       1991\n",
       "3  178406268       11280591              1325        4                  Pretty Woman            1811  1990           0         0          3       23      1990       1991\n",
       "4  135265915       25398367              2006        5  Teenage Mutant Ninja Turtles            2377  1990           0         0          3       30      1990       1991"
      ]
     },
     "execution_count": 11,
     "metadata": {},
     "output_type": "execute_result"
    }
   ],
   "source": [
    "movie_df.head()"
   ]
  },
  {
   "cell_type": "code",
   "execution_count": 12,
   "metadata": {
    "collapsed": false
   },
   "outputs": [],
   "source": [
    "# making close_date and open_date by concatenating the year, month and day\n",
    "import datetime\n",
    "close_date = []\n",
    "for index, row in movie_df.iterrows():\n",
    "    if row.close_day != '0':\n",
    "        close_date.append(datetime.datetime(int(row.close_year), int(row.close_month), int(row.close_day)))\n",
    "    else: \n",
    "        close_date.append(None)\n",
    "movie_df['close_date'] = close_date\n",
    "\n",
    "movie_df['open_date']=movie_df.open_year + '-' + movie_df.open_month + '-' + movie_df.open_day\n",
    "movie_df['open_date']=movie_df['open_date'].apply(pd.datetools.parse)"
   ]
  },
  {
   "cell_type": "code",
   "execution_count": 13,
   "metadata": {
    "collapsed": false
   },
   "outputs": [],
   "source": [
    "# dropping unnecessary columns\n",
    "movie_df = movie_df.drop('close_day', 1)\n",
    "movie_df = movie_df.drop('close_month', 1)\n",
    "movie_df = movie_df.drop('close_year', 1)\n",
    "movie_df = movie_df.drop('open_day', 1)\n",
    "movie_df = movie_df.drop('open_month', 1)\n",
    "movie_df = movie_df.drop('open_year', 1)\n",
    "movie_df = movie_df.drop('year', 1)"
   ]
  },
  {
   "cell_type": "markdown",
   "metadata": {},
   "source": [
    "Let's take a look at the data, now!"
   ]
  },
  {
   "cell_type": "code",
   "execution_count": 14,
   "metadata": {
    "collapsed": false
   },
   "outputs": [
    {
     "data": {
      "text/html": [
       "<div style=\"max-height:1000px;max-width:1500px;overflow:auto;\">\n",
       "<table border=\"1\" class=\"dataframe\">\n",
       "  <thead>\n",
       "    <tr style=\"text-align: right;\">\n",
       "      <th></th>\n",
       "      <th>gross</th>\n",
       "      <th>opening_gross</th>\n",
       "      <th>opening_theaters</th>\n",
       "      <th>ranking</th>\n",
       "      <th>title</th>\n",
       "      <th>total_theaters</th>\n",
       "      <th>close_date</th>\n",
       "      <th>open_date</th>\n",
       "    </tr>\n",
       "  </thead>\n",
       "  <tbody>\n",
       "    <tr>\n",
       "      <th>0</th>\n",
       "      <td> 285761243</td>\n",
       "      <td> 17081997</td>\n",
       "      <td> 1202</td>\n",
       "      <td> 1</td>\n",
       "      <td>                   Home Alone</td>\n",
       "      <td> 2173</td>\n",
       "      <td> None</td>\n",
       "      <td>1990-11-16</td>\n",
       "    </tr>\n",
       "    <tr>\n",
       "      <th>1</th>\n",
       "      <td> 217631306</td>\n",
       "      <td> 12191540</td>\n",
       "      <td> 1101</td>\n",
       "      <td> 2</td>\n",
       "      <td>                        Ghost</td>\n",
       "      <td> 1766</td>\n",
       "      <td> None</td>\n",
       "      <td>1990-07-13</td>\n",
       "    </tr>\n",
       "    <tr>\n",
       "      <th>2</th>\n",
       "      <td> 184208848</td>\n",
       "      <td>   598257</td>\n",
       "      <td>   14</td>\n",
       "      <td> 3</td>\n",
       "      <td>           Dances with Wolves</td>\n",
       "      <td> 1636</td>\n",
       "      <td> None</td>\n",
       "      <td>1990-11-09</td>\n",
       "    </tr>\n",
       "    <tr>\n",
       "      <th>3</th>\n",
       "      <td> 178406268</td>\n",
       "      <td> 11280591</td>\n",
       "      <td> 1325</td>\n",
       "      <td> 4</td>\n",
       "      <td>                 Pretty Woman</td>\n",
       "      <td> 1811</td>\n",
       "      <td> None</td>\n",
       "      <td>1990-03-23</td>\n",
       "    </tr>\n",
       "    <tr>\n",
       "      <th>4</th>\n",
       "      <td> 135265915</td>\n",
       "      <td> 25398367</td>\n",
       "      <td> 2006</td>\n",
       "      <td> 5</td>\n",
       "      <td> Teenage Mutant Ninja Turtles</td>\n",
       "      <td> 2377</td>\n",
       "      <td> None</td>\n",
       "      <td>1990-03-30</td>\n",
       "    </tr>\n",
       "  </tbody>\n",
       "</table>\n",
       "</div>"
      ],
      "text/plain": [
       "       gross  opening_gross  opening_theaters  ranking                         title  total_theaters close_date  open_date\n",
       "0  285761243       17081997              1202        1                    Home Alone            2173       None 1990-11-16\n",
       "1  217631306       12191540              1101        2                         Ghost            1766       None 1990-07-13\n",
       "2  184208848         598257                14        3            Dances with Wolves            1636       None 1990-11-09\n",
       "3  178406268       11280591              1325        4                  Pretty Woman            1811       None 1990-03-23\n",
       "4  135265915       25398367              2006        5  Teenage Mutant Ninja Turtles            2377       None 1990-03-30"
      ]
     },
     "execution_count": 14,
     "metadata": {},
     "output_type": "execute_result"
    }
   ],
   "source": [
    "movie_df.head()"
   ]
  },
  {
   "cell_type": "markdown",
   "metadata": {},
   "source": [
    "Let's take a look at if we can get the run times for each movie!"
   ]
  },
  {
   "cell_type": "code",
   "execution_count": 15,
   "metadata": {
    "collapsed": false
   },
   "outputs": [],
   "source": [
    "run_time=[]\n",
    "for index, row in movie_df.iterrows():\n",
    "    if row.close_date != None:\n",
    "        run_time.append(row['close_date']-row['open_date'])\n",
    "    else: \n",
    "        run_time.append('N/A')"
   ]
  },
  {
   "cell_type": "code",
   "execution_count": 16,
   "metadata": {
    "collapsed": false
   },
   "outputs": [
    {
     "data": {
      "text/html": [
       "<div style=\"max-height:1000px;max-width:1500px;overflow:auto;\">\n",
       "<table border=\"1\" class=\"dataframe\">\n",
       "  <thead>\n",
       "    <tr style=\"text-align: right;\">\n",
       "      <th></th>\n",
       "      <th>gross</th>\n",
       "      <th>opening_gross</th>\n",
       "      <th>opening_theaters</th>\n",
       "      <th>ranking</th>\n",
       "      <th>title</th>\n",
       "      <th>total_theaters</th>\n",
       "      <th>close_date</th>\n",
       "      <th>open_date</th>\n",
       "    </tr>\n",
       "  </thead>\n",
       "  <tbody>\n",
       "    <tr>\n",
       "      <th>0</th>\n",
       "      <td> 285761243</td>\n",
       "      <td> 17081997</td>\n",
       "      <td> 1202</td>\n",
       "      <td> 1</td>\n",
       "      <td>                   Home Alone</td>\n",
       "      <td> 2173</td>\n",
       "      <td> None</td>\n",
       "      <td>1990-11-16</td>\n",
       "    </tr>\n",
       "    <tr>\n",
       "      <th>1</th>\n",
       "      <td> 217631306</td>\n",
       "      <td> 12191540</td>\n",
       "      <td> 1101</td>\n",
       "      <td> 2</td>\n",
       "      <td>                        Ghost</td>\n",
       "      <td> 1766</td>\n",
       "      <td> None</td>\n",
       "      <td>1990-07-13</td>\n",
       "    </tr>\n",
       "    <tr>\n",
       "      <th>2</th>\n",
       "      <td> 184208848</td>\n",
       "      <td>   598257</td>\n",
       "      <td>   14</td>\n",
       "      <td> 3</td>\n",
       "      <td>           Dances with Wolves</td>\n",
       "      <td> 1636</td>\n",
       "      <td> None</td>\n",
       "      <td>1990-11-09</td>\n",
       "    </tr>\n",
       "    <tr>\n",
       "      <th>3</th>\n",
       "      <td> 178406268</td>\n",
       "      <td> 11280591</td>\n",
       "      <td> 1325</td>\n",
       "      <td> 4</td>\n",
       "      <td>                 Pretty Woman</td>\n",
       "      <td> 1811</td>\n",
       "      <td> None</td>\n",
       "      <td>1990-03-23</td>\n",
       "    </tr>\n",
       "    <tr>\n",
       "      <th>4</th>\n",
       "      <td> 135265915</td>\n",
       "      <td> 25398367</td>\n",
       "      <td> 2006</td>\n",
       "      <td> 5</td>\n",
       "      <td> Teenage Mutant Ninja Turtles</td>\n",
       "      <td> 2377</td>\n",
       "      <td> None</td>\n",
       "      <td>1990-03-30</td>\n",
       "    </tr>\n",
       "  </tbody>\n",
       "</table>\n",
       "</div>"
      ],
      "text/plain": [
       "       gross  opening_gross  opening_theaters  ranking                         title  total_theaters close_date  open_date\n",
       "0  285761243       17081997              1202        1                    Home Alone            2173       None 1990-11-16\n",
       "1  217631306       12191540              1101        2                         Ghost            1766       None 1990-07-13\n",
       "2  184208848         598257                14        3            Dances with Wolves            1636       None 1990-11-09\n",
       "3  178406268       11280591              1325        4                  Pretty Woman            1811       None 1990-03-23\n",
       "4  135265915       25398367              2006        5  Teenage Mutant Ninja Turtles            2377       None 1990-03-30"
      ]
     },
     "execution_count": 16,
     "metadata": {},
     "output_type": "execute_result"
    }
   ],
   "source": [
    "movie_df.head()"
   ]
  },
  {
   "cell_type": "markdown",
   "metadata": {},
   "source": [
    "Looks like the data is ready for us to use! Let's save this data so we're ready to use it next time. "
   ]
  },
  {
   "cell_type": "code",
   "execution_count": 17,
   "metadata": {
    "collapsed": false
   },
   "outputs": [
    {
     "name": "stdout",
     "output_type": "stream",
     "text": [
      "Requirement already satisfied (use --upgrade to upgrade): pymongo in /anaconda/lib/python2.7/site-packages\r\n"
     ]
    }
   ],
   "source": [
    "! pip install pymongo"
   ]
  },
  {
   "cell_type": "code",
   "execution_count": 18,
   "metadata": {
    "collapsed": false
   },
   "outputs": [],
   "source": [
    "# Save the movie Dictionaries corresponding to each row of the BoxOfficeMojo table.\n",
    "import json # (dong)\n",
    "import pymongo\n",
    "from bson import json_util\n",
    "\n",
    "# Make a dictionary out of the dataset for storage in JSON format.\n",
    "movieSaved = {feature: movie_df[feature].values.tolist() for feature in movie_df.columns.values}\n",
    "fp = open(\"allMovies.json\",\"w\")\n",
    "json.dump(movieSaved, fp, default=json_util.default)\n",
    "fp.close()"
   ]
  },
  {
   "cell_type": "markdown",
   "metadata": {
    "collapsed": true
   },
   "source": [
    "### Loading and preparing IMDB review dataset"
   ]
  },
  {
   "cell_type": "markdown",
   "metadata": {},
   "source": [
    "We have cleaned up our IMDB review dataset in the ipython notebook `New.ipynb`. From that notebook we have been able to save dictionaries of our data, which we will now call. "
   ]
  },
  {
   "cell_type": "code",
   "execution_count": 19,
   "metadata": {
    "collapsed": false
   },
   "outputs": [],
   "source": [
    "with open(\"train_df_dict.json\", \"r\") as fd:\n",
    "    train_df_dict = json.load(fd)\n",
    "with open(\"test_df_dict.json\", \"r\") as fd:\n",
    "    test_df_dict = json.load(fd)"
   ]
  },
  {
   "cell_type": "code",
   "execution_count": 20,
   "metadata": {
    "collapsed": false
   },
   "outputs": [],
   "source": [
    "train_df = pd.DataFrame(train_df_dict)\n",
    "test_df = pd.DataFrame(test_df_dict)"
   ]
  },
  {
   "cell_type": "markdown",
   "metadata": {},
   "source": [
    "The Stanford group distinguishes between train and test because this was relevant for their project. This may prove to be useful later, so we will keep two separate dataframes. However, for our purposes at the moment, we can combine them since the BOM data will serve as our true data set."
   ]
  },
  {
   "cell_type": "code",
   "execution_count": 21,
   "metadata": {
    "collapsed": true
   },
   "outputs": [],
   "source": [
    "IMDB_df = train_df.append(test_df)"
   ]
  },
  {
   "cell_type": "markdown",
   "metadata": {},
   "source": [
    "We want to figure out which movies from IMDB_df are also present in our BOM DF. So let's get all the movie titles in our BOM table. "
   ]
  },
  {
   "cell_type": "code",
   "execution_count": 22,
   "metadata": {
    "collapsed": false
   },
   "outputs": [],
   "source": [
    "BOM_movie_list = movie_df.title.values.tolist()"
   ]
  },
  {
   "cell_type": "markdown",
   "metadata": {},
   "source": [
    "Now let's create a mask over IMDB_df, the boolean values of which indicate whether or not a movie is in the BOM list."
   ]
  },
  {
   "cell_type": "code",
   "execution_count": 25,
   "metadata": {
    "collapsed": false
   },
   "outputs": [],
   "source": [
    "movie_mask = [(movie in BOM_movie_list) for movie in IMDB_df.movie_name]"
   ]
  },
  {
   "cell_type": "code",
   "execution_count": 27,
   "metadata": {
    "collapsed": false
   },
   "outputs": [
    {
     "data": {
      "text/plain": [
       "4111"
      ]
     },
     "execution_count": 27,
     "metadata": {},
     "output_type": "execute_result"
    }
   ],
   "source": [
    "sum(movie_mask)"
   ]
  },
  {
   "cell_type": "markdown",
   "metadata": {},
   "source": [
    "We can now create out final, relevant IMDB data frame, with only those movies that also appear in the BOM tables from 1990 - 2015. "
   ]
  },
  {
   "cell_type": "code",
   "execution_count": 29,
   "metadata": {
    "collapsed": false
   },
   "outputs": [],
   "source": [
    "IMDB_dftouse=IMDB_df[movie_mask]"
   ]
  },
  {
   "cell_type": "markdown",
   "metadata": {},
   "source": [
    "Finally we want to save our dictionary of IMDB_dftouse into a JSON file for storage."
   ]
  },
  {
   "cell_type": "code",
   "execution_count": 30,
   "metadata": {
    "collapsed": true
   },
   "outputs": [],
   "source": [
    "IMDB_dftouse_dict = {feature: IMDB_dftouse[feature].values.tolist() for feature in IMDB_dftouse.columns.values}\n",
    "\n",
    "fp = open(\"IMDB_dftouse_dict.json\",\"w\")\n",
    "json.dump(IMDB_dftouse_dict, fp)\n",
    "fp.close()"
   ]
  },
  {
   "cell_type": "code",
   "execution_count": 31,
   "metadata": {
    "collapsed": true
   },
   "outputs": [],
   "source": [
    "with open(\"IMDB_dftouse_dict.json\", \"r\") as fd:\n",
    "    IMDB_dftouse_dict = json.load(fd)"
   ]
  },
  {
   "cell_type": "markdown",
   "metadata": {},
   "source": [
    "### Loading and preparing AFINN dictionary"
   ]
  },
  {
   "cell_type": "markdown",
   "metadata": {},
   "source": [
    "We wil read in the AFINN-111 dictionary from the tab-delimited .txt file and save it into a pandas dataframe `dictionary`. "
   ]
  },
  {
   "cell_type": "code",
   "execution_count": 19,
   "metadata": {
    "collapsed": true
   },
   "outputs": [],
   "source": [
    "words = []\n",
    "valences = []\n",
    "\n",
    "with open('AFINN/AFINN-111.txt','rb') as source:\n",
    "    for line in source:\n",
    "        fields = line.split('\\t')\n",
    "        words.append(fields[0])\n",
    "        valences.append(fields[1])\n",
    "dictionary = pd.DataFrame({'words': words, 'valences':valences})"
   ]
  },
  {
   "cell_type": "markdown",
   "metadata": {},
   "source": [
    "Because the valences are read in as a string, we will clean it up and change it to an int so it is ready for manipulation. "
   ]
  },
  {
   "cell_type": "code",
   "execution_count": 20,
   "metadata": {
    "collapsed": false
   },
   "outputs": [],
   "source": [
    "dictionary['valences'] = dictionary['valences'].map(lambda x: x if x.find('\\n')== -1 else x[:x.find('\\n')])\n",
    "dictionary['valences']=dictionary['valences'].astype(int)"
   ]
  },
  {
   "cell_type": "markdown",
   "metadata": {},
   "source": [
    "Let's take a look at the dictionary!"
   ]
  },
  {
   "cell_type": "code",
   "execution_count": 21,
   "metadata": {
    "collapsed": false
   },
   "outputs": [
    {
     "data": {
      "text/html": [
       "<div style=\"max-height:1000px;max-width:1500px;overflow:auto;\">\n",
       "<table border=\"1\" class=\"dataframe\">\n",
       "  <thead>\n",
       "    <tr style=\"text-align: right;\">\n",
       "      <th></th>\n",
       "      <th>valences</th>\n",
       "      <th>words</th>\n",
       "    </tr>\n",
       "  </thead>\n",
       "  <tbody>\n",
       "    <tr>\n",
       "      <th>0</th>\n",
       "      <td>-2</td>\n",
       "      <td>   abandon</td>\n",
       "    </tr>\n",
       "    <tr>\n",
       "      <th>1</th>\n",
       "      <td>-2</td>\n",
       "      <td> abandoned</td>\n",
       "    </tr>\n",
       "    <tr>\n",
       "      <th>2</th>\n",
       "      <td>-2</td>\n",
       "      <td>  abandons</td>\n",
       "    </tr>\n",
       "    <tr>\n",
       "      <th>3</th>\n",
       "      <td>-2</td>\n",
       "      <td>  abducted</td>\n",
       "    </tr>\n",
       "    <tr>\n",
       "      <th>4</th>\n",
       "      <td>-2</td>\n",
       "      <td> abduction</td>\n",
       "    </tr>\n",
       "  </tbody>\n",
       "</table>\n",
       "</div>"
      ],
      "text/plain": [
       "   valences      words\n",
       "0        -2    abandon\n",
       "1        -2  abandoned\n",
       "2        -2   abandons\n",
       "3        -2   abducted\n",
       "4        -2  abduction"
      ]
     },
     "execution_count": 21,
     "metadata": {},
     "output_type": "execute_result"
    }
   ],
   "source": [
    "dictionary.head()"
   ]
  },
  {
   "cell_type": "markdown",
   "metadata": {},
   "source": [
    "Looks like the dictionary is ready for us to use! Let's save it so we have it in the event that anything happens. "
   ]
  },
  {
   "cell_type": "code",
   "execution_count": 24,
   "metadata": {
    "collapsed": false
   },
   "outputs": [],
   "source": [
    "# dictionary.to_csv(\"dictionary.csv\", index=False)\n",
    "dictionary=pd.read_csv(\"dictionary.csv\")"
   ]
  },
  {
   "cell_type": "markdown",
   "metadata": {},
   "source": [
    "## Milestone 2: Analysing and visualizing the data"
   ]
  },
  {
   "cell_type": "markdown",
   "metadata": {},
   "source": [
    "### Descriptive statistics"
   ]
  },
  {
   "cell_type": "markdown",
   "metadata": {},
   "source": [
    "### Analysis"
   ]
  },
  {
   "cell_type": "markdown",
   "metadata": {},
   "source": [
    "### Visualization"
   ]
  },
  {
   "cell_type": "markdown",
   "metadata": {},
   "source": [
    "## Milestone 3: Video and finishing touches"
   ]
  },
  {
   "cell_type": "markdown",
   "metadata": {},
   "source": [
    "### Screencast video"
   ]
  },
  {
   "cell_type": "markdown",
   "metadata": {},
   "source": [
    "### Website"
   ]
  },
  {
   "cell_type": "markdown",
   "metadata": {},
   "source": [
    "### Finishing touches"
   ]
  },
  {
   "cell_type": "code",
   "execution_count": null,
   "metadata": {
    "collapsed": true
   },
   "outputs": [],
   "source": []
  }
 ],
 "metadata": {
  "kernelspec": {
   "display_name": "Python 2",
   "language": "python",
   "name": "python2"
  },
  "language_info": {
   "codemirror_mode": {
    "name": "ipython",
    "version": 2
   },
   "file_extension": ".py",
   "mimetype": "text/x-python",
   "name": "python",
   "nbconvert_exporter": "python",
   "pygments_lexer": "ipython2",
   "version": "2.7.10"
  }
 },
 "nbformat": 4,
 "nbformat_minor": 0
}
