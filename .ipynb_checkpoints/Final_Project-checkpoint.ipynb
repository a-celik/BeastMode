{
 "cells": [
  {
   "cell_type": "code",
   "execution_count": 1,
   "metadata": {
    "collapsed": true
   },
   "outputs": [],
   "source": [
    "%matplotlib inline\n",
    "import numpy as np\n",
    "import scipy as sp\n",
    "import matplotlib as mpl\n",
    "import matplotlib.cm as cm\n",
    "import matplotlib.pyplot as plt\n",
    "import pandas as pd\n",
    "import time\n",
    "pd.set_option('display.width', 500)\n",
    "pd.set_option('display.max_columns', 100)\n",
    "pd.set_option('display.notebook_repr_html', True)\n",
    "import seaborn as sns\n",
    "sns.set_style(\"whitegrid\")\n",
    "sns.set_context(\"poster\")"
   ]
  },
  {
   "cell_type": "code",
   "execution_count": 2,
   "metadata": {
    "collapsed": true
   },
   "outputs": [],
   "source": [
    "from bs4 import BeautifulSoup\n",
    "# The \"requests\" library makes working with HTTP requests easier\n",
    "# than the built-in urllib libraries.\n",
    "import requests"
   ]
  },
  {
   "cell_type": "code",
   "execution_count": 3,
   "metadata": {
    "collapsed": true
   },
   "outputs": [],
   "source": [
    "# here we access the webpage and download the content using requests\n",
    "bom2015=requests.get(\"http://www.boxofficemojo.com/yearly/chart/?yr=2015&p=.htm\")"
   ]
  },
  {
   "cell_type": "code",
   "execution_count": 48,
   "metadata": {
    "collapsed": false
   },
   "outputs": [
    {
     "name": "stdout",
     "output_type": "stream",
     "text": [
      "<tr bgcolor=\"#ffffff\"><td align=\"center\"><font size=\"2\">1</font></td><td><b><font size=\"2\"><a href=\"/movies/?id=jurassicpark4.htm\">Jurassic World</a></font></b></td><td><font size=\"2\"><a href=\"/studio/chart/?studio=universal.htm\">Uni.</a></font></td><td align=\"right\"><font size=\"2\"><b>$652,175,130</b></font></td><td align=\"right\"><font size=\"2\">4,291</font></td><td align=\"right\"><font size=\"2\">$208,806,270</font></td><td align=\"right\"><font size=\"2\">4,274</font></td><td align=\"right\"><font size=\"2\"><a href=\"/schedule/?view=bydate&amp;release=theatrical&amp;date=2015-06-12&amp;p=.htm\">6/12</a></font></td><td align=\"right\"><font size=\"2\">-</font></td></tr>\n"
     ]
    }
   ],
   "source": [
    "# We'll just reuse the request object that was previously created to create a BeautifulSoup element.\n",
    "soup = BeautifulSoup(bom2015.text, \"html.parser\")\n",
    "\n",
    "# Find the relevant table. It's actully stored in a \"td\" on BoxOfficeMojos website.\n",
    "movieTable = soup.find(\"td\", attrs={\"colspan\":\"3\"})\n",
    "movieRows = td.find(\"table\").find_all(\"tr\")[2:102]\n",
    "# print movieRows[0]\n",
    "print movieRows[0]"
   ]
  },
  {
   "cell_type": "code",
   "execution_count": 53,
   "metadata": {
    "collapsed": true
   },
   "outputs": [],
   "source": [
    "def rowInfoGrabber(r):\n",
    "    info = []\n",
    "    # Ranking\n",
    "    info.append(int(r.find(\"font\").get_text()))\n",
    "    # Title\n",
    "    info.append(r.find(\"a\").get_text())\n",
    "    # Gross\n",
    "    info.append(int(r.find(\"td\", attrs={\"align\":\"right\"}).find(\"b\").get_text().strip(\"$\").replace(\",\",\"\")))\n",
    "    # Total Number of Theaters\n",
    "    info.append(int(r.find_all(\"td\",attrs={\"align\":\"right\"})[1].find(\"font\").get_text().replace(\",\",\"\")))\n",
    "    # Opening Cost\n",
    "    info.append(int(r.find_all(\"td\", attrs={\"align\":\"right\"})[2].find(\"font\").get_text().strip(\"$\").replace(\",\",\"\")))\n",
    "    # Opening Number of Theaters\n",
    "    info.append(int(r.find_all(\"td\", attrs={\"align\":\"right\"})[3].find(\"font\").get_text().replace(\",\",\"\")))\n",
    "    # Date of Opening\n",
    "    info.append(r.find_all(\"td\", attrs={\"align\":\"right\"})[4].find(\"a\").get_text())\n",
    "    # Date of Closing\n",
    "    info.append(r.find_all(\"td\", attrs={\"align\":\"right\"})[5].find(\"font\").get_text())\n",
    "    return info\n",
    "fields = [\"ranking\", \"title\", \"gross\", \"total_theaters\", \"opening\", \"opening_theaters\", \"open\", \"close\"]\n",
    "\n",
    "movies = [dict(zip(fields, rowInfoGrabber(row))) for row in movieRows]\n"
   ]
  },
  {
   "cell_type": "code",
   "execution_count": 56,
   "metadata": {
    "collapsed": false
   },
   "outputs": [],
   "source": [
    "# Save the movie Dictionaries corresponding to each row of the BoxOfficeMojo table.\n",
    "import json # (dong)\n",
    "\n",
    "# movieRowDicts = open(\"movieRows.json\",\"w\")\n",
    "# json.dump(movies, movieRowDicts)\n",
    "# movieRowDicts.close()"
   ]
  },
  {
   "cell_type": "code",
   "execution_count": 59,
   "metadata": {
    "collapsed": true
   },
   "outputs": [],
   "source": [
    "# Relod the movie Dictionaries if necessary.\n",
    "with open(\"movieRows.json\", \"r\") as movieRowDicts:\n",
    "    movies = json.load(movieRowDicts)"
   ]
  },
  {
   "cell_type": "code",
   "execution_count": 63,
   "metadata": {
    "collapsed": false
   },
   "outputs": [],
   "source": [
    "# Make a movie DataFrame.\n",
    "movie_df = pd.DataFrame(movies)"
   ]
  },
  {
   "cell_type": "code",
   "execution_count": 64,
   "metadata": {
    "collapsed": false
   },
   "outputs": [
    {
     "data": {
      "text/html": [
       "<div>\n",
       "<table border=\"1\" class=\"dataframe\">\n",
       "  <thead>\n",
       "    <tr style=\"text-align: right;\">\n",
       "      <th></th>\n",
       "      <th>close</th>\n",
       "      <th>gross</th>\n",
       "      <th>open</th>\n",
       "      <th>opening</th>\n",
       "      <th>opening_theaters</th>\n",
       "      <th>ranking</th>\n",
       "      <th>title</th>\n",
       "      <th>total_theaters</th>\n",
       "    </tr>\n",
       "  </thead>\n",
       "  <tbody>\n",
       "    <tr>\n",
       "      <th>0</th>\n",
       "      <td>-</td>\n",
       "      <td>652175130</td>\n",
       "      <td>6/12</td>\n",
       "      <td>208806270</td>\n",
       "      <td>4274</td>\n",
       "      <td>1</td>\n",
       "      <td>Jurassic World</td>\n",
       "      <td>4291</td>\n",
       "    </tr>\n",
       "    <tr>\n",
       "      <th>1</th>\n",
       "      <td>10/8</td>\n",
       "      <td>459005868</td>\n",
       "      <td>5/1</td>\n",
       "      <td>191271109</td>\n",
       "      <td>4276</td>\n",
       "      <td>2</td>\n",
       "      <td>Avengers: Age of Ultron</td>\n",
       "      <td>4276</td>\n",
       "    </tr>\n",
       "    <tr>\n",
       "      <th>2</th>\n",
       "      <td>-</td>\n",
       "      <td>356002827</td>\n",
       "      <td>6/19</td>\n",
       "      <td>90440272</td>\n",
       "      <td>3946</td>\n",
       "      <td>3</td>\n",
       "      <td>Inside Out</td>\n",
       "      <td>4158</td>\n",
       "    </tr>\n",
       "    <tr>\n",
       "      <th>3</th>\n",
       "      <td>7/24</td>\n",
       "      <td>352786830</td>\n",
       "      <td>4/3</td>\n",
       "      <td>147187040</td>\n",
       "      <td>4004</td>\n",
       "      <td>4</td>\n",
       "      <td>Furious 7</td>\n",
       "      <td>4022</td>\n",
       "    </tr>\n",
       "    <tr>\n",
       "      <th>4</th>\n",
       "      <td>-</td>\n",
       "      <td>335478120</td>\n",
       "      <td>7/10</td>\n",
       "      <td>115718405</td>\n",
       "      <td>4301</td>\n",
       "      <td>5</td>\n",
       "      <td>Minions</td>\n",
       "      <td>4311</td>\n",
       "    </tr>\n",
       "  </tbody>\n",
       "</table>\n",
       "</div>"
      ],
      "text/plain": [
       "  close      gross  open    opening  opening_theaters  ranking                    title  total_theaters\n",
       "0     -  652175130  6/12  208806270              4274        1           Jurassic World            4291\n",
       "1  10/8  459005868   5/1  191271109              4276        2  Avengers: Age of Ultron            4276\n",
       "2     -  356002827  6/19   90440272              3946        3               Inside Out            4158\n",
       "3  7/24  352786830   4/3  147187040              4004        4                Furious 7            4022\n",
       "4     -  335478120  7/10  115718405              4301        5                  Minions            4311"
      ]
     },
     "execution_count": 64,
     "metadata": {},
     "output_type": "execute_result"
    }
   ],
   "source": [
    "movie_df.head()"
   ]
  },
  {
   "cell_type": "code",
   "execution_count": 1,
   "metadata": {
    "collapsed": true
   },
   "outputs": [],
   "source": [
    "#This is Alp - let's see if I have access"
   ]
  },
  {
   "cell_type": "code",
   "execution_count": null,
   "metadata": {
    "collapsed": true
   },
   "outputs": [],
   "source": []
  }
 ],
 "metadata": {
  "kernelspec": {
   "display_name": "Python 2",
   "language": "python",
   "name": "python2"
  },
  "language_info": {
   "codemirror_mode": {
    "name": "ipython",
    "version": 2
   },
   "file_extension": ".py",
   "mimetype": "text/x-python",
   "name": "python",
   "nbconvert_exporter": "python",
   "pygments_lexer": "ipython2",
   "version": "2.7.10"
  }
 },
 "nbformat": 4,
 "nbformat_minor": 0
}
