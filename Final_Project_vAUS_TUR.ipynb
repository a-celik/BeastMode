{
 "cells": [
  {
   "cell_type": "markdown",
   "metadata": {},
   "source": [
    "# CS109 Final Project Process Book"
   ]
  },
  {
   "cell_type": "markdown",
   "metadata": {},
   "source": [
    "## Background & Motivation\n",
    "Social media and entertainment are such pervasive parts of millennials' lives. We want to study the intersection of these two. Is it possible to predict box office success of film through sentiments expressed on social media? Stay tuned for more!"
   ]
  },
  {
   "cell_type": "markdown",
   "metadata": {},
   "source": [
    "## Table of Contents\n",
    "* [CS109 Final Project Process Book](#CS109-Final-Project-Process-Book)\n",
    "\t* [Milestone 1: Scrape and prepare data before thanksgiving](#Milestone-1:-Scrape-and-prepare-data-before-thanksgiving)\n",
    "\t\t* [Scraping and cleaning Box Office Mojo](#Scraping-and-cleaning-Box-Office-Mojo)\n",
    "\t\t* [Loading and preparing IMDB review dataset](#Loading-and-preparing-IMDB-review-dataset)\n",
    "\t\t* [Loading and preparing AFINN dictionary](#Loading-and-preparing-AFINN-dictionary)\n",
    "\t* [Milestone 2: Analysing and visualizing the data](#Milestone-2:-Analysing-and-visualizing-the-data)\n",
    "\t\t* [Descriptive statistics](#Descriptive-statistics)\n",
    "\t\t* [Analysis](#Analysis)\n",
    "        * [Visualization](#Visualization)\n",
    "\t* [Milestone 3: Video and finishing touches](#Milestone-3:-Video-and-finishing-touches)\n",
    "\t\t* [Screencast video](#Screencast-video)\n",
    "\t\t* [Website](#Website)\n",
    "\t\t* [Finishing touches](#Finishing-touches)"
   ]
  },
  {
   "cell_type": "code",
   "execution_count": 1,
   "metadata": {
    "collapsed": true
   },
   "outputs": [],
   "source": [
    "%matplotlib inline\n",
    "import numpy as np\n",
    "import scipy as sp\n",
    "import matplotlib as mpl\n",
    "import matplotlib.cm as cm\n",
    "import matplotlib.pyplot as plt\n",
    "import pandas as pd\n",
    "import time\n",
    "import json\n",
    "import statsmodels.api as sm\n",
    "from statsmodels.formula.api import logit, glm, ols\n",
    "\n",
    "pd.set_option('display.width', 500)\n",
    "pd.set_option('display.max_columns', 100)\n",
    "pd.set_option('display.notebook_repr_html', True)\n",
    "import seaborn as sns\n",
    "sns.set_style(\"whitegrid\")\n",
    "sns.set_context(\"poster\")\n",
    "import math\n",
    "from sklearn.svm import LinearSVC"
   ]
  },
  {
   "cell_type": "markdown",
   "metadata": {},
   "source": [
    "## Milestone 1: Scrape and prepare data before thanksgiving"
   ]
  },
  {
   "cell_type": "markdown",
   "metadata": {},
   "source": [
    "For our project we will be using data from 3 different sources\n",
    " <ul><b>Box Office Mojo (BOM)</b> (http://www.boxofficemojo.com) is a website that aggregates, in a table, a list of all movies released in a year and attributes such as how much it grossed in the opening week, how much it grossed in total and how long it aired for </ul>\n",
    " <ul><b>Large Movie Review Dataset</b> (http://ai.stanford.edu/~amaas/data/sentiment/) is a polarized dataset of movie reviews from IMDB prepared by Maas et al from Stanford. The dataset contains 25,000 entries in the training set and 25,000 entries in the test set. </ul>\n",
    " <ul><b>AFINN-111 Dictionary</b> (http://www2.imm.dtu.dk/pubdb/views/publication_details.php?id=60100) is a dictionary list of 2477 english words and phrases rated for valence with an integer from -5 to 5. Originally prepared by Finn Årup Nielsen</ul><br>\n",
    "In this first milestone, we will get all the data into a format that we can start running analysis on!"
   ]
  },
  {
   "cell_type": "markdown",
   "metadata": {},
   "source": [
    "### Scraping and cleaning Box Office Mojo"
   ]
  },
  {
   "cell_type": "markdown",
   "metadata": {},
   "source": [
    "First we import the `requests` and `BeautifulSoup` libraries to make working with HTTP requests easier, and then easily transfer HTML content to Python data structures."
   ]
  },
  {
   "cell_type": "code",
   "execution_count": 2,
   "metadata": {
    "collapsed": true
   },
   "outputs": [],
   "source": [
    "from bs4 import BeautifulSoup\n",
    "# The \"requests\" library makes working with HTTP requests easier\n",
    "# than the built-in urllib libraries.\n",
    "import requests"
   ]
  },
  {
   "cell_type": "markdown",
   "metadata": {},
   "source": [
    "Secondly, we prepare the data frame `movie_df` to store the data that we will scrape from BOM. We give this dataframe 9 columns: <br>\n",
    "    * ranking: the ranking of the movie in its release year by gross\n",
    "    * title: movie title\n",
    "    * gross: how much the movie grossed while in theatres\n",
    "    * Total_theaters: the total number of theaters that showed this movie\n",
    "    * opening_gross: how much the movie grossed in the opening weekend (Fri-Sun)\n",
    "    * opening_theaters: the total number of theaters that showed this movie in the opening weekend (Fri-Sun)\n",
    "    * open_date: date of opening\n",
    "    * close_date: date of closing\n",
    "    * year: year of release"
   ]
  },
  {
   "cell_type": "code",
   "execution_count": 3,
   "metadata": {
    "collapsed": false
   },
   "outputs": [],
   "source": [
    "bom_df = pd.DataFrame(columns=['close_date', 'gross', 'open_date', 'opening_gross', 'opening_theaters','ranking','title','total_theaters','year'])"
   ]
  },
  {
   "cell_type": "markdown",
   "metadata": {},
   "source": [
    "Now we write a function `rowInfoGrabber` that we will call in a loop over the table on the BOM webpage to grab the attributes and save them into the corresponding columns in `movie_df`."
   ]
  },
  {
   "cell_type": "code",
   "execution_count": 4,
   "metadata": {
    "collapsed": true
   },
   "outputs": [],
   "source": [
    "def rowInfoGrabber(r):\n",
    "    info = []\n",
    "    # Ranking\n",
    "    info.append(int(r.find(\"font\").get_text()))\n",
    "    # Title\n",
    "    info.append(r.find(\"a\").get_text())\n",
    "    # Gross\n",
    "    info.append(int(r.find(\"td\", attrs={\"align\":\"right\"}).find(\"b\").get_text().strip(\"$\").replace(\",\",\"\")))\n",
    "    '''\n",
    "    For the next 3 categories, we need to deal with the 2000 Anomaly \"Fantasia\" where there are missing numbers.\n",
    "    In this case I have chosen to replace the missing values 'N/A' with the values from 'Final Destination', which\n",
    "    if right above it in the movie table and differs in gross income by about $1 million, which is a small \n",
    "    difference. See the picture below for a snapshot of the anomaly in the movie table from 2000.\n",
    "    '''\n",
    "    # Total number of theaters\n",
    "    if r.find_all(\"td\",attrs={\"align\":\"right\"})[1].find(\"font\").get_text().replace(\",\",\"\") == 'N/A':\n",
    "        info.append(2587)\n",
    "    else:\n",
    "        info.append(int(r.find_all(\"td\",attrs={\"align\":\"right\"})[1].find(\"font\").get_text().replace(\",\",\"\")))\n",
    "    # Opening Gross\n",
    "    if r.find_all(\"td\", attrs={\"align\":\"right\"})[2].find(\"font\").get_text().strip(\"$\").replace(\",\",\"\") == 'N/A':\n",
    "        info.append(10015822)\n",
    "    else: \n",
    "        info.append(int(r.find_all(\"td\", attrs={\"align\":\"right\"})[2].find(\"font\").get_text().strip(\"$\").replace(\",\",\"\")))\n",
    "    # Opening Number of Theaters\n",
    "    if r.find_all(\"td\", attrs={\"align\":\"right\"})[3].find(\"font\").get_text().replace(\",\",\"\") == 'N/A':\n",
    "        info.append(2587)\n",
    "    else:\n",
    "        info.append(int(r.find_all(\"td\", attrs={\"align\":\"right\"})[3].find(\"font\").get_text().replace(\",\",\"\")))\n",
    "    # Date of Opening\n",
    "    info.append(r.find_all(\"td\", attrs={\"align\":\"right\"})[4].find(\"a\").get_text())\n",
    "    # Date of Closing: Before 2002 they didn't have a \"closing\" date in their tables. We must account for this.\n",
    "    if (len(r.find_all(\"td\", attrs={\"align\":\"right\"})) <= 5):\n",
    "        info.append('-')\n",
    "    else:\n",
    "        info.append(r.find_all(\"td\", attrs={\"align\":\"right\"})[5].find(\"font\").get_text())\n",
    "    return info"
   ]
  },
  {
   "cell_type": "markdown",
   "metadata": {},
   "source": [
    "This is the image: <image src=“Example.png”>"
   ]
  },
  {
   "cell_type": "code",
   "execution_count": 5,
   "metadata": {
    "collapsed": true
   },
   "outputs": [],
   "source": [
    "fields = [\"ranking\", \"title\", \"gross\", \"total_theaters\", \"opening_gross\", \"opening_theaters\", \"open_date\", \"close_date\"]"
   ]
  },
  {
   "cell_type": "markdown",
   "metadata": {
    "collapsed": true
   },
   "source": [
    "Finally we're ready to scrape! <br>\n",
    "Because IMDB was created in 1990, we will scrape that far back in BOM. So we're scraping the past 26 years (1990 - 2015). Also note that because the HTML was changed starting in 2001, our scraping will be a little different before and after then."
   ]
  },
  {
   "cell_type": "code",
   "execution_count": 6,
   "metadata": {
    "collapsed": false
   },
   "outputs": [
    {
     "name": "stdout",
     "output_type": "stream",
     "text": [
      "CPU times: user 14 s, sys: 388 ms, total: 14.4 s\n",
      "Wall time: 46.3 s\n"
     ]
    }
   ],
   "source": [
    "%%time\n",
    "years = [1990 + i for i in range(26)]\n",
    "for year in years:\n",
    "    pageText = requests.get(\"http://www.boxofficemojo.com/yearly/chart/?yr=%(yr)d&p=.htm\" % {'yr':year})\n",
    "    soup = BeautifulSoup(pageText.text, \"html.parser\")\n",
    "    movieTable = soup.find(\"td\", attrs={\"colspan\":\"3\"})\n",
    "    movieRows = movieTable.find(\"table\").find_all(\"tr\")[2:102]\n",
    "    movie_dicts = [dict(zip(fields, rowInfoGrabber(row))) for row in movieRows]\n",
    "    year_df = pd.DataFrame(movie_dicts)\n",
    "    year_df['year'] = year\n",
    "    bom_df = bom_df.append(year_df, ignore_index=True)\n",
    "    time.sleep(1)"
   ]
  },
  {
   "cell_type": "code",
   "execution_count": 7,
   "metadata": {
    "collapsed": false
   },
   "outputs": [
    {
     "name": "stdout",
     "output_type": "stream",
     "text": [
      "(2600, 9)\n"
     ]
    },
    {
     "data": {
      "text/html": [
       "<div>\n",
       "<table border=\"1\" class=\"dataframe\">\n",
       "  <thead>\n",
       "    <tr style=\"text-align: right;\">\n",
       "      <th></th>\n",
       "      <th>close_date</th>\n",
       "      <th>gross</th>\n",
       "      <th>open_date</th>\n",
       "      <th>opening_gross</th>\n",
       "      <th>opening_theaters</th>\n",
       "      <th>ranking</th>\n",
       "      <th>title</th>\n",
       "      <th>total_theaters</th>\n",
       "      <th>year</th>\n",
       "    </tr>\n",
       "  </thead>\n",
       "  <tbody>\n",
       "    <tr>\n",
       "      <th>0</th>\n",
       "      <td>-</td>\n",
       "      <td>285761243</td>\n",
       "      <td>11/16</td>\n",
       "      <td>17081997</td>\n",
       "      <td>1202</td>\n",
       "      <td>1</td>\n",
       "      <td>Home Alone</td>\n",
       "      <td>2173</td>\n",
       "      <td>1990</td>\n",
       "    </tr>\n",
       "    <tr>\n",
       "      <th>1</th>\n",
       "      <td>-</td>\n",
       "      <td>217631306</td>\n",
       "      <td>7/13</td>\n",
       "      <td>12191540</td>\n",
       "      <td>1101</td>\n",
       "      <td>2</td>\n",
       "      <td>Ghost</td>\n",
       "      <td>1766</td>\n",
       "      <td>1990</td>\n",
       "    </tr>\n",
       "    <tr>\n",
       "      <th>2</th>\n",
       "      <td>-</td>\n",
       "      <td>184208848</td>\n",
       "      <td>11/9</td>\n",
       "      <td>598257</td>\n",
       "      <td>14</td>\n",
       "      <td>3</td>\n",
       "      <td>Dances with Wolves</td>\n",
       "      <td>1636</td>\n",
       "      <td>1990</td>\n",
       "    </tr>\n",
       "    <tr>\n",
       "      <th>3</th>\n",
       "      <td>-</td>\n",
       "      <td>178406268</td>\n",
       "      <td>3/23</td>\n",
       "      <td>11280591</td>\n",
       "      <td>1325</td>\n",
       "      <td>4</td>\n",
       "      <td>Pretty Woman</td>\n",
       "      <td>1811</td>\n",
       "      <td>1990</td>\n",
       "    </tr>\n",
       "    <tr>\n",
       "      <th>4</th>\n",
       "      <td>-</td>\n",
       "      <td>135265915</td>\n",
       "      <td>3/30</td>\n",
       "      <td>25398367</td>\n",
       "      <td>2006</td>\n",
       "      <td>5</td>\n",
       "      <td>Teenage Mutant Ninja Turtles</td>\n",
       "      <td>2377</td>\n",
       "      <td>1990</td>\n",
       "    </tr>\n",
       "  </tbody>\n",
       "</table>\n",
       "</div>"
      ],
      "text/plain": [
       "  close_date      gross open_date  opening_gross  opening_theaters  ranking                         title  total_theaters  year\n",
       "0          -  285761243     11/16       17081997              1202        1                    Home Alone            2173  1990\n",
       "1          -  217631306      7/13       12191540              1101        2                         Ghost            1766  1990\n",
       "2          -  184208848      11/9         598257                14        3            Dances with Wolves            1636  1990\n",
       "3          -  178406268      3/23       11280591              1325        4                  Pretty Woman            1811  1990\n",
       "4          -  135265915      3/30       25398367              2006        5  Teenage Mutant Ninja Turtles            2377  1990"
      ]
     },
     "execution_count": 7,
     "metadata": {},
     "output_type": "execute_result"
    }
   ],
   "source": [
    "print bom_df.shape\n",
    "bom_df.head()"
   ]
  },
  {
   "cell_type": "markdown",
   "metadata": {},
   "source": [
    "Because some films do not have a close date, we will have to be careful with the close date! Next, we combine the `close_date`, `open_date` and `year` columns into two columns `close_date` and `open_date` that are time series. This will make it easier for us to work with the data in the future. "
   ]
  },
  {
   "cell_type": "code",
   "execution_count": 8,
   "metadata": {
    "collapsed": false
   },
   "outputs": [],
   "source": [
    "# splitting the close_date and open_date into the respective month and day\n",
    "bom_df['close_month'] = bom_df['close_date'].map(lambda x: '0' if x=='-' else x[:x.find('/')])\n",
    "bom_df['close_day'] = bom_df['close_date'].map(lambda x: '0' if x=='-' else x[x.find('/')+1:len(x)])\n",
    "bom_df['open_month'] = bom_df['open_date'].map(lambda x: x[:x.find('/')])\n",
    "bom_df['open_day'] = bom_df['open_date'].map(lambda x: x[x.find('/')+1:len(x)])\n",
    "\n",
    "# dropping the old close_date and open_date\n",
    "bom_df = bom_df.drop('close_date', 1)\n",
    "bom_df = bom_df.drop('open_date', 1)\n",
    "\n",
    "# creating an open_year by turning the year column into a string and getting rid of trailing bits\n",
    "bom_df['open_year'] = bom_df.year.astype(str)\n",
    "bom_df['open_year'] = bom_df.open_year.map(lambda x: x[:x.find('.')])\n",
    "\n",
    "# creating a close_year column, by looking at whether the close month is earlier/later than the open month in the year\n",
    "close_month = bom_df['close_month'].astype(int)\n",
    "open_month = bom_df['open_month'].astype(int)\n",
    "year = bom_df['year'].astype(int)\n",
    "close_year=[]\n",
    "for i in range (0, len(year)):\n",
    "    if close_month[i] >= open_month[i]:\n",
    "        close_year.append(year[i])\n",
    "    else:\n",
    "        close_year.append(year[i]+1) \n",
    "bom_df['close_year'] = close_year\n",
    "bom_df['close_year'] = bom_df['close_year'].astype(str)"
   ]
  },
  {
   "cell_type": "code",
   "execution_count": 9,
   "metadata": {
    "collapsed": false
   },
   "outputs": [],
   "source": [
    "# making close_date and open_date by concatenating the year, month and day\n",
    "import datetime\n",
    "close_date = []\n",
    "for index, row in bom_df.iterrows():\n",
    "    if row.close_day != '0':\n",
    "        close_date.append(datetime.datetime(int(row.close_year), int(row.close_month), int(row.close_day)))\n",
    "    else: \n",
    "        close_date.append(None)\n",
    "bom_df['close_date'] = close_date\n",
    "\n",
    "bom_df['open_date']=bom_df.open_year + '-' + bom_df.open_month + '-' + bom_df.open_day\n",
    "bom_df['open_date']=bom_df['open_date'].apply(pd.datetools.parse)"
   ]
  },
  {
   "cell_type": "markdown",
   "metadata": {},
   "source": [
    "Let's take a look at the data, now!"
   ]
  },
  {
   "cell_type": "code",
   "execution_count": 10,
   "metadata": {
    "collapsed": false
   },
   "outputs": [
    {
     "data": {
      "text/html": [
       "<div>\n",
       "<table border=\"1\" class=\"dataframe\">\n",
       "  <thead>\n",
       "    <tr style=\"text-align: right;\">\n",
       "      <th></th>\n",
       "      <th>gross</th>\n",
       "      <th>opening_gross</th>\n",
       "      <th>opening_theaters</th>\n",
       "      <th>ranking</th>\n",
       "      <th>title</th>\n",
       "      <th>total_theaters</th>\n",
       "      <th>year</th>\n",
       "      <th>close_month</th>\n",
       "      <th>close_day</th>\n",
       "      <th>open_month</th>\n",
       "      <th>open_day</th>\n",
       "      <th>open_year</th>\n",
       "      <th>close_year</th>\n",
       "      <th>close_date</th>\n",
       "      <th>open_date</th>\n",
       "    </tr>\n",
       "  </thead>\n",
       "  <tbody>\n",
       "    <tr>\n",
       "      <th>0</th>\n",
       "      <td>285761243</td>\n",
       "      <td>17081997</td>\n",
       "      <td>1202</td>\n",
       "      <td>1</td>\n",
       "      <td>Home Alone</td>\n",
       "      <td>2173</td>\n",
       "      <td>1990</td>\n",
       "      <td>0</td>\n",
       "      <td>0</td>\n",
       "      <td>11</td>\n",
       "      <td>16</td>\n",
       "      <td>1990</td>\n",
       "      <td>1991</td>\n",
       "      <td>None</td>\n",
       "      <td>1990-11-16</td>\n",
       "    </tr>\n",
       "    <tr>\n",
       "      <th>1</th>\n",
       "      <td>217631306</td>\n",
       "      <td>12191540</td>\n",
       "      <td>1101</td>\n",
       "      <td>2</td>\n",
       "      <td>Ghost</td>\n",
       "      <td>1766</td>\n",
       "      <td>1990</td>\n",
       "      <td>0</td>\n",
       "      <td>0</td>\n",
       "      <td>7</td>\n",
       "      <td>13</td>\n",
       "      <td>1990</td>\n",
       "      <td>1991</td>\n",
       "      <td>None</td>\n",
       "      <td>1990-07-13</td>\n",
       "    </tr>\n",
       "    <tr>\n",
       "      <th>2</th>\n",
       "      <td>184208848</td>\n",
       "      <td>598257</td>\n",
       "      <td>14</td>\n",
       "      <td>3</td>\n",
       "      <td>Dances with Wolves</td>\n",
       "      <td>1636</td>\n",
       "      <td>1990</td>\n",
       "      <td>0</td>\n",
       "      <td>0</td>\n",
       "      <td>11</td>\n",
       "      <td>9</td>\n",
       "      <td>1990</td>\n",
       "      <td>1991</td>\n",
       "      <td>None</td>\n",
       "      <td>1990-11-09</td>\n",
       "    </tr>\n",
       "    <tr>\n",
       "      <th>3</th>\n",
       "      <td>178406268</td>\n",
       "      <td>11280591</td>\n",
       "      <td>1325</td>\n",
       "      <td>4</td>\n",
       "      <td>Pretty Woman</td>\n",
       "      <td>1811</td>\n",
       "      <td>1990</td>\n",
       "      <td>0</td>\n",
       "      <td>0</td>\n",
       "      <td>3</td>\n",
       "      <td>23</td>\n",
       "      <td>1990</td>\n",
       "      <td>1991</td>\n",
       "      <td>None</td>\n",
       "      <td>1990-03-23</td>\n",
       "    </tr>\n",
       "    <tr>\n",
       "      <th>4</th>\n",
       "      <td>135265915</td>\n",
       "      <td>25398367</td>\n",
       "      <td>2006</td>\n",
       "      <td>5</td>\n",
       "      <td>Teenage Mutant Ninja Turtles</td>\n",
       "      <td>2377</td>\n",
       "      <td>1990</td>\n",
       "      <td>0</td>\n",
       "      <td>0</td>\n",
       "      <td>3</td>\n",
       "      <td>30</td>\n",
       "      <td>1990</td>\n",
       "      <td>1991</td>\n",
       "      <td>None</td>\n",
       "      <td>1990-03-30</td>\n",
       "    </tr>\n",
       "  </tbody>\n",
       "</table>\n",
       "</div>"
      ],
      "text/plain": [
       "       gross  opening_gross  opening_theaters  ranking                         title  total_theaters  year close_month close_day open_month open_day open_year close_year close_date  open_date\n",
       "0  285761243       17081997              1202        1                    Home Alone            2173  1990           0         0         11       16      1990       1991       None 1990-11-16\n",
       "1  217631306       12191540              1101        2                         Ghost            1766  1990           0         0          7       13      1990       1991       None 1990-07-13\n",
       "2  184208848         598257                14        3            Dances with Wolves            1636  1990           0         0         11        9      1990       1991       None 1990-11-09\n",
       "3  178406268       11280591              1325        4                  Pretty Woman            1811  1990           0         0          3       23      1990       1991       None 1990-03-23\n",
       "4  135265915       25398367              2006        5  Teenage Mutant Ninja Turtles            2377  1990           0         0          3       30      1990       1991       None 1990-03-30"
      ]
     },
     "execution_count": 10,
     "metadata": {},
     "output_type": "execute_result"
    }
   ],
   "source": [
    "bom_df.head()"
   ]
  },
  {
   "cell_type": "markdown",
   "metadata": {},
   "source": [
    "Let's take a look at if we can get the run times for each movie!"
   ]
  },
  {
   "cell_type": "code",
   "execution_count": 11,
   "metadata": {
    "collapsed": false
   },
   "outputs": [],
   "source": [
    "run_time=[]\n",
    "for index, row in bom_df.iterrows():\n",
    "    if row.close_date != None:\n",
    "        run_time.append(row['close_date']-row['open_date'])\n",
    "    else: \n",
    "        run_time.append('N/A')"
   ]
  },
  {
   "cell_type": "markdown",
   "metadata": {},
   "source": [
    "Looks like the data is ready for us to use! Let's save this data so we're ready to use it next time. "
   ]
  },
  {
   "cell_type": "code",
   "execution_count": 12,
   "metadata": {
    "collapsed": false
   },
   "outputs": [
    {
     "name": "stdout",
     "output_type": "stream",
     "text": [
      "Requirement already satisfied (use --upgrade to upgrade): pymongo in /Users/Stephen/anaconda/lib/python2.7/site-packages\r\n"
     ]
    }
   ],
   "source": [
    "! pip install pymongo"
   ]
  },
  {
   "cell_type": "code",
   "execution_count": 13,
   "metadata": {
    "collapsed": false
   },
   "outputs": [],
   "source": [
    "# Save the movie Dictionaries corresponding to each row of the BoxOfficeMojo table.\n",
    "import json # (dong)\n",
    "import pymongo\n",
    "from bson import json_util\n",
    "\n",
    "# Make a dictionary out of the dataset for storage in JSON format.\n",
    "movieSaved = {feature: bom_df[feature].values.tolist() for feature in bom_df.columns.values}\n",
    "fp = open(\"allMovies.json\",\"w\")\n",
    "json.dump(movieSaved, fp, default=json_util.default)\n",
    "fp.close()"
   ]
  },
  {
   "cell_type": "markdown",
   "metadata": {
    "collapsed": true
   },
   "source": [
    "### Loading and preparing IMDB review dataset"
   ]
  },
  {
   "cell_type": "markdown",
   "metadata": {},
   "source": [
    "We have cleaned up our IMDB review dataset in the ipython notebook `IMDB_reviews.ipynb`. From that notebook we have been able to save dictionaries of our data, which we will now call. "
   ]
  },
  {
   "cell_type": "code",
   "execution_count": 14,
   "metadata": {
    "collapsed": false
   },
   "outputs": [],
   "source": [
    "with open(\"train_df_dict.json\", \"r\") as fd:\n",
    "    train_df_dict = json.load(fd)\n",
    "with open(\"test_df_dict.json\", \"r\") as fd:\n",
    "    test_df_dict = json.load(fd)"
   ]
  },
  {
   "cell_type": "code",
   "execution_count": 15,
   "metadata": {
    "collapsed": false
   },
   "outputs": [],
   "source": [
    "train_df = pd.DataFrame(train_df_dict)\n",
    "test_df = pd.DataFrame(test_df_dict)"
   ]
  },
  {
   "cell_type": "markdown",
   "metadata": {},
   "source": [
    "The Stanford group distinguishes between train and test because this was relevant for their project. This may prove to be useful later, so we will keep two separate dataframes. However, for our purposes at the moment, we can combine them since the BOM data will serve as our true data set."
   ]
  },
  {
   "cell_type": "code",
   "execution_count": 16,
   "metadata": {
    "collapsed": true
   },
   "outputs": [],
   "source": [
    "IMDB_df = train_df.append(test_df)"
   ]
  },
  {
   "cell_type": "markdown",
   "metadata": {},
   "source": [
    "We want to figure out which movies from IMDB_df are also present in our BOM DF. So let's get all the movie titles in our BOM table. "
   ]
  },
  {
   "cell_type": "code",
   "execution_count": 17,
   "metadata": {
    "collapsed": false
   },
   "outputs": [],
   "source": [
    "BOM_movie_list = bom_df.title.values.tolist()"
   ]
  },
  {
   "cell_type": "markdown",
   "metadata": {},
   "source": [
    "Now let's create a mask over IMDB_df, the boolean values of which indicate whether or not a movie is in the BOM list."
   ]
  },
  {
   "cell_type": "code",
   "execution_count": 18,
   "metadata": {
    "collapsed": false
   },
   "outputs": [],
   "source": [
    "movie_mask = [(movie in BOM_movie_list) for movie in IMDB_df.movie_name]"
   ]
  },
  {
   "cell_type": "code",
   "execution_count": 19,
   "metadata": {
    "collapsed": false
   },
   "outputs": [
    {
     "data": {
      "text/plain": [
       "4111"
      ]
     },
     "execution_count": 19,
     "metadata": {},
     "output_type": "execute_result"
    }
   ],
   "source": [
    "sum(movie_mask)"
   ]
  },
  {
   "cell_type": "markdown",
   "metadata": {},
   "source": [
    "We can now create our IMDB data frame with only those movies that also appear in the BOM tables from 1990 - 2015. "
   ]
  },
  {
   "cell_type": "code",
   "execution_count": 20,
   "metadata": {
    "collapsed": false
   },
   "outputs": [],
   "source": [
    "IMDB_dftouse=IMDB_df[movie_mask]"
   ]
  },
  {
   "cell_type": "markdown",
   "metadata": {},
   "source": [
    "Finally we want to save our dictionary of IMDB_dftouse into a JSON file for storage."
   ]
  },
  {
   "cell_type": "code",
   "execution_count": 21,
   "metadata": {
    "collapsed": true
   },
   "outputs": [],
   "source": [
    "IMDB_dftouse_dict = {feature: IMDB_dftouse[feature].values.tolist() for feature in IMDB_dftouse.columns.values}\n",
    "fp = open(\"IMDB_dftouse_dict.json\",\"w\")\n",
    "json.dump(IMDB_dftouse_dict, fp)\n",
    "fp.close()"
   ]
  },
  {
   "cell_type": "code",
   "execution_count": 22,
   "metadata": {
    "collapsed": true
   },
   "outputs": [],
   "source": [
    "# Reopen\n",
    "with open(\"IMDB_dftouse_dict.json\", \"r\") as fd:\n",
    "    IMDB_dftouse_dict = json.load(fd)\n",
    "IMDB_dftouse = pd.DataFrame(IMDB_dftouse_dict)"
   ]
  },
  {
   "cell_type": "markdown",
   "metadata": {},
   "source": [
    "## Analyzing and Saving Review Attributes Using labMT Happiness Dictionary"
   ]
  },
  {
   "cell_type": "markdown",
   "metadata": {},
   "source": [
    "Now let's download labMT, a word score list for sentiment analysis containing over 10,000 words. The file contains a \"happiness\" value, and ranks words by their happiness. It also includes mean and standard deviation, Twitter rank and Google rank."
   ]
  },
  {
   "cell_type": "code",
   "execution_count": 23,
   "metadata": {
    "collapsed": false
   },
   "outputs": [],
   "source": [
    "url = 'http://www.plosone.org/article/fetchSingleRepresentation.action?uri=info:doi/10.1371/journal.pone.0026752.s001'\n",
    "labmt = pd.read_csv(url, skiprows=2, sep='\\t', index_col=0)"
   ]
  },
  {
   "cell_type": "code",
   "execution_count": 24,
   "metadata": {
    "collapsed": false
   },
   "outputs": [
    {
     "data": {
      "text/html": [
       "<div>\n",
       "<table border=\"1\" class=\"dataframe\">\n",
       "  <thead>\n",
       "    <tr style=\"text-align: right;\">\n",
       "      <th></th>\n",
       "      <th>happiness_rank</th>\n",
       "      <th>happiness_average</th>\n",
       "      <th>happiness_standard_deviation</th>\n",
       "      <th>twitter_rank</th>\n",
       "      <th>google_rank</th>\n",
       "      <th>nyt_rank</th>\n",
       "      <th>lyrics_rank</th>\n",
       "    </tr>\n",
       "    <tr>\n",
       "      <th>word</th>\n",
       "      <th></th>\n",
       "      <th></th>\n",
       "      <th></th>\n",
       "      <th></th>\n",
       "      <th></th>\n",
       "      <th></th>\n",
       "      <th></th>\n",
       "    </tr>\n",
       "  </thead>\n",
       "  <tbody>\n",
       "    <tr>\n",
       "      <th>laughter</th>\n",
       "      <td>1</td>\n",
       "      <td>8.50</td>\n",
       "      <td>0.9313</td>\n",
       "      <td>3600</td>\n",
       "      <td>--</td>\n",
       "      <td>--</td>\n",
       "      <td>1728</td>\n",
       "    </tr>\n",
       "    <tr>\n",
       "      <th>happiness</th>\n",
       "      <td>2</td>\n",
       "      <td>8.44</td>\n",
       "      <td>0.9723</td>\n",
       "      <td>1853</td>\n",
       "      <td>2458</td>\n",
       "      <td>--</td>\n",
       "      <td>1230</td>\n",
       "    </tr>\n",
       "    <tr>\n",
       "      <th>love</th>\n",
       "      <td>3</td>\n",
       "      <td>8.42</td>\n",
       "      <td>1.1082</td>\n",
       "      <td>25</td>\n",
       "      <td>317</td>\n",
       "      <td>328</td>\n",
       "      <td>23</td>\n",
       "    </tr>\n",
       "    <tr>\n",
       "      <th>happy</th>\n",
       "      <td>4</td>\n",
       "      <td>8.30</td>\n",
       "      <td>0.9949</td>\n",
       "      <td>65</td>\n",
       "      <td>1372</td>\n",
       "      <td>1313</td>\n",
       "      <td>375</td>\n",
       "    </tr>\n",
       "    <tr>\n",
       "      <th>laughed</th>\n",
       "      <td>5</td>\n",
       "      <td>8.26</td>\n",
       "      <td>1.1572</td>\n",
       "      <td>3334</td>\n",
       "      <td>3542</td>\n",
       "      <td>--</td>\n",
       "      <td>2332</td>\n",
       "    </tr>\n",
       "  </tbody>\n",
       "</table>\n",
       "</div>"
      ],
      "text/plain": [
       "           happiness_rank  happiness_average  happiness_standard_deviation twitter_rank google_rank nyt_rank lyrics_rank\n",
       "word                                                                                                                    \n",
       "laughter                1               8.50                        0.9313         3600          --       --        1728\n",
       "happiness               2               8.44                        0.9723         1853        2458       --        1230\n",
       "love                    3               8.42                        1.1082           25         317      328          23\n",
       "happy                   4               8.30                        0.9949           65        1372     1313         375\n",
       "laughed                 5               8.26                        1.1572         3334        3542       --        2332"
      ]
     },
     "execution_count": 24,
     "metadata": {},
     "output_type": "execute_result"
    }
   ],
   "source": [
    "labmt.head()"
   ]
  },
  {
   "cell_type": "markdown",
   "metadata": {},
   "source": [
    "Now let's create a happiness dictionary of (word, valence) pairs where each valence is that word's original valence minus the average valence."
   ]
  },
  {
   "cell_type": "code",
   "execution_count": 25,
   "metadata": {
    "collapsed": true
   },
   "outputs": [],
   "source": [
    "average = labmt.happiness_average.mean()\n",
    "happiness = (labmt.happiness_average - average).to_dict()"
   ]
  },
  {
   "cell_type": "code",
   "execution_count": 26,
   "metadata": {
    "collapsed": false
   },
   "outputs": [
    {
     "name": "stdout",
     "output_type": "stream",
     "text": [
      "Score(happy):  2.92476032088\n",
      "Score(miserable):  -2.83523967912\n",
      "Best score:  3.12476032088\n",
      "Worst score:  -4.07523967912\n"
     ]
    }
   ],
   "source": [
    "print \"Score(happy): \", happiness['happy']\n",
    "print \"Score(miserable): \", happiness['miserable']\n",
    "print \"Best score: \", max(happiness.values())\n",
    "print \"Worst score: \", min(happiness.values())"
   ]
  },
  {
   "cell_type": "code",
   "execution_count": 27,
   "metadata": {
    "collapsed": true
   },
   "outputs": [],
   "source": [
    "# Save to disc\n",
    "fp = open(\"happiness.json\",\"w\")\n",
    "json.dump(happiness, fp)\n",
    "fp.close()"
   ]
  },
  {
   "cell_type": "code",
   "execution_count": 28,
   "metadata": {
    "collapsed": true
   },
   "outputs": [],
   "source": [
    "# Reopen\n",
    "with open(\"happiness.json\", \"r\") as fp:\n",
    "    happiness = json.load(fp)"
   ]
  },
  {
   "cell_type": "markdown",
   "metadata": {},
   "source": [
    "Now let's collect several attributes from a given review's text body, and save all valuable information into a new data frame. First we define a function that removes stop words (all non important words from a valence perspective) from a text body."
   ]
  },
  {
   "cell_type": "code",
   "execution_count": 29,
   "metadata": {
    "collapsed": true
   },
   "outputs": [],
   "source": [
    "from sklearn.feature_extraction import text\n",
    "stopwords = text.ENGLISH_STOP_WORDS\n",
    "punctuation = list('.,;:!?()[]{}`''\\\"@#$%^&*+-|-=~_')\n",
    "\n",
    "def removeStopWords(text, stopwords = stopwords):\n",
    "    new_text = \"\"\n",
    "    for word in text.split():\n",
    "        if word not in stopwords:\n",
    "            while len(word) != 0 and word[-1] in punctuation:\n",
    "                word = word[:len(word)-1]\n",
    "            new_text += word + ' '\n",
    "    return new_text"
   ]
  },
  {
   "cell_type": "markdown",
   "metadata": {},
   "source": [
    "Now we'll write a function that returns total happiness, average happiness, total scorable words, and percentage of scorable words in a given review text."
   ]
  },
  {
   "cell_type": "code",
   "execution_count": 30,
   "metadata": {
    "collapsed": true
   },
   "outputs": [],
   "source": [
    "'''\n",
    "Name: getValenceInfo()\n",
    "Inputs: review text, dictionary of happiness\n",
    "Returns: a 4-tuple of (happiness total, happiness average, total # of scorable words, % of scorable words)\n",
    "'''\n",
    "def getValenceInfo(text, valenceDict):\n",
    "    total_words = len(text.split())\n",
    "    happiness_total, count_relevant = 0, 0\n",
    "    for word in text.split():\n",
    "        if word in valenceDict.keys():\n",
    "            count_relevant += 1\n",
    "            happiness_total += valenceDict[word]\n",
    "    if count_relevant != 0: \n",
    "        avg_valence = 1.*happiness_total/count_relevant\n",
    "    else: \n",
    "        avg_valence = 0\n",
    "    return happiness_total, avg_valence, total_words, 1.*count_relevant / total_words"
   ]
  },
  {
   "cell_type": "markdown",
   "metadata": {},
   "source": [
    "Now we'll write a function that, given a data frame, returns a new data frame with the concatenation of valence (happiness) info in 4 new columns: valence sum, valence average, # of scorable words, % of scorable words."
   ]
  },
  {
   "cell_type": "code",
   "execution_count": 31,
   "metadata": {
    "collapsed": true
   },
   "outputs": [],
   "source": [
    "'''\n",
    "Name: getAllInfo\n",
    "Input: data frame, happiness dictionary, list of stop words\n",
    "Returns: a new data frame with 4 new columns: valence_sum, valence_avg, n_scorables, pct_scorables\n",
    "'''\n",
    "def getAllInfo(df, valenceDict, stopwords): \n",
    "    valence_suml, valence_avgl, review_lenl, review_fractionl = [], [], [], []\n",
    "    for i, row in df.iterrows():\n",
    "        cleaned_review = removeStopWords(row['text'], stopwords)\n",
    "        valence_sum, valence_avg, review_len, review_fraction = getValenceInfo(cleaned_review, valenceDict)\n",
    "        valence_suml.append(valence_sum)\n",
    "        valence_avgl.append(valence_avg)\n",
    "        review_lenl.append(review_len)\n",
    "        review_fractionl.append(review_fraction)\n",
    "    conc = pd.DataFrame({'valence_sum': valence_suml, 'valence_avg':valence_avgl ,'n_scorables': review_lenl, \n",
    "                         'pct_scorables': review_fractionl})\n",
    "    return pd.concat([df, conc], axis=1)"
   ]
  },
  {
   "cell_type": "markdown",
   "metadata": {},
   "source": [
    "Now let's create a new dataframe `valence_df` with the valence statistics run on our IMDB_df. This code takes a few minutes to run."
   ]
  },
  {
   "cell_type": "code",
   "execution_count": 32,
   "metadata": {
    "collapsed": false
   },
   "outputs": [
    {
     "name": "stdout",
     "output_type": "stream",
     "text": [
      "CPU times: user 2min 47s, sys: 905 ms, total: 2min 48s\n",
      "Wall time: 2min 48s\n"
     ]
    }
   ],
   "source": [
    "%%time\n",
    "valence_df = getAllInfo(IMDB_dftouse, happiness, stopwords)"
   ]
  },
  {
   "cell_type": "code",
   "execution_count": 33,
   "metadata": {
    "collapsed": false
   },
   "outputs": [
    {
     "data": {
      "text/html": [
       "<div>\n",
       "<table border=\"1\" class=\"dataframe\">\n",
       "  <thead>\n",
       "    <tr style=\"text-align: right;\">\n",
       "      <th></th>\n",
       "      <th>movie_id</th>\n",
       "      <th>movie_name</th>\n",
       "      <th>positive</th>\n",
       "      <th>stars</th>\n",
       "      <th>text</th>\n",
       "      <th>url</th>\n",
       "      <th>n_scorables</th>\n",
       "      <th>pct_scorables</th>\n",
       "      <th>valence_avg</th>\n",
       "      <th>valence_sum</th>\n",
       "    </tr>\n",
       "  </thead>\n",
       "  <tbody>\n",
       "    <tr>\n",
       "      <th>0</th>\n",
       "      <td>10027</td>\n",
       "      <td>Titanic</td>\n",
       "      <td>True</td>\n",
       "      <td>7</td>\n",
       "      <td>Sure, Titanic was a good movie, the first time...</td>\n",
       "      <td>http://www.imdb.com/title/tt0120338/usercommen...</td>\n",
       "      <td>120</td>\n",
       "      <td>0.666667</td>\n",
       "      <td>0.479760</td>\n",
       "      <td>38.380826</td>\n",
       "    </tr>\n",
       "    <tr>\n",
       "      <th>1</th>\n",
       "      <td>10028</td>\n",
       "      <td>Titanic</td>\n",
       "      <td>True</td>\n",
       "      <td>10</td>\n",
       "      <td>When I saw this movie I was stunned by what a ...</td>\n",
       "      <td>http://www.imdb.com/title/tt0120338/usercommen...</td>\n",
       "      <td>65</td>\n",
       "      <td>0.538462</td>\n",
       "      <td>0.508760</td>\n",
       "      <td>17.806611</td>\n",
       "    </tr>\n",
       "    <tr>\n",
       "      <th>2</th>\n",
       "      <td>10029</td>\n",
       "      <td>Titanic</td>\n",
       "      <td>True</td>\n",
       "      <td>10</td>\n",
       "      <td>Why do people bitch about this movie and not a...</td>\n",
       "      <td>http://www.imdb.com/title/tt0120338/usercommen...</td>\n",
       "      <td>75</td>\n",
       "      <td>0.586667</td>\n",
       "      <td>0.710669</td>\n",
       "      <td>31.269454</td>\n",
       "    </tr>\n",
       "    <tr>\n",
       "      <th>3</th>\n",
       "      <td>10030</td>\n",
       "      <td>Titanic</td>\n",
       "      <td>True</td>\n",
       "      <td>10</td>\n",
       "      <td>What's inexplicable? Firstly, the hatred towar...</td>\n",
       "      <td>http://www.imdb.com/title/tt0120338/usercommen...</td>\n",
       "      <td>235</td>\n",
       "      <td>0.587234</td>\n",
       "      <td>0.239253</td>\n",
       "      <td>33.016924</td>\n",
       "    </tr>\n",
       "    <tr>\n",
       "      <th>4</th>\n",
       "      <td>10031</td>\n",
       "      <td>Titanic</td>\n",
       "      <td>True</td>\n",
       "      <td>10</td>\n",
       "      <td>Previously, I wrote that I loved \"Titanic\", cr...</td>\n",
       "      <td>http://www.imdb.com/title/tt0120338/usercommen...</td>\n",
       "      <td>302</td>\n",
       "      <td>0.450331</td>\n",
       "      <td>0.189907</td>\n",
       "      <td>25.827404</td>\n",
       "    </tr>\n",
       "  </tbody>\n",
       "</table>\n",
       "</div>"
      ],
      "text/plain": [
       "   movie_id movie_name positive  stars                                               text                                                url  n_scorables  pct_scorables  valence_avg  valence_sum\n",
       "0     10027    Titanic     True      7  Sure, Titanic was a good movie, the first time...  http://www.imdb.com/title/tt0120338/usercommen...          120       0.666667     0.479760    38.380826\n",
       "1     10028    Titanic     True     10  When I saw this movie I was stunned by what a ...  http://www.imdb.com/title/tt0120338/usercommen...           65       0.538462     0.508760    17.806611\n",
       "2     10029    Titanic     True     10  Why do people bitch about this movie and not a...  http://www.imdb.com/title/tt0120338/usercommen...           75       0.586667     0.710669    31.269454\n",
       "3     10030    Titanic     True     10  What's inexplicable? Firstly, the hatred towar...  http://www.imdb.com/title/tt0120338/usercommen...          235       0.587234     0.239253    33.016924\n",
       "4     10031    Titanic     True     10  Previously, I wrote that I loved \"Titanic\", cr...  http://www.imdb.com/title/tt0120338/usercommen...          302       0.450331     0.189907    25.827404"
      ]
     },
     "execution_count": 33,
     "metadata": {},
     "output_type": "execute_result"
    }
   ],
   "source": [
    "valence_df.head()"
   ]
  },
  {
   "cell_type": "code",
   "execution_count": 34,
   "metadata": {
    "collapsed": true
   },
   "outputs": [],
   "source": [
    "# Convert True/False to 1/0: needed to make valence_df JSON serializable, also better practice\n",
    "valence_df.positive = 1.0*valence_df.positive"
   ]
  },
  {
   "cell_type": "code",
   "execution_count": 35,
   "metadata": {
    "collapsed": true
   },
   "outputs": [],
   "source": [
    "# Save to disc\n",
    "fp = open(\"valence_df_dict.json\",\"w\")\n",
    "json.dump(valence_df.to_dict(), fp)\n",
    "fp.close()"
   ]
  },
  {
   "cell_type": "code",
   "execution_count": 36,
   "metadata": {
    "collapsed": true
   },
   "outputs": [],
   "source": [
    "# Reopen\n",
    "with open(\"valence_df_dict.json\", \"r\") as fp:\n",
    "    valence_df_dict = json.load(fp)\n",
    "valence_df = pd.DataFrame(valence_df_dict)"
   ]
  },
  {
   "cell_type": "markdown",
   "metadata": {},
   "source": [
    "## Milestone 2: Analysing and visualizing the data"
   ]
  },
  {
   "cell_type": "markdown",
   "metadata": {},
   "source": [
    "### Descriptive statistics"
   ]
  },
  {
   "cell_type": "markdown",
   "metadata": {},
   "source": [
    "### Does valence correlate with stars given?"
   ]
  },
  {
   "cell_type": "code",
   "execution_count": 37,
   "metadata": {
    "collapsed": false
   },
   "outputs": [
    {
     "data": {
      "text/plain": [
       "<matplotlib.axes._subplots.AxesSubplot at 0x117568f10>"
      ]
     },
     "execution_count": 37,
     "metadata": {},
     "output_type": "execute_result"
    },
    {
     "name": "stderr",
     "output_type": "stream",
     "text": [
      "/Users/Stephen/anaconda/lib/python2.7/site-packages/matplotlib/collections.py:590: FutureWarning: elementwise comparison failed; returning scalar instead, but in the future will perform elementwise comparison\n",
      "  if self._edgecolors == str('face'):\n"
     ]
    },
    {
     "data": {
      "image/png": "[encoded data removed]",
      "text/plain": [
       "<matplotlib.figure.Figure at 0x10eaa3710>"
      ]
     },
     "metadata": {},
     "output_type": "display_data"
    }
   ],
   "source": [
    "stars_val_avg = ols('stars ~ valence_avg',valence_df).fit()\n",
    "stars_val_avg.summary()\n",
    "sns.regplot(y=\"valence_avg\", x=\"stars\", data=valence_df)\n",
    "# plt.plot(valence_df.stars,valence_df.valence_avg,'.',alpha=0.6)"
   ]
  },
  {
   "cell_type": "markdown",
   "metadata": {},
   "source": [
    "Yes it does, to some extent. The explanatory power is not high though..."
   ]
  },
  {
   "cell_type": "code",
   "execution_count": 38,
   "metadata": {
    "collapsed": false
   },
   "outputs": [
    {
     "data": {
      "image/png": "[encoded data removed]",
      "text/plain": [
       "<matplotlib.figure.Figure at 0x10e6aad50>"
      ]
     },
     "metadata": {},
     "output_type": "display_data"
    }
   ],
   "source": [
    "graph_val_avg = plt.hist(valence_df.valence_sum[valence_df.stars >=7],bins=40,alpha=0.7,label=\"Positive reviews\")\n",
    "graph_val_avg = plt.hist(valence_df.valence_sum[valence_df.stars <=4],bins=40,alpha=0.7,label=\"Negative reviews\")\n",
    "graph_val_avg = plt.title(\"Valence sum for positive and negative reviews\")\n",
    "graph_val_avg = plt.xlabel(\"Sum of valence\")\n",
    "graph_val_avg = plt.ylabel(\"Frequency\")\n",
    "graph_val_avg = plt.legend(loc='upper right')"
   ]
  },
  {
   "cell_type": "code",
   "execution_count": 39,
   "metadata": {
    "collapsed": false,
    "scrolled": false
   },
   "outputs": [
    {
     "data": {
      "image/png": "[encoded data removed]",
      "text/plain": [
       "<matplotlib.figure.Figure at 0x10ef02b90>"
      ]
     },
     "metadata": {},
     "output_type": "display_data"
    }
   ],
   "source": [
    "graph_val_avg = plt.hist(valence_df.valence_avg[valence_df.stars >=7],bins=40,alpha=0.7,label=\"Positive reviews\")\n",
    "graph_val_avg = plt.hist(valence_df.valence_avg[valence_df.stars <=4],bins=40,alpha=0.7,label=\"Negative reviews\")\n",
    "graph_val_avg = plt.title(\"Valence average for positive and negative reviews\")\n",
    "graph_val_avg = plt.xlabel(\"Average valence\")\n",
    "graph_val_avg = plt.ylabel(\"Frequency\")\n",
    "graph23 = plt.legend(loc='upper left')"
   ]
  },
  {
   "cell_type": "markdown",
   "metadata": {},
   "source": [
    "Now we'll import allMoives_new.json. Remember that we still need to convert some of the columns into the datetime type so we'll do that afterwards. "
   ]
  },
  {
   "cell_type": "code",
   "execution_count": 40,
   "metadata": {
    "collapsed": false
   },
   "outputs": [],
   "source": [
    "with open(\"allMovies.json\", \"r\") as fd:\n",
    "    bom_df = json.load(fd)\n",
    "    bom_df = pd.DataFrame(bom_df)"
   ]
  },
  {
   "cell_type": "code",
   "execution_count": 41,
   "metadata": {
    "collapsed": false
   },
   "outputs": [
    {
     "data": {
      "text/html": [
       "<div>\n",
       "<table border=\"1\" class=\"dataframe\">\n",
       "  <thead>\n",
       "    <tr style=\"text-align: right;\">\n",
       "      <th></th>\n",
       "      <th>close_date</th>\n",
       "      <th>close_day</th>\n",
       "      <th>close_month</th>\n",
       "      <th>close_year</th>\n",
       "      <th>gross</th>\n",
       "      <th>open_date</th>\n",
       "      <th>open_day</th>\n",
       "      <th>open_month</th>\n",
       "      <th>open_year</th>\n",
       "      <th>opening_gross</th>\n",
       "      <th>opening_theaters</th>\n",
       "      <th>ranking</th>\n",
       "      <th>title</th>\n",
       "      <th>total_theaters</th>\n",
       "      <th>year</th>\n",
       "    </tr>\n",
       "  </thead>\n",
       "  <tbody>\n",
       "    <tr>\n",
       "      <th>2572</th>\n",
       "      <td>{u'$date': 1446076800000}</td>\n",
       "      <td>29</td>\n",
       "      <td>10</td>\n",
       "      <td>2015</td>\n",
       "      <td>27740955</td>\n",
       "      <td>1440115200000000000</td>\n",
       "      <td>21</td>\n",
       "      <td>8</td>\n",
       "      <td>2015</td>\n",
       "      <td>10542116</td>\n",
       "      <td>2766</td>\n",
       "      <td>73</td>\n",
       "      <td>Sinister 2</td>\n",
       "      <td>2799</td>\n",
       "      <td>2015</td>\n",
       "    </tr>\n",
       "    <tr>\n",
       "      <th>2573</th>\n",
       "      <td>{u'$date': 1448496000000}</td>\n",
       "      <td>26</td>\n",
       "      <td>11</td>\n",
       "      <td>2015</td>\n",
       "      <td>27288872</td>\n",
       "      <td>1440547200000000000</td>\n",
       "      <td>26</td>\n",
       "      <td>8</td>\n",
       "      <td>2015</td>\n",
       "      <td>8111264</td>\n",
       "      <td>3355</td>\n",
       "      <td>74</td>\n",
       "      <td>No Escape</td>\n",
       "      <td>3415</td>\n",
       "      <td>2015</td>\n",
       "    </tr>\n",
       "    <tr>\n",
       "      <th>2574</th>\n",
       "      <td>None</td>\n",
       "      <td>0</td>\n",
       "      <td>0</td>\n",
       "      <td>2016</td>\n",
       "      <td>27001705</td>\n",
       "      <td>1445558400000000000</td>\n",
       "      <td>23</td>\n",
       "      <td>10</td>\n",
       "      <td>2015</td>\n",
       "      <td>10812861</td>\n",
       "      <td>3082</td>\n",
       "      <td>75</td>\n",
       "      <td>The Last Witch Hunter</td>\n",
       "      <td>3082</td>\n",
       "      <td>2015</td>\n",
       "    </tr>\n",
       "    <tr>\n",
       "      <th>2575</th>\n",
       "      <td>None</td>\n",
       "      <td>0</td>\n",
       "      <td>0</td>\n",
       "      <td>2016</td>\n",
       "      <td>26822144</td>\n",
       "      <td>1438905600000000000</td>\n",
       "      <td>7</td>\n",
       "      <td>8</td>\n",
       "      <td>2015</td>\n",
       "      <td>6610961</td>\n",
       "      <td>1603</td>\n",
       "      <td>76</td>\n",
       "      <td>Ricki and the Flash</td>\n",
       "      <td>2064</td>\n",
       "      <td>2015</td>\n",
       "    </tr>\n",
       "    <tr>\n",
       "      <th>2576</th>\n",
       "      <td>{u'$date': 1426723200000}</td>\n",
       "      <td>19</td>\n",
       "      <td>3</td>\n",
       "      <td>2015</td>\n",
       "      <td>26501323</td>\n",
       "      <td>1420156800000000000</td>\n",
       "      <td>2</td>\n",
       "      <td>1</td>\n",
       "      <td>2015</td>\n",
       "      <td>15027415</td>\n",
       "      <td>2602</td>\n",
       "      <td>77</td>\n",
       "      <td>The Woman in Black 2: Angel of Death</td>\n",
       "      <td>2602</td>\n",
       "      <td>2015</td>\n",
       "    </tr>\n",
       "  </tbody>\n",
       "</table>\n",
       "</div>"
      ],
      "text/plain": [
       "                     close_date close_day close_month close_year     gross            open_date open_day open_month open_year  opening_gross  opening_theaters  ranking                                 title  total_theaters  year\n",
       "2572  {u'$date': 1446076800000}        29          10       2015  27740955  1440115200000000000       21          8      2015       10542116              2766       73                            Sinister 2            2799  2015\n",
       "2573  {u'$date': 1448496000000}        26          11       2015  27288872  1440547200000000000       26          8      2015        8111264              3355       74                             No Escape            3415  2015\n",
       "2574                       None         0           0       2016  27001705  1445558400000000000       23         10      2015       10812861              3082       75                 The Last Witch Hunter            3082  2015\n",
       "2575                       None         0           0       2016  26822144  1438905600000000000        7          8      2015        6610961              1603       76                   Ricki and the Flash            2064  2015\n",
       "2576  {u'$date': 1426723200000}        19           3       2015  26501323  1420156800000000000        2          1      2015       15027415              2602       77  The Woman in Black 2: Angel of Death            2602  2015"
      ]
     },
     "execution_count": 41,
     "metadata": {},
     "output_type": "execute_result"
    }
   ],
   "source": [
    "bom_df[2572:2577]"
   ]
  },
  {
   "cell_type": "code",
   "execution_count": 42,
   "metadata": {
    "collapsed": false
   },
   "outputs": [],
   "source": [
    "# making close_date and open_date by concatenating the year, month and day\n",
    "import datetime\n",
    "close_date = []\n",
    "for index, row in bom_df.iterrows():\n",
    "    if row.close_day != '0':\n",
    "        close_date.append(datetime.datetime(int(row.close_year), int(row.close_month), int(row.close_day)))\n",
    "    else: \n",
    "        close_date.append(None)\n",
    "bom_df['close_date'] = close_date\n",
    "\n",
    "bom_df['open_date']=bom_df.open_year + '-' + bom_df.open_month + '-' + bom_df.open_day\n",
    "bom_df['open_date']=bom_df['open_date'].apply(pd.datetools.parse)\n",
    "\n",
    "# dropping unnecessary columns\n",
    "bom_df = bom_df.drop('close_day', 1)\n",
    "bom_df = bom_df.drop('close_month', 1)\n",
    "bom_df = bom_df.drop('open_day', 1)\n",
    "bom_df = bom_df.drop('open_month', 1)"
   ]
  },
  {
   "cell_type": "markdown",
   "metadata": {},
   "source": [
    "Great! Let's take a look at all the dataframes we've created"
   ]
  },
  {
   "cell_type": "code",
   "execution_count": 43,
   "metadata": {
    "collapsed": false
   },
   "outputs": [
    {
     "data": {
      "text/html": [
       "<div>\n",
       "<table border=\"1\" class=\"dataframe\">\n",
       "  <thead>\n",
       "    <tr style=\"text-align: right;\">\n",
       "      <th></th>\n",
       "      <th>close_date</th>\n",
       "      <th>close_year</th>\n",
       "      <th>gross</th>\n",
       "      <th>open_date</th>\n",
       "      <th>open_year</th>\n",
       "      <th>opening_gross</th>\n",
       "      <th>opening_theaters</th>\n",
       "      <th>ranking</th>\n",
       "      <th>title</th>\n",
       "      <th>total_theaters</th>\n",
       "      <th>year</th>\n",
       "    </tr>\n",
       "  </thead>\n",
       "  <tbody>\n",
       "    <tr>\n",
       "      <th>0</th>\n",
       "      <td>None</td>\n",
       "      <td>1991</td>\n",
       "      <td>285761243</td>\n",
       "      <td>1990-11-16</td>\n",
       "      <td>1990</td>\n",
       "      <td>17081997</td>\n",
       "      <td>1202</td>\n",
       "      <td>1</td>\n",
       "      <td>Home Alone</td>\n",
       "      <td>2173</td>\n",
       "      <td>1990</td>\n",
       "    </tr>\n",
       "    <tr>\n",
       "      <th>1</th>\n",
       "      <td>None</td>\n",
       "      <td>1991</td>\n",
       "      <td>217631306</td>\n",
       "      <td>1990-07-13</td>\n",
       "      <td>1990</td>\n",
       "      <td>12191540</td>\n",
       "      <td>1101</td>\n",
       "      <td>2</td>\n",
       "      <td>Ghost</td>\n",
       "      <td>1766</td>\n",
       "      <td>1990</td>\n",
       "    </tr>\n",
       "    <tr>\n",
       "      <th>2</th>\n",
       "      <td>None</td>\n",
       "      <td>1991</td>\n",
       "      <td>184208848</td>\n",
       "      <td>1990-11-09</td>\n",
       "      <td>1990</td>\n",
       "      <td>598257</td>\n",
       "      <td>14</td>\n",
       "      <td>3</td>\n",
       "      <td>Dances with Wolves</td>\n",
       "      <td>1636</td>\n",
       "      <td>1990</td>\n",
       "    </tr>\n",
       "    <tr>\n",
       "      <th>3</th>\n",
       "      <td>None</td>\n",
       "      <td>1991</td>\n",
       "      <td>178406268</td>\n",
       "      <td>1990-03-23</td>\n",
       "      <td>1990</td>\n",
       "      <td>11280591</td>\n",
       "      <td>1325</td>\n",
       "      <td>4</td>\n",
       "      <td>Pretty Woman</td>\n",
       "      <td>1811</td>\n",
       "      <td>1990</td>\n",
       "    </tr>\n",
       "    <tr>\n",
       "      <th>4</th>\n",
       "      <td>None</td>\n",
       "      <td>1991</td>\n",
       "      <td>135265915</td>\n",
       "      <td>1990-03-30</td>\n",
       "      <td>1990</td>\n",
       "      <td>25398367</td>\n",
       "      <td>2006</td>\n",
       "      <td>5</td>\n",
       "      <td>Teenage Mutant Ninja Turtles</td>\n",
       "      <td>2377</td>\n",
       "      <td>1990</td>\n",
       "    </tr>\n",
       "    <tr>\n",
       "      <th>5</th>\n",
       "      <td>None</td>\n",
       "      <td>1991</td>\n",
       "      <td>122012643</td>\n",
       "      <td>1990-03-02</td>\n",
       "      <td>1990</td>\n",
       "      <td>17161835</td>\n",
       "      <td>1225</td>\n",
       "      <td>6</td>\n",
       "      <td>The Hunt for Red October</td>\n",
       "      <td>1817</td>\n",
       "      <td>1990</td>\n",
       "    </tr>\n",
       "    <tr>\n",
       "      <th>6</th>\n",
       "      <td>None</td>\n",
       "      <td>1991</td>\n",
       "      <td>119394840</td>\n",
       "      <td>1990-06-01</td>\n",
       "      <td>1990</td>\n",
       "      <td>25533700</td>\n",
       "      <td>2060</td>\n",
       "      <td>7</td>\n",
       "      <td>Total Recall</td>\n",
       "      <td>2131</td>\n",
       "      <td>1990</td>\n",
       "    </tr>\n",
       "    <tr>\n",
       "      <th>7</th>\n",
       "      <td>None</td>\n",
       "      <td>1991</td>\n",
       "      <td>117540947</td>\n",
       "      <td>1990-07-06</td>\n",
       "      <td>1990</td>\n",
       "      <td>21744661</td>\n",
       "      <td>2507</td>\n",
       "      <td>8</td>\n",
       "      <td>Die Hard 2: Die Harder</td>\n",
       "      <td>2507</td>\n",
       "      <td>1990</td>\n",
       "    </tr>\n",
       "    <tr>\n",
       "      <th>8</th>\n",
       "      <td>None</td>\n",
       "      <td>1991</td>\n",
       "      <td>103738726</td>\n",
       "      <td>1990-06-15</td>\n",
       "      <td>1990</td>\n",
       "      <td>22543911</td>\n",
       "      <td>2332</td>\n",
       "      <td>9</td>\n",
       "      <td>Dick Tracy</td>\n",
       "      <td>2332</td>\n",
       "      <td>1990</td>\n",
       "    </tr>\n",
       "    <tr>\n",
       "      <th>9</th>\n",
       "      <td>None</td>\n",
       "      <td>1991</td>\n",
       "      <td>91457688</td>\n",
       "      <td>1990-12-22</td>\n",
       "      <td>1990</td>\n",
       "      <td>7918560</td>\n",
       "      <td>1833</td>\n",
       "      <td>10</td>\n",
       "      <td>Kindergarten Cop</td>\n",
       "      <td>1937</td>\n",
       "      <td>1990</td>\n",
       "    </tr>\n",
       "    <tr>\n",
       "      <th>10</th>\n",
       "      <td>None</td>\n",
       "      <td>1991</td>\n",
       "      <td>87727583</td>\n",
       "      <td>1990-05-25</td>\n",
       "      <td>1990</td>\n",
       "      <td>19089645</td>\n",
       "      <td>2019</td>\n",
       "      <td>11</td>\n",
       "      <td>Back to the Future Part III</td>\n",
       "      <td>2070</td>\n",
       "      <td>1990</td>\n",
       "    </tr>\n",
       "    <tr>\n",
       "      <th>11</th>\n",
       "      <td>None</td>\n",
       "      <td>1991</td>\n",
       "      <td>86303188</td>\n",
       "      <td>1990-07-27</td>\n",
       "      <td>1990</td>\n",
       "      <td>11718981</td>\n",
       "      <td>1349</td>\n",
       "      <td>12</td>\n",
       "      <td>Presumed Innocent</td>\n",
       "      <td>1451</td>\n",
       "      <td>1990</td>\n",
       "    </tr>\n",
       "    <tr>\n",
       "      <th>12</th>\n",
       "      <td>None</td>\n",
       "      <td>1991</td>\n",
       "      <td>82670733</td>\n",
       "      <td>1990-06-29</td>\n",
       "      <td>1990</td>\n",
       "      <td>15490445</td>\n",
       "      <td>2307</td>\n",
       "      <td>13</td>\n",
       "      <td>Days of Thunder</td>\n",
       "      <td>2307</td>\n",
       "      <td>1990</td>\n",
       "    </tr>\n",
       "    <tr>\n",
       "      <th>13</th>\n",
       "      <td>None</td>\n",
       "      <td>1991</td>\n",
       "      <td>80818974</td>\n",
       "      <td>1990-06-08</td>\n",
       "      <td>1990</td>\n",
       "      <td>19475559</td>\n",
       "      <td>2721</td>\n",
       "      <td>14</td>\n",
       "      <td>Another 48 HRS.</td>\n",
       "      <td>2721</td>\n",
       "      <td>1990</td>\n",
       "    </tr>\n",
       "    <tr>\n",
       "      <th>14</th>\n",
       "      <td>None</td>\n",
       "      <td>1991</td>\n",
       "      <td>71609321</td>\n",
       "      <td>1990-11-21</td>\n",
       "      <td>1990</td>\n",
       "      <td>13774642</td>\n",
       "      <td>1281</td>\n",
       "      <td>15</td>\n",
       "      <td>Three Men and a Little Lady</td>\n",
       "      <td>1614</td>\n",
       "      <td>1990</td>\n",
       "    </tr>\n",
       "    <tr>\n",
       "      <th>15</th>\n",
       "      <td>None</td>\n",
       "      <td>1991</td>\n",
       "      <td>70978012</td>\n",
       "      <td>1990-05-18</td>\n",
       "      <td>1990</td>\n",
       "      <td>15338160</td>\n",
       "      <td>1944</td>\n",
       "      <td>16</td>\n",
       "      <td>Bird on a Wire</td>\n",
       "      <td>2008</td>\n",
       "      <td>1990</td>\n",
       "    </tr>\n",
       "    <tr>\n",
       "      <th>16</th>\n",
       "      <td>None</td>\n",
       "      <td>1991</td>\n",
       "      <td>66666062</td>\n",
       "      <td>1990-12-25</td>\n",
       "      <td>1990</td>\n",
       "      <td>19558558</td>\n",
       "      <td>1901</td>\n",
       "      <td>17</td>\n",
       "      <td>The Godfather Part III</td>\n",
       "      <td>1922</td>\n",
       "      <td>1990</td>\n",
       "    </tr>\n",
       "    <tr>\n",
       "      <th>17</th>\n",
       "      <td>None</td>\n",
       "      <td>1991</td>\n",
       "      <td>61489265</td>\n",
       "      <td>1990-08-10</td>\n",
       "      <td>1990</td>\n",
       "      <td>10034685</td>\n",
       "      <td>1319</td>\n",
       "      <td>18</td>\n",
       "      <td>Flatliners</td>\n",
       "      <td>1483</td>\n",
       "      <td>1990</td>\n",
       "    </tr>\n",
       "    <tr>\n",
       "      <th>18</th>\n",
       "      <td>None</td>\n",
       "      <td>1991</td>\n",
       "      <td>61276872</td>\n",
       "      <td>1990-11-30</td>\n",
       "      <td>1990</td>\n",
       "      <td>10076834</td>\n",
       "      <td>1244</td>\n",
       "      <td>19</td>\n",
       "      <td>Misery</td>\n",
       "      <td>1370</td>\n",
       "      <td>1990</td>\n",
       "    </tr>\n",
       "    <tr>\n",
       "      <th>19</th>\n",
       "      <td>None</td>\n",
       "      <td>1991</td>\n",
       "      <td>56362352</td>\n",
       "      <td>1990-12-07</td>\n",
       "      <td>1990</td>\n",
       "      <td>159622</td>\n",
       "      <td>2</td>\n",
       "      <td>20</td>\n",
       "      <td>Edward Scissorhands</td>\n",
       "      <td>1372</td>\n",
       "      <td>1990</td>\n",
       "    </tr>\n",
       "    <tr>\n",
       "      <th>20</th>\n",
       "      <td>None</td>\n",
       "      <td>1991</td>\n",
       "      <td>53470891</td>\n",
       "      <td>1990-07-27</td>\n",
       "      <td>1990</td>\n",
       "      <td>10026900</td>\n",
       "      <td>1714</td>\n",
       "      <td>21</td>\n",
       "      <td>Problem Child</td>\n",
       "      <td>1769</td>\n",
       "      <td>1990</td>\n",
       "    </tr>\n",
       "    <tr>\n",
       "      <th>21</th>\n",
       "      <td>None</td>\n",
       "      <td>1991</td>\n",
       "      <td>53208180</td>\n",
       "      <td>1990-07-20</td>\n",
       "      <td>1990</td>\n",
       "      <td>8045760</td>\n",
       "      <td>1479</td>\n",
       "      <td>22</td>\n",
       "      <td>Arachnophobia</td>\n",
       "      <td>2005</td>\n",
       "      <td>1990</td>\n",
       "    </tr>\n",
       "    <tr>\n",
       "      <th>22</th>\n",
       "      <td>None</td>\n",
       "      <td>1991</td>\n",
       "      <td>52096475</td>\n",
       "      <td>1990-12-22</td>\n",
       "      <td>1990</td>\n",
       "      <td>417076</td>\n",
       "      <td>12</td>\n",
       "      <td>23</td>\n",
       "      <td>Awakenings</td>\n",
       "      <td>1330</td>\n",
       "      <td>1990</td>\n",
       "    </tr>\n",
       "    <tr>\n",
       "      <th>23</th>\n",
       "      <td>None</td>\n",
       "      <td>1991</td>\n",
       "      <td>47789074</td>\n",
       "      <td>1990-12-14</td>\n",
       "      <td>1990</td>\n",
       "      <td>8100640</td>\n",
       "      <td>1576</td>\n",
       "      <td>24</td>\n",
       "      <td>Look Who's Talking Too</td>\n",
       "      <td>1647</td>\n",
       "      <td>1990</td>\n",
       "    </tr>\n",
       "    <tr>\n",
       "      <th>24</th>\n",
       "      <td>None</td>\n",
       "      <td>1991</td>\n",
       "      <td>47410827</td>\n",
       "      <td>1990-02-09</td>\n",
       "      <td>1990</td>\n",
       "      <td>9213631</td>\n",
       "      <td>1301</td>\n",
       "      <td>25</td>\n",
       "      <td>Hard to Kill</td>\n",
       "      <td>1508</td>\n",
       "      <td>1990</td>\n",
       "    </tr>\n",
       "    <tr>\n",
       "      <th>25</th>\n",
       "      <td>None</td>\n",
       "      <td>1991</td>\n",
       "      <td>46836214</td>\n",
       "      <td>1990-09-19</td>\n",
       "      <td>1990</td>\n",
       "      <td>6368901</td>\n",
       "      <td>1070</td>\n",
       "      <td>26</td>\n",
       "      <td>Goodfellas</td>\n",
       "      <td>1328</td>\n",
       "      <td>1990</td>\n",
       "    </tr>\n",
       "    <tr>\n",
       "      <th>26</th>\n",
       "      <td>None</td>\n",
       "      <td>1991</td>\n",
       "      <td>46044396</td>\n",
       "      <td>1990-10-05</td>\n",
       "      <td>1990</td>\n",
       "      <td>11790047</td>\n",
       "      <td>1968</td>\n",
       "      <td>27</td>\n",
       "      <td>Marked for Death</td>\n",
       "      <td>1974</td>\n",
       "      <td>1990</td>\n",
       "    </tr>\n",
       "    <tr>\n",
       "      <th>27</th>\n",
       "      <td>None</td>\n",
       "      <td>1991</td>\n",
       "      <td>45681173</td>\n",
       "      <td>1990-06-22</td>\n",
       "      <td>1990</td>\n",
       "      <td>14145411</td>\n",
       "      <td>1768</td>\n",
       "      <td>28</td>\n",
       "      <td>Robocop 2</td>\n",
       "      <td>1806</td>\n",
       "      <td>1990</td>\n",
       "    </tr>\n",
       "    <tr>\n",
       "      <th>28</th>\n",
       "      <td>None</td>\n",
       "      <td>1991</td>\n",
       "      <td>44645619</td>\n",
       "      <td>1990-07-13</td>\n",
       "      <td>1990</td>\n",
       "      <td>7708029</td>\n",
       "      <td>1901</td>\n",
       "      <td>29</td>\n",
       "      <td>The Jungle Book (re-issue) (1990)</td>\n",
       "      <td>1923</td>\n",
       "      <td>1990</td>\n",
       "    </tr>\n",
       "    <tr>\n",
       "      <th>29</th>\n",
       "      <td>None</td>\n",
       "      <td>1991</td>\n",
       "      <td>44143410</td>\n",
       "      <td>1990-08-03</td>\n",
       "      <td>1990</td>\n",
       "      <td>8017438</td>\n",
       "      <td>1770</td>\n",
       "      <td>30</td>\n",
       "      <td>Young Guns II</td>\n",
       "      <td>1770</td>\n",
       "      <td>1990</td>\n",
       "    </tr>\n",
       "    <tr>\n",
       "      <th>...</th>\n",
       "      <td>...</td>\n",
       "      <td>...</td>\n",
       "      <td>...</td>\n",
       "      <td>...</td>\n",
       "      <td>...</td>\n",
       "      <td>...</td>\n",
       "      <td>...</td>\n",
       "      <td>...</td>\n",
       "      <td>...</td>\n",
       "      <td>...</td>\n",
       "      <td>...</td>\n",
       "    </tr>\n",
       "    <tr>\n",
       "      <th>2570</th>\n",
       "      <td>None</td>\n",
       "      <td>2016</td>\n",
       "      <td>29476394</td>\n",
       "      <td>2015-09-02</td>\n",
       "      <td>2015</td>\n",
       "      <td>8246267</td>\n",
       "      <td>1960</td>\n",
       "      <td>71</td>\n",
       "      <td>A Walk in the Woods</td>\n",
       "      <td>2158</td>\n",
       "      <td>2015</td>\n",
       "    </tr>\n",
       "    <tr>\n",
       "      <th>2571</th>\n",
       "      <td>None</td>\n",
       "      <td>2016</td>\n",
       "      <td>28648311</td>\n",
       "      <td>2015-11-20</td>\n",
       "      <td>2015</td>\n",
       "      <td>9880536</td>\n",
       "      <td>2960</td>\n",
       "      <td>72</td>\n",
       "      <td>The Night Before</td>\n",
       "      <td>2960</td>\n",
       "      <td>2015</td>\n",
       "    </tr>\n",
       "    <tr>\n",
       "      <th>2572</th>\n",
       "      <td>2015-10-29 00:00:00</td>\n",
       "      <td>2015</td>\n",
       "      <td>27740955</td>\n",
       "      <td>2015-08-21</td>\n",
       "      <td>2015</td>\n",
       "      <td>10542116</td>\n",
       "      <td>2766</td>\n",
       "      <td>73</td>\n",
       "      <td>Sinister 2</td>\n",
       "      <td>2799</td>\n",
       "      <td>2015</td>\n",
       "    </tr>\n",
       "    <tr>\n",
       "      <th>2573</th>\n",
       "      <td>2015-11-26 00:00:00</td>\n",
       "      <td>2015</td>\n",
       "      <td>27288872</td>\n",
       "      <td>2015-08-26</td>\n",
       "      <td>2015</td>\n",
       "      <td>8111264</td>\n",
       "      <td>3355</td>\n",
       "      <td>74</td>\n",
       "      <td>No Escape</td>\n",
       "      <td>3415</td>\n",
       "      <td>2015</td>\n",
       "    </tr>\n",
       "    <tr>\n",
       "      <th>2574</th>\n",
       "      <td>None</td>\n",
       "      <td>2016</td>\n",
       "      <td>27001705</td>\n",
       "      <td>2015-10-23</td>\n",
       "      <td>2015</td>\n",
       "      <td>10812861</td>\n",
       "      <td>3082</td>\n",
       "      <td>75</td>\n",
       "      <td>The Last Witch Hunter</td>\n",
       "      <td>3082</td>\n",
       "      <td>2015</td>\n",
       "    </tr>\n",
       "    <tr>\n",
       "      <th>2575</th>\n",
       "      <td>None</td>\n",
       "      <td>2016</td>\n",
       "      <td>26822144</td>\n",
       "      <td>2015-08-07</td>\n",
       "      <td>2015</td>\n",
       "      <td>6610961</td>\n",
       "      <td>1603</td>\n",
       "      <td>76</td>\n",
       "      <td>Ricki and the Flash</td>\n",
       "      <td>2064</td>\n",
       "      <td>2015</td>\n",
       "    </tr>\n",
       "    <tr>\n",
       "      <th>2576</th>\n",
       "      <td>2015-03-19 00:00:00</td>\n",
       "      <td>2015</td>\n",
       "      <td>26501323</td>\n",
       "      <td>2015-01-02</td>\n",
       "      <td>2015</td>\n",
       "      <td>15027415</td>\n",
       "      <td>2602</td>\n",
       "      <td>77</td>\n",
       "      <td>The Woman in Black 2: Angel of Death</td>\n",
       "      <td>2602</td>\n",
       "      <td>2015</td>\n",
       "    </tr>\n",
       "    <tr>\n",
       "      <th>2577</th>\n",
       "      <td>2015-05-07 00:00:00</td>\n",
       "      <td>2015</td>\n",
       "      <td>26461644</td>\n",
       "      <td>2015-03-13</td>\n",
       "      <td>2015</td>\n",
       "      <td>11012305</td>\n",
       "      <td>3171</td>\n",
       "      <td>78</td>\n",
       "      <td>Run All Night</td>\n",
       "      <td>3171</td>\n",
       "      <td>2015</td>\n",
       "    </tr>\n",
       "    <tr>\n",
       "      <th>2578</th>\n",
       "      <td>2015-06-11 00:00:00</td>\n",
       "      <td>2015</td>\n",
       "      <td>25801047</td>\n",
       "      <td>2015-02-27</td>\n",
       "      <td>2015</td>\n",
       "      <td>10203437</td>\n",
       "      <td>2666</td>\n",
       "      <td>79</td>\n",
       "      <td>The Lazarus Effect</td>\n",
       "      <td>2666</td>\n",
       "      <td>2015</td>\n",
       "    </tr>\n",
       "    <tr>\n",
       "      <th>2579</th>\n",
       "      <td>2015-09-03 00:00:00</td>\n",
       "      <td>2015</td>\n",
       "      <td>25442958</td>\n",
       "      <td>2015-04-10</td>\n",
       "      <td>2015</td>\n",
       "      <td>237264</td>\n",
       "      <td>4</td>\n",
       "      <td>80</td>\n",
       "      <td>Ex Machina</td>\n",
       "      <td>2004</td>\n",
       "      <td>2015</td>\n",
       "    </tr>\n",
       "    <tr>\n",
       "      <th>2580</th>\n",
       "      <td>2015-09-17 00:00:00</td>\n",
       "      <td>2015</td>\n",
       "      <td>22764410</td>\n",
       "      <td>2015-07-10</td>\n",
       "      <td>2015</td>\n",
       "      <td>9808463</td>\n",
       "      <td>2720</td>\n",
       "      <td>81</td>\n",
       "      <td>The Gallows</td>\n",
       "      <td>2720</td>\n",
       "      <td>2015</td>\n",
       "    </tr>\n",
       "    <tr>\n",
       "      <th>2581</th>\n",
       "      <td>2015-10-15 00:00:00</td>\n",
       "      <td>2015</td>\n",
       "      <td>22467450</td>\n",
       "      <td>2015-08-21</td>\n",
       "      <td>2015</td>\n",
       "      <td>8326530</td>\n",
       "      <td>3261</td>\n",
       "      <td>82</td>\n",
       "      <td>Hitman: Agent 47</td>\n",
       "      <td>3273</td>\n",
       "      <td>2015</td>\n",
       "    </tr>\n",
       "    <tr>\n",
       "      <th>2582</th>\n",
       "      <td>2015-03-26 00:00:00</td>\n",
       "      <td>2015</td>\n",
       "      <td>22348241</td>\n",
       "      <td>2015-01-30</td>\n",
       "      <td>2015</td>\n",
       "      <td>8310252</td>\n",
       "      <td>2893</td>\n",
       "      <td>83</td>\n",
       "      <td>Project Almanac</td>\n",
       "      <td>2900</td>\n",
       "      <td>2015</td>\n",
       "    </tr>\n",
       "    <tr>\n",
       "      <th>2583</th>\n",
       "      <td>2015-05-14 00:00:00</td>\n",
       "      <td>2015</td>\n",
       "      <td>21571189</td>\n",
       "      <td>2015-01-30</td>\n",
       "      <td>2015</td>\n",
       "      <td>6213362</td>\n",
       "      <td>1823</td>\n",
       "      <td>84</td>\n",
       "      <td>Black or White</td>\n",
       "      <td>1823</td>\n",
       "      <td>2015</td>\n",
       "    </tr>\n",
       "    <tr>\n",
       "      <th>2584</th>\n",
       "      <td>None</td>\n",
       "      <td>2016</td>\n",
       "      <td>21183626</td>\n",
       "      <td>2015-11-13</td>\n",
       "      <td>2015</td>\n",
       "      <td>8317545</td>\n",
       "      <td>2603</td>\n",
       "      <td>85</td>\n",
       "      <td>Love the Coopers</td>\n",
       "      <td>2603</td>\n",
       "      <td>2015</td>\n",
       "    </tr>\n",
       "    <tr>\n",
       "      <th>2585</th>\n",
       "      <td>2015-07-30 00:00:00</td>\n",
       "      <td>2015</td>\n",
       "      <td>21067116</td>\n",
       "      <td>2015-05-29</td>\n",
       "      <td>2015</td>\n",
       "      <td>9670235</td>\n",
       "      <td>2815</td>\n",
       "      <td>86</td>\n",
       "      <td>Aloha</td>\n",
       "      <td>2815</td>\n",
       "      <td>2015</td>\n",
       "    </tr>\n",
       "    <tr>\n",
       "      <th>2586</th>\n",
       "      <td>2015-10-22 00:00:00</td>\n",
       "      <td>2015</td>\n",
       "      <td>19375982</td>\n",
       "      <td>2015-08-05</td>\n",
       "      <td>2015</td>\n",
       "      <td>4038962</td>\n",
       "      <td>2320</td>\n",
       "      <td>87</td>\n",
       "      <td>Shaun the Sheep Movie</td>\n",
       "      <td>2360</td>\n",
       "      <td>2015</td>\n",
       "    </tr>\n",
       "    <tr>\n",
       "      <th>2587</th>\n",
       "      <td>2015-05-21 00:00:00</td>\n",
       "      <td>2015</td>\n",
       "      <td>18754371</td>\n",
       "      <td>2015-01-16</td>\n",
       "      <td>2015</td>\n",
       "      <td>197000</td>\n",
       "      <td>12</td>\n",
       "      <td>88</td>\n",
       "      <td>Still Alice</td>\n",
       "      <td>1318</td>\n",
       "      <td>2015</td>\n",
       "    </tr>\n",
       "    <tr>\n",
       "      <th>2588</th>\n",
       "      <td>None</td>\n",
       "      <td>2016</td>\n",
       "      <td>18300124</td>\n",
       "      <td>2015-10-23</td>\n",
       "      <td>2015</td>\n",
       "      <td>8070493</td>\n",
       "      <td>1656</td>\n",
       "      <td>89</td>\n",
       "      <td>Paranormal Activity: The Ghost Dimension</td>\n",
       "      <td>1656</td>\n",
       "      <td>2015</td>\n",
       "    </tr>\n",
       "    <tr>\n",
       "      <th>2589</th>\n",
       "      <td>None</td>\n",
       "      <td>2016</td>\n",
       "      <td>17787528</td>\n",
       "      <td>2015-10-09</td>\n",
       "      <td>2015</td>\n",
       "      <td>521522</td>\n",
       "      <td>4</td>\n",
       "      <td>90</td>\n",
       "      <td>Steve Jobs</td>\n",
       "      <td>2493</td>\n",
       "      <td>2015</td>\n",
       "    </tr>\n",
       "    <tr>\n",
       "      <th>2590</th>\n",
       "      <td>2015-11-05 00:00:00</td>\n",
       "      <td>2015</td>\n",
       "      <td>17737646</td>\n",
       "      <td>2015-07-17</td>\n",
       "      <td>2015</td>\n",
       "      <td>2434908</td>\n",
       "      <td>361</td>\n",
       "      <td>91</td>\n",
       "      <td>Mr. Holmes</td>\n",
       "      <td>898</td>\n",
       "      <td>2015</td>\n",
       "    </tr>\n",
       "    <tr>\n",
       "      <th>2591</th>\n",
       "      <td>2015-09-17 00:00:00</td>\n",
       "      <td>2015</td>\n",
       "      <td>17506470</td>\n",
       "      <td>2015-06-19</td>\n",
       "      <td>2015</td>\n",
       "      <td>6100010</td>\n",
       "      <td>2002</td>\n",
       "      <td>92</td>\n",
       "      <td>Dope</td>\n",
       "      <td>2002</td>\n",
       "      <td>2015</td>\n",
       "    </tr>\n",
       "    <tr>\n",
       "      <th>2592</th>\n",
       "      <td>2015-03-19 00:00:00</td>\n",
       "      <td>2015</td>\n",
       "      <td>17223265</td>\n",
       "      <td>2015-02-06</td>\n",
       "      <td>2015</td>\n",
       "      <td>7217640</td>\n",
       "      <td>2875</td>\n",
       "      <td>93</td>\n",
       "      <td>Seventh Son</td>\n",
       "      <td>2875</td>\n",
       "      <td>2015</td>\n",
       "    </tr>\n",
       "    <tr>\n",
       "      <th>2593</th>\n",
       "      <td>2015-07-23 00:00:00</td>\n",
       "      <td>2015</td>\n",
       "      <td>16432322</td>\n",
       "      <td>2015-04-17</td>\n",
       "      <td>2015</td>\n",
       "      <td>4577861</td>\n",
       "      <td>2012</td>\n",
       "      <td>94</td>\n",
       "      <td>Monkey Kingdom</td>\n",
       "      <td>2012</td>\n",
       "      <td>2015</td>\n",
       "    </tr>\n",
       "    <tr>\n",
       "      <th>2594</th>\n",
       "      <td>2015-11-19 00:00:00</td>\n",
       "      <td>2015</td>\n",
       "      <td>16029670</td>\n",
       "      <td>2015-09-04</td>\n",
       "      <td>2015</td>\n",
       "      <td>7355622</td>\n",
       "      <td>3434</td>\n",
       "      <td>95</td>\n",
       "      <td>The Transporter Refueled</td>\n",
       "      <td>3434</td>\n",
       "      <td>2015</td>\n",
       "    </tr>\n",
       "    <tr>\n",
       "      <th>2595</th>\n",
       "      <td>None</td>\n",
       "      <td>2016</td>\n",
       "      <td>15901088</td>\n",
       "      <td>2015-11-20</td>\n",
       "      <td>2015</td>\n",
       "      <td>6652996</td>\n",
       "      <td>2392</td>\n",
       "      <td>96</td>\n",
       "      <td>The Secret in their Eyes (2015)</td>\n",
       "      <td>2392</td>\n",
       "      <td>2015</td>\n",
       "    </tr>\n",
       "    <tr>\n",
       "      <th>2596</th>\n",
       "      <td>2015-06-25 00:00:00</td>\n",
       "      <td>2015</td>\n",
       "      <td>14674076</td>\n",
       "      <td>2015-03-13</td>\n",
       "      <td>2015</td>\n",
       "      <td>160089</td>\n",
       "      <td>4</td>\n",
       "      <td>97</td>\n",
       "      <td>It Follows</td>\n",
       "      <td>1655</td>\n",
       "      <td>2015</td>\n",
       "    </tr>\n",
       "    <tr>\n",
       "      <th>2597</th>\n",
       "      <td>None</td>\n",
       "      <td>2016</td>\n",
       "      <td>14536125</td>\n",
       "      <td>2015-11-06</td>\n",
       "      <td>2015</td>\n",
       "      <td>295009</td>\n",
       "      <td>5</td>\n",
       "      <td>98</td>\n",
       "      <td>Spotlight</td>\n",
       "      <td>980</td>\n",
       "      <td>2015</td>\n",
       "    </tr>\n",
       "    <tr>\n",
       "      <th>2598</th>\n",
       "      <td>2015-10-08 00:00:00</td>\n",
       "      <td>2015</td>\n",
       "      <td>14440985</td>\n",
       "      <td>2015-08-21</td>\n",
       "      <td>2015</td>\n",
       "      <td>5454284</td>\n",
       "      <td>2778</td>\n",
       "      <td>99</td>\n",
       "      <td>American Ultra</td>\n",
       "      <td>2778</td>\n",
       "      <td>2015</td>\n",
       "    </tr>\n",
       "    <tr>\n",
       "      <th>2599</th>\n",
       "      <td>None</td>\n",
       "      <td>2016</td>\n",
       "      <td>14222272</td>\n",
       "      <td>2015-10-16</td>\n",
       "      <td>2015</td>\n",
       "      <td>4002226</td>\n",
       "      <td>1553</td>\n",
       "      <td>100</td>\n",
       "      <td>Woodlawn</td>\n",
       "      <td>1553</td>\n",
       "      <td>2015</td>\n",
       "    </tr>\n",
       "  </tbody>\n",
       "</table>\n",
       "<p>2600 rows × 11 columns</p>\n",
       "</div>"
      ],
      "text/plain": [
       "               close_date close_year      gross  open_date open_year  opening_gross  opening_theaters  ranking                                     title  total_theaters  year\n",
       "0                    None       1991  285761243 1990-11-16      1990       17081997              1202        1                                Home Alone            2173  1990\n",
       "1                    None       1991  217631306 1990-07-13      1990       12191540              1101        2                                     Ghost            1766  1990\n",
       "2                    None       1991  184208848 1990-11-09      1990         598257                14        3                        Dances with Wolves            1636  1990\n",
       "3                    None       1991  178406268 1990-03-23      1990       11280591              1325        4                              Pretty Woman            1811  1990\n",
       "4                    None       1991  135265915 1990-03-30      1990       25398367              2006        5              Teenage Mutant Ninja Turtles            2377  1990\n",
       "5                    None       1991  122012643 1990-03-02      1990       17161835              1225        6                  The Hunt for Red October            1817  1990\n",
       "6                    None       1991  119394840 1990-06-01      1990       25533700              2060        7                              Total Recall            2131  1990\n",
       "7                    None       1991  117540947 1990-07-06      1990       21744661              2507        8                    Die Hard 2: Die Harder            2507  1990\n",
       "8                    None       1991  103738726 1990-06-15      1990       22543911              2332        9                                Dick Tracy            2332  1990\n",
       "9                    None       1991   91457688 1990-12-22      1990        7918560              1833       10                          Kindergarten Cop            1937  1990\n",
       "10                   None       1991   87727583 1990-05-25      1990       19089645              2019       11               Back to the Future Part III            2070  1990\n",
       "11                   None       1991   86303188 1990-07-27      1990       11718981              1349       12                         Presumed Innocent            1451  1990\n",
       "12                   None       1991   82670733 1990-06-29      1990       15490445              2307       13                           Days of Thunder            2307  1990\n",
       "13                   None       1991   80818974 1990-06-08      1990       19475559              2721       14                           Another 48 HRS.            2721  1990\n",
       "14                   None       1991   71609321 1990-11-21      1990       13774642              1281       15               Three Men and a Little Lady            1614  1990\n",
       "15                   None       1991   70978012 1990-05-18      1990       15338160              1944       16                            Bird on a Wire            2008  1990\n",
       "16                   None       1991   66666062 1990-12-25      1990       19558558              1901       17                    The Godfather Part III            1922  1990\n",
       "17                   None       1991   61489265 1990-08-10      1990       10034685              1319       18                                Flatliners            1483  1990\n",
       "18                   None       1991   61276872 1990-11-30      1990       10076834              1244       19                                    Misery            1370  1990\n",
       "19                   None       1991   56362352 1990-12-07      1990         159622                 2       20                       Edward Scissorhands            1372  1990\n",
       "20                   None       1991   53470891 1990-07-27      1990       10026900              1714       21                             Problem Child            1769  1990\n",
       "21                   None       1991   53208180 1990-07-20      1990        8045760              1479       22                             Arachnophobia            2005  1990\n",
       "22                   None       1991   52096475 1990-12-22      1990         417076                12       23                                Awakenings            1330  1990\n",
       "23                   None       1991   47789074 1990-12-14      1990        8100640              1576       24                    Look Who's Talking Too            1647  1990\n",
       "24                   None       1991   47410827 1990-02-09      1990        9213631              1301       25                              Hard to Kill            1508  1990\n",
       "25                   None       1991   46836214 1990-09-19      1990        6368901              1070       26                                Goodfellas            1328  1990\n",
       "26                   None       1991   46044396 1990-10-05      1990       11790047              1968       27                          Marked for Death            1974  1990\n",
       "27                   None       1991   45681173 1990-06-22      1990       14145411              1768       28                                 Robocop 2            1806  1990\n",
       "28                   None       1991   44645619 1990-07-13      1990        7708029              1901       29         The Jungle Book (re-issue) (1990)            1923  1990\n",
       "29                   None       1991   44143410 1990-08-03      1990        8017438              1770       30                             Young Guns II            1770  1990\n",
       "...                   ...        ...        ...        ...       ...            ...               ...      ...                                       ...             ...   ...\n",
       "2570                 None       2016   29476394 2015-09-02      2015        8246267              1960       71                       A Walk in the Woods            2158  2015\n",
       "2571                 None       2016   28648311 2015-11-20      2015        9880536              2960       72                          The Night Before            2960  2015\n",
       "2572  2015-10-29 00:00:00       2015   27740955 2015-08-21      2015       10542116              2766       73                                Sinister 2            2799  2015\n",
       "2573  2015-11-26 00:00:00       2015   27288872 2015-08-26      2015        8111264              3355       74                                 No Escape            3415  2015\n",
       "2574                 None       2016   27001705 2015-10-23      2015       10812861              3082       75                     The Last Witch Hunter            3082  2015\n",
       "2575                 None       2016   26822144 2015-08-07      2015        6610961              1603       76                       Ricki and the Flash            2064  2015\n",
       "2576  2015-03-19 00:00:00       2015   26501323 2015-01-02      2015       15027415              2602       77      The Woman in Black 2: Angel of Death            2602  2015\n",
       "2577  2015-05-07 00:00:00       2015   26461644 2015-03-13      2015       11012305              3171       78                             Run All Night            3171  2015\n",
       "2578  2015-06-11 00:00:00       2015   25801047 2015-02-27      2015       10203437              2666       79                        The Lazarus Effect            2666  2015\n",
       "2579  2015-09-03 00:00:00       2015   25442958 2015-04-10      2015         237264                 4       80                                Ex Machina            2004  2015\n",
       "2580  2015-09-17 00:00:00       2015   22764410 2015-07-10      2015        9808463              2720       81                               The Gallows            2720  2015\n",
       "2581  2015-10-15 00:00:00       2015   22467450 2015-08-21      2015        8326530              3261       82                          Hitman: Agent 47            3273  2015\n",
       "2582  2015-03-26 00:00:00       2015   22348241 2015-01-30      2015        8310252              2893       83                           Project Almanac            2900  2015\n",
       "2583  2015-05-14 00:00:00       2015   21571189 2015-01-30      2015        6213362              1823       84                            Black or White            1823  2015\n",
       "2584                 None       2016   21183626 2015-11-13      2015        8317545              2603       85                          Love the Coopers            2603  2015\n",
       "2585  2015-07-30 00:00:00       2015   21067116 2015-05-29      2015        9670235              2815       86                                     Aloha            2815  2015\n",
       "2586  2015-10-22 00:00:00       2015   19375982 2015-08-05      2015        4038962              2320       87                     Shaun the Sheep Movie            2360  2015\n",
       "2587  2015-05-21 00:00:00       2015   18754371 2015-01-16      2015         197000                12       88                               Still Alice            1318  2015\n",
       "2588                 None       2016   18300124 2015-10-23      2015        8070493              1656       89  Paranormal Activity: The Ghost Dimension            1656  2015\n",
       "2589                 None       2016   17787528 2015-10-09      2015         521522                 4       90                                Steve Jobs            2493  2015\n",
       "2590  2015-11-05 00:00:00       2015   17737646 2015-07-17      2015        2434908               361       91                                Mr. Holmes             898  2015\n",
       "2591  2015-09-17 00:00:00       2015   17506470 2015-06-19      2015        6100010              2002       92                                      Dope            2002  2015\n",
       "2592  2015-03-19 00:00:00       2015   17223265 2015-02-06      2015        7217640              2875       93                               Seventh Son            2875  2015\n",
       "2593  2015-07-23 00:00:00       2015   16432322 2015-04-17      2015        4577861              2012       94                            Monkey Kingdom            2012  2015\n",
       "2594  2015-11-19 00:00:00       2015   16029670 2015-09-04      2015        7355622              3434       95                  The Transporter Refueled            3434  2015\n",
       "2595                 None       2016   15901088 2015-11-20      2015        6652996              2392       96           The Secret in their Eyes (2015)            2392  2015\n",
       "2596  2015-06-25 00:00:00       2015   14674076 2015-03-13      2015         160089                 4       97                                It Follows            1655  2015\n",
       "2597                 None       2016   14536125 2015-11-06      2015         295009                 5       98                                 Spotlight             980  2015\n",
       "2598  2015-10-08 00:00:00       2015   14440985 2015-08-21      2015        5454284              2778       99                            American Ultra            2778  2015\n",
       "2599                 None       2016   14222272 2015-10-16      2015        4002226              1553      100                                  Woodlawn            1553  2015\n",
       "\n",
       "[2600 rows x 11 columns]"
      ]
     },
     "execution_count": 43,
     "metadata": {},
     "output_type": "execute_result"
    }
   ],
   "source": [
    "bom_df"
   ]
  },
  {
   "cell_type": "markdown",
   "metadata": {},
   "source": [
    "Now, we want to make a new dataframe `flattened_df` that we can use to run our regressions on. This dataframe will include all the columns in `movie_df` and the extra columns\n",
    "* number of reviews for the movie in IMDB_df\n",
    "* average stars from the reviews\n",
    "* overall ranking"
   ]
  },
  {
   "cell_type": "code",
   "execution_count": 44,
   "metadata": {
    "collapsed": false
   },
   "outputs": [],
   "source": [
    "# set index to title\n",
    "indexed_df = bom_df.set_index(\"title\")"
   ]
  },
  {
   "cell_type": "code",
   "execution_count": 45,
   "metadata": {
    "collapsed": false
   },
   "outputs": [],
   "source": [
    "# use groupby to get the review_count, star_avg, valence_avg, valence_sum, pct_scorables, n_scorables\n",
    "gold = valence_df.groupby(\"movie_name\")\n",
    "n_scorables = gold.n_scorables.mean()\n",
    "pct_scorables = gold.pct_scorables.mean()\n",
    "review_count = gold.movie_name.count()\n",
    "star_avg = gold.stars.mean()\n",
    "positive = gold.positive.mean()\n",
    "valence_avg = gold.valence_avg.mean()\n",
    "valence_sum = gold.valence_sum.mean()"
   ]
  },
  {
   "cell_type": "code",
   "execution_count": 46,
   "metadata": {
    "collapsed": false
   },
   "outputs": [],
   "source": [
    "# concatenate the two dfs into our final dataframe flattened_df\n",
    "flattened_df = pd.concat([indexed_df, review_count], axis=1, join_axes=[indexed_df.index])\n",
    "flattened_df.rename(columns={'movie_name': 'review_count'}, inplace=True)\n",
    "flattened_df = pd.concat([flattened_df, star_avg], axis=1, join_axes=[indexed_df.index])\n",
    "flattened_df.rename(columns={'stars': 'star_avg'}, inplace=True)\n",
    "flattened_df = pd.concat([flattened_df, positive], axis=1, join_axes=[indexed_df.index])\n",
    "\n",
    "flattened_df = pd.concat([flattened_df, valence_avg], axis=1, join_axes=[indexed_df.index])\n",
    "# flattened_df.rename(columns={'movie_name': 'review_count'}, inplace=True)\n",
    "flattened_df = pd.concat([flattened_df, valence_sum], axis=1, join_axes=[indexed_df.index])\n",
    "# flattened_df.rename(columns={'movie_name': 'review_count'}, inplace=True)\n",
    "\n",
    "flattened_df = pd.concat([flattened_df, n_scorables], axis=1, join_axes=[indexed_df.index])\n",
    "\n",
    "flattened_df = pd.concat([flattened_df, pct_scorables], axis=1, join_axes=[indexed_df.index])\n",
    "\n",
    "\n",
    "# flattened_df.rename(columns={'absolute_stars': 'abs_star_avg'}, inplace=True)"
   ]
  },
  {
   "cell_type": "code",
   "execution_count": 47,
   "metadata": {
    "collapsed": false
   },
   "outputs": [
    {
     "data": {
      "text/html": [
       "<div>\n",
       "<table border=\"1\" class=\"dataframe\">\n",
       "  <thead>\n",
       "    <tr style=\"text-align: right;\">\n",
       "      <th></th>\n",
       "      <th>close_date</th>\n",
       "      <th>close_year</th>\n",
       "      <th>gross</th>\n",
       "      <th>open_date</th>\n",
       "      <th>open_year</th>\n",
       "      <th>opening_gross</th>\n",
       "      <th>opening_theaters</th>\n",
       "      <th>ranking</th>\n",
       "      <th>total_theaters</th>\n",
       "      <th>year</th>\n",
       "      <th>review_count</th>\n",
       "      <th>star_avg</th>\n",
       "      <th>positive</th>\n",
       "      <th>valence_avg</th>\n",
       "      <th>valence_sum</th>\n",
       "      <th>n_scorables</th>\n",
       "      <th>pct_scorables</th>\n",
       "    </tr>\n",
       "    <tr>\n",
       "      <th>title</th>\n",
       "      <th></th>\n",
       "      <th></th>\n",
       "      <th></th>\n",
       "      <th></th>\n",
       "      <th></th>\n",
       "      <th></th>\n",
       "      <th></th>\n",
       "      <th></th>\n",
       "      <th></th>\n",
       "      <th></th>\n",
       "      <th></th>\n",
       "      <th></th>\n",
       "      <th></th>\n",
       "      <th></th>\n",
       "      <th></th>\n",
       "      <th></th>\n",
       "      <th></th>\n",
       "    </tr>\n",
       "  </thead>\n",
       "  <tbody>\n",
       "    <tr>\n",
       "      <th>Home Alone</th>\n",
       "      <td>None</td>\n",
       "      <td>1991</td>\n",
       "      <td>285761243</td>\n",
       "      <td>1990-11-16</td>\n",
       "      <td>1990</td>\n",
       "      <td>17081997</td>\n",
       "      <td>1202</td>\n",
       "      <td>1</td>\n",
       "      <td>2173</td>\n",
       "      <td>1990</td>\n",
       "      <td>NaN</td>\n",
       "      <td>NaN</td>\n",
       "      <td>NaN</td>\n",
       "      <td>NaN</td>\n",
       "      <td>NaN</td>\n",
       "      <td>NaN</td>\n",
       "      <td>NaN</td>\n",
       "    </tr>\n",
       "    <tr>\n",
       "      <th>Ghost</th>\n",
       "      <td>None</td>\n",
       "      <td>1991</td>\n",
       "      <td>217631306</td>\n",
       "      <td>1990-07-13</td>\n",
       "      <td>1990</td>\n",
       "      <td>12191540</td>\n",
       "      <td>1101</td>\n",
       "      <td>2</td>\n",
       "      <td>1766</td>\n",
       "      <td>1990</td>\n",
       "      <td>NaN</td>\n",
       "      <td>NaN</td>\n",
       "      <td>NaN</td>\n",
       "      <td>NaN</td>\n",
       "      <td>NaN</td>\n",
       "      <td>NaN</td>\n",
       "      <td>NaN</td>\n",
       "    </tr>\n",
       "    <tr>\n",
       "      <th>Dances with Wolves</th>\n",
       "      <td>None</td>\n",
       "      <td>1991</td>\n",
       "      <td>184208848</td>\n",
       "      <td>1990-11-09</td>\n",
       "      <td>1990</td>\n",
       "      <td>598257</td>\n",
       "      <td>14</td>\n",
       "      <td>3</td>\n",
       "      <td>1636</td>\n",
       "      <td>1990</td>\n",
       "      <td>NaN</td>\n",
       "      <td>NaN</td>\n",
       "      <td>NaN</td>\n",
       "      <td>NaN</td>\n",
       "      <td>NaN</td>\n",
       "      <td>NaN</td>\n",
       "      <td>NaN</td>\n",
       "    </tr>\n",
       "    <tr>\n",
       "      <th>Pretty Woman</th>\n",
       "      <td>None</td>\n",
       "      <td>1991</td>\n",
       "      <td>178406268</td>\n",
       "      <td>1990-03-23</td>\n",
       "      <td>1990</td>\n",
       "      <td>11280591</td>\n",
       "      <td>1325</td>\n",
       "      <td>4</td>\n",
       "      <td>1811</td>\n",
       "      <td>1990</td>\n",
       "      <td>2</td>\n",
       "      <td>1</td>\n",
       "      <td>0</td>\n",
       "      <td>0.407409</td>\n",
       "      <td>84.055626</td>\n",
       "      <td>338</td>\n",
       "      <td>0.613324</td>\n",
       "    </tr>\n",
       "    <tr>\n",
       "      <th>Teenage Mutant Ninja Turtles</th>\n",
       "      <td>None</td>\n",
       "      <td>1991</td>\n",
       "      <td>135265915</td>\n",
       "      <td>1990-03-30</td>\n",
       "      <td>1990</td>\n",
       "      <td>25398367</td>\n",
       "      <td>2006</td>\n",
       "      <td>5</td>\n",
       "      <td>2377</td>\n",
       "      <td>1990</td>\n",
       "      <td>NaN</td>\n",
       "      <td>NaN</td>\n",
       "      <td>NaN</td>\n",
       "      <td>NaN</td>\n",
       "      <td>NaN</td>\n",
       "      <td>NaN</td>\n",
       "      <td>NaN</td>\n",
       "    </tr>\n",
       "  </tbody>\n",
       "</table>\n",
       "</div>"
      ],
      "text/plain": [
       "                             close_date close_year      gross  open_date open_year  opening_gross  opening_theaters  ranking  total_theaters  year  review_count  star_avg  positive  valence_avg  valence_sum  n_scorables  pct_scorables\n",
       "title                                                                                                                                                                                                                                     \n",
       "Home Alone                         None       1991  285761243 1990-11-16      1990       17081997              1202        1            2173  1990           NaN       NaN       NaN          NaN          NaN          NaN            NaN\n",
       "Ghost                              None       1991  217631306 1990-07-13      1990       12191540              1101        2            1766  1990           NaN       NaN       NaN          NaN          NaN          NaN            NaN\n",
       "Dances with Wolves                 None       1991  184208848 1990-11-09      1990         598257                14        3            1636  1990           NaN       NaN       NaN          NaN          NaN          NaN            NaN\n",
       "Pretty Woman                       None       1991  178406268 1990-03-23      1990       11280591              1325        4            1811  1990             2         1         0     0.407409    84.055626          338       0.613324\n",
       "Teenage Mutant Ninja Turtles       None       1991  135265915 1990-03-30      1990       25398367              2006        5            2377  1990           NaN       NaN       NaN          NaN          NaN          NaN            NaN"
      ]
     },
     "execution_count": 47,
     "metadata": {},
     "output_type": "execute_result"
    }
   ],
   "source": [
    "flattened_df.head()"
   ]
  },
  {
   "cell_type": "code",
   "execution_count": 48,
   "metadata": {
    "collapsed": true
   },
   "outputs": [],
   "source": [
    "valence_df['abs_valence_avg'] = np.abs(valence_df['valence_avg']-np.mean(flattened_df['valence_avg']))\n",
    "abs_valence_avg = gold.abs_valence_avg.mean()\n",
    "flattened_df = pd.concat([flattened_df, abs_valence_avg], axis=1, join_axes=[indexed_df.index])"
   ]
  },
  {
   "cell_type": "markdown",
   "metadata": {},
   "source": [
    "Let's take a look at what our dataframe looks like now!"
   ]
  },
  {
   "cell_type": "code",
   "execution_count": 49,
   "metadata": {
    "collapsed": false,
    "scrolled": true
   },
   "outputs": [
    {
     "data": {
      "text/html": [
       "<div>\n",
       "<table border=\"1\" class=\"dataframe\">\n",
       "  <thead>\n",
       "    <tr style=\"text-align: right;\">\n",
       "      <th></th>\n",
       "      <th>close_date</th>\n",
       "      <th>close_year</th>\n",
       "      <th>gross</th>\n",
       "      <th>open_date</th>\n",
       "      <th>open_year</th>\n",
       "      <th>opening_gross</th>\n",
       "      <th>opening_theaters</th>\n",
       "      <th>ranking</th>\n",
       "      <th>total_theaters</th>\n",
       "      <th>year</th>\n",
       "      <th>review_count</th>\n",
       "      <th>star_avg</th>\n",
       "      <th>positive</th>\n",
       "      <th>valence_avg</th>\n",
       "      <th>valence_sum</th>\n",
       "      <th>n_scorables</th>\n",
       "      <th>pct_scorables</th>\n",
       "      <th>abs_valence_avg</th>\n",
       "    </tr>\n",
       "    <tr>\n",
       "      <th>title</th>\n",
       "      <th></th>\n",
       "      <th></th>\n",
       "      <th></th>\n",
       "      <th></th>\n",
       "      <th></th>\n",
       "      <th></th>\n",
       "      <th></th>\n",
       "      <th></th>\n",
       "      <th></th>\n",
       "      <th></th>\n",
       "      <th></th>\n",
       "      <th></th>\n",
       "      <th></th>\n",
       "      <th></th>\n",
       "      <th></th>\n",
       "      <th></th>\n",
       "      <th></th>\n",
       "      <th></th>\n",
       "    </tr>\n",
       "  </thead>\n",
       "  <tbody>\n",
       "    <tr>\n",
       "      <th>Home Alone</th>\n",
       "      <td>None</td>\n",
       "      <td>1991</td>\n",
       "      <td>285761243</td>\n",
       "      <td>1990-11-16</td>\n",
       "      <td>1990</td>\n",
       "      <td>17081997</td>\n",
       "      <td>1202</td>\n",
       "      <td>1</td>\n",
       "      <td>2173</td>\n",
       "      <td>1990</td>\n",
       "      <td>NaN</td>\n",
       "      <td>NaN</td>\n",
       "      <td>NaN</td>\n",
       "      <td>NaN</td>\n",
       "      <td>NaN</td>\n",
       "      <td>NaN</td>\n",
       "      <td>NaN</td>\n",
       "      <td>NaN</td>\n",
       "    </tr>\n",
       "    <tr>\n",
       "      <th>Ghost</th>\n",
       "      <td>None</td>\n",
       "      <td>1991</td>\n",
       "      <td>217631306</td>\n",
       "      <td>1990-07-13</td>\n",
       "      <td>1990</td>\n",
       "      <td>12191540</td>\n",
       "      <td>1101</td>\n",
       "      <td>2</td>\n",
       "      <td>1766</td>\n",
       "      <td>1990</td>\n",
       "      <td>NaN</td>\n",
       "      <td>NaN</td>\n",
       "      <td>NaN</td>\n",
       "      <td>NaN</td>\n",
       "      <td>NaN</td>\n",
       "      <td>NaN</td>\n",
       "      <td>NaN</td>\n",
       "      <td>NaN</td>\n",
       "    </tr>\n",
       "    <tr>\n",
       "      <th>Dances with Wolves</th>\n",
       "      <td>None</td>\n",
       "      <td>1991</td>\n",
       "      <td>184208848</td>\n",
       "      <td>1990-11-09</td>\n",
       "      <td>1990</td>\n",
       "      <td>598257</td>\n",
       "      <td>14</td>\n",
       "      <td>3</td>\n",
       "      <td>1636</td>\n",
       "      <td>1990</td>\n",
       "      <td>NaN</td>\n",
       "      <td>NaN</td>\n",
       "      <td>NaN</td>\n",
       "      <td>NaN</td>\n",
       "      <td>NaN</td>\n",
       "      <td>NaN</td>\n",
       "      <td>NaN</td>\n",
       "      <td>NaN</td>\n",
       "    </tr>\n",
       "    <tr>\n",
       "      <th>Pretty Woman</th>\n",
       "      <td>None</td>\n",
       "      <td>1991</td>\n",
       "      <td>178406268</td>\n",
       "      <td>1990-03-23</td>\n",
       "      <td>1990</td>\n",
       "      <td>11280591</td>\n",
       "      <td>1325</td>\n",
       "      <td>4</td>\n",
       "      <td>1811</td>\n",
       "      <td>1990</td>\n",
       "      <td>2</td>\n",
       "      <td>1</td>\n",
       "      <td>0</td>\n",
       "      <td>0.407409</td>\n",
       "      <td>84.055626</td>\n",
       "      <td>338</td>\n",
       "      <td>0.613324</td>\n",
       "      <td>0.129283</td>\n",
       "    </tr>\n",
       "    <tr>\n",
       "      <th>Teenage Mutant Ninja Turtles</th>\n",
       "      <td>None</td>\n",
       "      <td>1991</td>\n",
       "      <td>135265915</td>\n",
       "      <td>1990-03-30</td>\n",
       "      <td>1990</td>\n",
       "      <td>25398367</td>\n",
       "      <td>2006</td>\n",
       "      <td>5</td>\n",
       "      <td>2377</td>\n",
       "      <td>1990</td>\n",
       "      <td>NaN</td>\n",
       "      <td>NaN</td>\n",
       "      <td>NaN</td>\n",
       "      <td>NaN</td>\n",
       "      <td>NaN</td>\n",
       "      <td>NaN</td>\n",
       "      <td>NaN</td>\n",
       "      <td>NaN</td>\n",
       "    </tr>\n",
       "  </tbody>\n",
       "</table>\n",
       "</div>"
      ],
      "text/plain": [
       "                             close_date close_year      gross  open_date open_year  opening_gross  opening_theaters  ranking  total_theaters  year  review_count  star_avg  positive  valence_avg  valence_sum  n_scorables  pct_scorables  abs_valence_avg\n",
       "title                                                                                                                                                                                                                                                      \n",
       "Home Alone                         None       1991  285761243 1990-11-16      1990       17081997              1202        1            2173  1990           NaN       NaN       NaN          NaN          NaN          NaN            NaN              NaN\n",
       "Ghost                              None       1991  217631306 1990-07-13      1990       12191540              1101        2            1766  1990           NaN       NaN       NaN          NaN          NaN          NaN            NaN              NaN\n",
       "Dances with Wolves                 None       1991  184208848 1990-11-09      1990         598257                14        3            1636  1990           NaN       NaN       NaN          NaN          NaN          NaN            NaN              NaN\n",
       "Pretty Woman                       None       1991  178406268 1990-03-23      1990       11280591              1325        4            1811  1990             2         1         0     0.407409    84.055626          338       0.613324         0.129283\n",
       "Teenage Mutant Ninja Turtles       None       1991  135265915 1990-03-30      1990       25398367              2006        5            2377  1990           NaN       NaN       NaN          NaN          NaN          NaN            NaN              NaN"
      ]
     },
     "execution_count": 49,
     "metadata": {},
     "output_type": "execute_result"
    }
   ],
   "source": [
    "flattened_df.head()"
   ]
  },
  {
   "cell_type": "code",
   "execution_count": 50,
   "metadata": {
    "collapsed": false
   },
   "outputs": [
    {
     "data": {
      "text/plain": [
       "(334, 18)"
      ]
     },
     "execution_count": 50,
     "metadata": {},
     "output_type": "execute_result"
    }
   ],
   "source": [
    "# Take only those movies that appear in the IMDB data set, i.e. those that have a review count\n",
    "flattened_df = flattened_df[~flattened_df['review_count'].map(np.isnan)]\n",
    "# Let's see how many fo those we have\n",
    "flattened_df.shape"
   ]
  },
  {
   "cell_type": "code",
   "execution_count": 51,
   "metadata": {
    "collapsed": false,
    "scrolled": true
   },
   "outputs": [
    {
     "data": {
      "text/html": [
       "<div>\n",
       "<table border=\"1\" class=\"dataframe\">\n",
       "  <thead>\n",
       "    <tr style=\"text-align: right;\">\n",
       "      <th></th>\n",
       "      <th>close_date</th>\n",
       "      <th>close_year</th>\n",
       "      <th>gross</th>\n",
       "      <th>open_date</th>\n",
       "      <th>open_year</th>\n",
       "      <th>opening_gross</th>\n",
       "      <th>opening_theaters</th>\n",
       "      <th>ranking</th>\n",
       "      <th>total_theaters</th>\n",
       "      <th>year</th>\n",
       "      <th>review_count</th>\n",
       "      <th>star_avg</th>\n",
       "      <th>positive</th>\n",
       "      <th>valence_avg</th>\n",
       "      <th>valence_sum</th>\n",
       "      <th>n_scorables</th>\n",
       "      <th>pct_scorables</th>\n",
       "      <th>abs_valence_avg</th>\n",
       "    </tr>\n",
       "    <tr>\n",
       "      <th>title</th>\n",
       "      <th></th>\n",
       "      <th></th>\n",
       "      <th></th>\n",
       "      <th></th>\n",
       "      <th></th>\n",
       "      <th></th>\n",
       "      <th></th>\n",
       "      <th></th>\n",
       "      <th></th>\n",
       "      <th></th>\n",
       "      <th></th>\n",
       "      <th></th>\n",
       "      <th></th>\n",
       "      <th></th>\n",
       "      <th></th>\n",
       "      <th></th>\n",
       "      <th></th>\n",
       "      <th></th>\n",
       "    </tr>\n",
       "  </thead>\n",
       "  <tbody>\n",
       "    <tr>\n",
       "      <th>Pretty Woman</th>\n",
       "      <td>None</td>\n",
       "      <td>1991</td>\n",
       "      <td>178406268</td>\n",
       "      <td>1990-03-23</td>\n",
       "      <td>1990</td>\n",
       "      <td>11280591</td>\n",
       "      <td>1325</td>\n",
       "      <td>4</td>\n",
       "      <td>1811</td>\n",
       "      <td>1990</td>\n",
       "      <td>2</td>\n",
       "      <td>1.000000</td>\n",
       "      <td>0.0</td>\n",
       "      <td>0.407409</td>\n",
       "      <td>84.055626</td>\n",
       "      <td>338.000000</td>\n",
       "      <td>0.613324</td>\n",
       "      <td>0.129283</td>\n",
       "    </tr>\n",
       "    <tr>\n",
       "      <th>Dick Tracy</th>\n",
       "      <td>None</td>\n",
       "      <td>1991</td>\n",
       "      <td>103738726</td>\n",
       "      <td>1990-06-15</td>\n",
       "      <td>1990</td>\n",
       "      <td>22543911</td>\n",
       "      <td>2332</td>\n",
       "      <td>9</td>\n",
       "      <td>2332</td>\n",
       "      <td>1990</td>\n",
       "      <td>24</td>\n",
       "      <td>8.875000</td>\n",
       "      <td>1.0</td>\n",
       "      <td>0.619329</td>\n",
       "      <td>46.075866</td>\n",
       "      <td>142.750000</td>\n",
       "      <td>0.580769</td>\n",
       "      <td>0.294604</td>\n",
       "    </tr>\n",
       "    <tr>\n",
       "      <th>Flatliners</th>\n",
       "      <td>None</td>\n",
       "      <td>1991</td>\n",
       "      <td>61489265</td>\n",
       "      <td>1990-08-10</td>\n",
       "      <td>1990</td>\n",
       "      <td>10034685</td>\n",
       "      <td>1319</td>\n",
       "      <td>18</td>\n",
       "      <td>1483</td>\n",
       "      <td>1990</td>\n",
       "      <td>30</td>\n",
       "      <td>6.966667</td>\n",
       "      <td>0.8</td>\n",
       "      <td>0.341229</td>\n",
       "      <td>27.310654</td>\n",
       "      <td>145.866667</td>\n",
       "      <td>0.616311</td>\n",
       "      <td>0.164876</td>\n",
       "    </tr>\n",
       "    <tr>\n",
       "      <th>Problem Child</th>\n",
       "      <td>None</td>\n",
       "      <td>1991</td>\n",
       "      <td>53470891</td>\n",
       "      <td>1990-07-27</td>\n",
       "      <td>1990</td>\n",
       "      <td>10026900</td>\n",
       "      <td>1714</td>\n",
       "      <td>21</td>\n",
       "      <td>1769</td>\n",
       "      <td>1990</td>\n",
       "      <td>8</td>\n",
       "      <td>2.500000</td>\n",
       "      <td>0.0</td>\n",
       "      <td>0.181693</td>\n",
       "      <td>15.963458</td>\n",
       "      <td>120.000000</td>\n",
       "      <td>0.607353</td>\n",
       "      <td>0.192622</td>\n",
       "    </tr>\n",
       "    <tr>\n",
       "      <th>Marked for Death</th>\n",
       "      <td>None</td>\n",
       "      <td>1991</td>\n",
       "      <td>46044396</td>\n",
       "      <td>1990-10-05</td>\n",
       "      <td>1990</td>\n",
       "      <td>11790047</td>\n",
       "      <td>1968</td>\n",
       "      <td>27</td>\n",
       "      <td>1974</td>\n",
       "      <td>1990</td>\n",
       "      <td>3</td>\n",
       "      <td>4.000000</td>\n",
       "      <td>0.0</td>\n",
       "      <td>0.052945</td>\n",
       "      <td>10.623149</td>\n",
       "      <td>376.000000</td>\n",
       "      <td>0.564525</td>\n",
       "      <td>0.277000</td>\n",
       "    </tr>\n",
       "  </tbody>\n",
       "</table>\n",
       "</div>"
      ],
      "text/plain": [
       "                 close_date close_year      gross  open_date open_year  opening_gross  opening_theaters  ranking  total_theaters  year  review_count  star_avg  positive  valence_avg  valence_sum  n_scorables  pct_scorables  abs_valence_avg\n",
       "title                                                                                                                                                                                                                                          \n",
       "Pretty Woman           None       1991  178406268 1990-03-23      1990       11280591              1325        4            1811  1990             2  1.000000       0.0     0.407409    84.055626   338.000000       0.613324         0.129283\n",
       "Dick Tracy             None       1991  103738726 1990-06-15      1990       22543911              2332        9            2332  1990            24  8.875000       1.0     0.619329    46.075866   142.750000       0.580769         0.294604\n",
       "Flatliners             None       1991   61489265 1990-08-10      1990       10034685              1319       18            1483  1990            30  6.966667       0.8     0.341229    27.310654   145.866667       0.616311         0.164876\n",
       "Problem Child          None       1991   53470891 1990-07-27      1990       10026900              1714       21            1769  1990             8  2.500000       0.0     0.181693    15.963458   120.000000       0.607353         0.192622\n",
       "Marked for Death       None       1991   46044396 1990-10-05      1990       11790047              1968       27            1974  1990             3  4.000000       0.0     0.052945    10.623149   376.000000       0.564525         0.277000"
      ]
     },
     "execution_count": 51,
     "metadata": {},
     "output_type": "execute_result"
    }
   ],
   "source": [
    "flattened_df.head()"
   ]
  },
  {
   "cell_type": "code",
   "execution_count": 52,
   "metadata": {
    "collapsed": false,
    "scrolled": true
   },
   "outputs": [],
   "source": [
    "inflation = pd.read_csv(\"inf.csv\")"
   ]
  },
  {
   "cell_type": "code",
   "execution_count": 53,
   "metadata": {
    "collapsed": true
   },
   "outputs": [],
   "source": [
    "years_90 = range(1990,2015)\n",
    "infdict = {}\n",
    "\n",
    "infindex = 0\n",
    "infvalue = 1\n",
    "\n",
    "testlist = []\n",
    "for row in inflation.values:\n",
    "    currentval = 1 + (row[1]/100)\n",
    "    cuminf = infvalue*currentval\n",
    "    infdict[years_90[infindex]] = cuminf\n",
    "    infindex += 1\n",
    "    infvalue = cuminf\n",
    "    testlist.append(cuminf)\n",
    "\n",
    "inframe = pd.DataFrame(data=testlist, index=range(1990,2015))"
   ]
  },
  {
   "cell_type": "code",
   "execution_count": 55,
   "metadata": {
    "collapsed": false
   },
   "outputs": [
    {
     "data": {
      "text/plain": [
       "{1990: 1.0539795644,\n",
       " 1991: 1.098615219150804,\n",
       " 1992: 1.1318902930939463,\n",
       " 1993: 1.1652998117775315,\n",
       " 1994: 1.1956843237413164,\n",
       " 1995: 1.229228287177842,\n",
       " 1996: 1.2652594783591868,\n",
       " 1997: 1.2948373218617284,\n",
       " 1998: 1.3149368109750392,\n",
       " 1999: 1.3437079860225376,\n",
       " 2000: 1.3890830868495474,\n",
       " 2001: 1.4283409518690031,\n",
       " 2002: 1.4509948911070383,\n",
       " 2003: 1.4839338531885458,\n",
       " 2004: 1.5236622748059583,\n",
       " 2005: 1.5753562785628925,\n",
       " 2006: 1.626176391500925,\n",
       " 2007: 1.6725658779300527,\n",
       " 2008: 1.7367773595171863,\n",
       " 2009: 1.7306023124666896,\n",
       " 2010: 1.7589849421993997,\n",
       " 2011: 1.814513310047201,\n",
       " 2012: 1.852061710150393,\n",
       " 2013: 1.8791913148899477,\n",
       " 2014: 1.909675988181881}"
      ]
     },
     "execution_count": 55,
     "metadata": {},
     "output_type": "execute_result"
    }
   ],
   "source": [
    "infdict"
   ]
  },
  {
   "cell_type": "code",
   "execution_count": 57,
   "metadata": {
    "collapsed": false
   },
   "outputs": [],
   "source": [
    "newgross, newopengross = [], []\n",
    "for gross, opengross, openyr in zip(flattened_df.gross, flattened_df.opening_gross, flattened_df.open_year):\n",
    "    newgross.append(infdict[int(openyr)]*gross)\n",
    "    newopengross.append(infdict[int(openyr)]*opengross)"
   ]
  },
  {
   "cell_type": "code",
   "execution_count": 58,
   "metadata": {
    "collapsed": false
   },
   "outputs": [],
   "source": [
    "dftouse = flattened_df\n",
    "dftouse['adj_gross'] = newgross\n",
    "dftouse['adj_opening_gross'] = newopengross"
   ]
  },
  {
   "cell_type": "code",
   "execution_count": 60,
   "metadata": {
    "collapsed": false,
    "scrolled": true
   },
   "outputs": [],
   "source": [
    "# creating binary variables of adjusted grossing for classifications\n",
    "dftouse['adj_gross_bin'] = 1*(dftouse.adj_gross>np.mean(dftouse.adj_gross))\n",
    "dftouse['adj_opening_gross_bin'] = 1*(dftouse.adj_opening_gross>np.mean(dftouse.adj_opening_gross))"
   ]
  },
  {
   "cell_type": "code",
   "execution_count": 61,
   "metadata": {
    "collapsed": false,
    "scrolled": true
   },
   "outputs": [
    {
     "data": {
      "text/html": [
       "<div>\n",
       "<table border=\"1\" class=\"dataframe\">\n",
       "  <thead>\n",
       "    <tr style=\"text-align: right;\">\n",
       "      <th></th>\n",
       "      <th>close_date</th>\n",
       "      <th>close_year</th>\n",
       "      <th>gross</th>\n",
       "      <th>open_date</th>\n",
       "      <th>open_year</th>\n",
       "      <th>opening_gross</th>\n",
       "      <th>opening_theaters</th>\n",
       "      <th>ranking</th>\n",
       "      <th>total_theaters</th>\n",
       "      <th>year</th>\n",
       "      <th>review_count</th>\n",
       "      <th>star_avg</th>\n",
       "      <th>positive</th>\n",
       "      <th>valence_avg</th>\n",
       "      <th>valence_sum</th>\n",
       "      <th>n_scorables</th>\n",
       "      <th>pct_scorables</th>\n",
       "      <th>abs_valence_avg</th>\n",
       "      <th>adj_gross</th>\n",
       "      <th>adj_opening_gross</th>\n",
       "      <th>adj_gross_bin</th>\n",
       "      <th>adj_opening_gross_bin</th>\n",
       "    </tr>\n",
       "    <tr>\n",
       "      <th>title</th>\n",
       "      <th></th>\n",
       "      <th></th>\n",
       "      <th></th>\n",
       "      <th></th>\n",
       "      <th></th>\n",
       "      <th></th>\n",
       "      <th></th>\n",
       "      <th></th>\n",
       "      <th></th>\n",
       "      <th></th>\n",
       "      <th></th>\n",
       "      <th></th>\n",
       "      <th></th>\n",
       "      <th></th>\n",
       "      <th></th>\n",
       "      <th></th>\n",
       "      <th></th>\n",
       "      <th></th>\n",
       "      <th></th>\n",
       "      <th></th>\n",
       "      <th></th>\n",
       "      <th></th>\n",
       "    </tr>\n",
       "  </thead>\n",
       "  <tbody>\n",
       "    <tr>\n",
       "      <th>Pretty Woman</th>\n",
       "      <td>None</td>\n",
       "      <td>1991</td>\n",
       "      <td>178406268</td>\n",
       "      <td>1990-03-23</td>\n",
       "      <td>1990</td>\n",
       "      <td>11280591</td>\n",
       "      <td>1325</td>\n",
       "      <td>4</td>\n",
       "      <td>1811</td>\n",
       "      <td>1990</td>\n",
       "      <td>2</td>\n",
       "      <td>1.000000</td>\n",
       "      <td>0.0</td>\n",
       "      <td>0.407409</td>\n",
       "      <td>84.055626</td>\n",
       "      <td>338.000000</td>\n",
       "      <td>0.613324</td>\n",
       "      <td>0.129283</td>\n",
       "      <td>1.880366e+08</td>\n",
       "      <td>11889512.388355</td>\n",
       "      <td>1</td>\n",
       "      <td>0</td>\n",
       "    </tr>\n",
       "    <tr>\n",
       "      <th>Dick Tracy</th>\n",
       "      <td>None</td>\n",
       "      <td>1991</td>\n",
       "      <td>103738726</td>\n",
       "      <td>1990-06-15</td>\n",
       "      <td>1990</td>\n",
       "      <td>22543911</td>\n",
       "      <td>2332</td>\n",
       "      <td>9</td>\n",
       "      <td>2332</td>\n",
       "      <td>1990</td>\n",
       "      <td>24</td>\n",
       "      <td>8.875000</td>\n",
       "      <td>1.0</td>\n",
       "      <td>0.619329</td>\n",
       "      <td>46.075866</td>\n",
       "      <td>142.750000</td>\n",
       "      <td>0.580769</td>\n",
       "      <td>0.294604</td>\n",
       "      <td>1.093385e+08</td>\n",
       "      <td>23760821.495652</td>\n",
       "      <td>1</td>\n",
       "      <td>1</td>\n",
       "    </tr>\n",
       "    <tr>\n",
       "      <th>Flatliners</th>\n",
       "      <td>None</td>\n",
       "      <td>1991</td>\n",
       "      <td>61489265</td>\n",
       "      <td>1990-08-10</td>\n",
       "      <td>1990</td>\n",
       "      <td>10034685</td>\n",
       "      <td>1319</td>\n",
       "      <td>18</td>\n",
       "      <td>1483</td>\n",
       "      <td>1990</td>\n",
       "      <td>30</td>\n",
       "      <td>6.966667</td>\n",
       "      <td>0.8</td>\n",
       "      <td>0.341229</td>\n",
       "      <td>27.310654</td>\n",
       "      <td>145.866667</td>\n",
       "      <td>0.616311</td>\n",
       "      <td>0.164876</td>\n",
       "      <td>6.480843e+07</td>\n",
       "      <td>10576352.925191</td>\n",
       "      <td>0</td>\n",
       "      <td>0</td>\n",
       "    </tr>\n",
       "    <tr>\n",
       "      <th>Problem Child</th>\n",
       "      <td>None</td>\n",
       "      <td>1991</td>\n",
       "      <td>53470891</td>\n",
       "      <td>1990-07-27</td>\n",
       "      <td>1990</td>\n",
       "      <td>10026900</td>\n",
       "      <td>1714</td>\n",
       "      <td>21</td>\n",
       "      <td>1769</td>\n",
       "      <td>1990</td>\n",
       "      <td>8</td>\n",
       "      <td>2.500000</td>\n",
       "      <td>0.0</td>\n",
       "      <td>0.181693</td>\n",
       "      <td>15.963458</td>\n",
       "      <td>120.000000</td>\n",
       "      <td>0.607353</td>\n",
       "      <td>0.192622</td>\n",
       "      <td>5.635723e+07</td>\n",
       "      <td>10568147.694282</td>\n",
       "      <td>0</td>\n",
       "      <td>0</td>\n",
       "    </tr>\n",
       "    <tr>\n",
       "      <th>Marked for Death</th>\n",
       "      <td>None</td>\n",
       "      <td>1991</td>\n",
       "      <td>46044396</td>\n",
       "      <td>1990-10-05</td>\n",
       "      <td>1990</td>\n",
       "      <td>11790047</td>\n",
       "      <td>1968</td>\n",
       "      <td>27</td>\n",
       "      <td>1974</td>\n",
       "      <td>1990</td>\n",
       "      <td>3</td>\n",
       "      <td>4.000000</td>\n",
       "      <td>0.0</td>\n",
       "      <td>0.052945</td>\n",
       "      <td>10.623149</td>\n",
       "      <td>376.000000</td>\n",
       "      <td>0.564525</td>\n",
       "      <td>0.277000</td>\n",
       "      <td>4.852985e+07</td>\n",
       "      <td>12426468.601316</td>\n",
       "      <td>0</td>\n",
       "      <td>0</td>\n",
       "    </tr>\n",
       "  </tbody>\n",
       "</table>\n",
       "</div>"
      ],
      "text/plain": [
       "                 close_date close_year      gross  open_date open_year  opening_gross  opening_theaters  ranking  total_theaters  year  review_count  star_avg  positive  valence_avg  valence_sum  n_scorables  pct_scorables  abs_valence_avg     adj_gross  adj_opening_gross  adj_gross_bin  adj_opening_gross_bin\n",
       "title                                                                                                                                                                                                                                                                                                                 \n",
       "Pretty Woman           None       1991  178406268 1990-03-23      1990       11280591              1325        4            1811  1990             2  1.000000       0.0     0.407409    84.055626   338.000000       0.613324         0.129283  1.880366e+08    11889512.388355              1                      0\n",
       "Dick Tracy             None       1991  103738726 1990-06-15      1990       22543911              2332        9            2332  1990            24  8.875000       1.0     0.619329    46.075866   142.750000       0.580769         0.294604  1.093385e+08    23760821.495652              1                      1\n",
       "Flatliners             None       1991   61489265 1990-08-10      1990       10034685              1319       18            1483  1990            30  6.966667       0.8     0.341229    27.310654   145.866667       0.616311         0.164876  6.480843e+07    10576352.925191              0                      0\n",
       "Problem Child          None       1991   53470891 1990-07-27      1990       10026900              1714       21            1769  1990             8  2.500000       0.0     0.181693    15.963458   120.000000       0.607353         0.192622  5.635723e+07    10568147.694282              0                      0\n",
       "Marked for Death       None       1991   46044396 1990-10-05      1990       11790047              1968       27            1974  1990             3  4.000000       0.0     0.052945    10.623149   376.000000       0.564525         0.277000  4.852985e+07    12426468.601316              0                      0"
      ]
     },
     "execution_count": 61,
     "metadata": {},
     "output_type": "execute_result"
    }
   ],
   "source": [
    "dftouse.head()"
   ]
  },
  {
   "cell_type": "markdown",
   "metadata": {},
   "source": [
    "Now that we have adjusted for inflation, we can remove the previous gross and all columns pertaining to date (except perhaps `year`, since it's interesting)."
   ]
  },
  {
   "cell_type": "code",
   "execution_count": 62,
   "metadata": {
    "collapsed": true
   },
   "outputs": [],
   "source": [
    "keep = ['ranking','total_theaters', 'year', 'review_count', 'star_avg','positive','valence_avg','valence_sum',\n",
    "        'n_scorables','pct_scorables','abs_valence_avg','adj_gross', 'adj_opening_gross', 'adj_gross_bin','adj_opening_gross_bin']\n",
    "dftouse = dftouse[keep]"
   ]
  },
  {
   "cell_type": "code",
   "execution_count": 65,
   "metadata": {
    "collapsed": false
   },
   "outputs": [
    {
     "data": {
      "text/html": [
       "<div>\n",
       "<table border=\"1\" class=\"dataframe\">\n",
       "  <thead>\n",
       "    <tr style=\"text-align: right;\">\n",
       "      <th></th>\n",
       "      <th>ranking</th>\n",
       "      <th>total_theaters</th>\n",
       "      <th>year</th>\n",
       "      <th>review_count</th>\n",
       "      <th>star_avg</th>\n",
       "      <th>positive</th>\n",
       "      <th>valence_avg</th>\n",
       "      <th>valence_sum</th>\n",
       "      <th>n_scorables</th>\n",
       "      <th>pct_scorables</th>\n",
       "      <th>abs_valence_avg</th>\n",
       "      <th>adj_gross</th>\n",
       "      <th>adj_opening_gross</th>\n",
       "      <th>adj_gross_bin</th>\n",
       "      <th>adj_opening_gross_bin</th>\n",
       "    </tr>\n",
       "    <tr>\n",
       "      <th>title</th>\n",
       "      <th></th>\n",
       "      <th></th>\n",
       "      <th></th>\n",
       "      <th></th>\n",
       "      <th></th>\n",
       "      <th></th>\n",
       "      <th></th>\n",
       "      <th></th>\n",
       "      <th></th>\n",
       "      <th></th>\n",
       "      <th></th>\n",
       "      <th></th>\n",
       "      <th></th>\n",
       "      <th></th>\n",
       "      <th></th>\n",
       "    </tr>\n",
       "  </thead>\n",
       "  <tbody>\n",
       "    <tr>\n",
       "      <th>Pretty Woman</th>\n",
       "      <td>4</td>\n",
       "      <td>1811</td>\n",
       "      <td>1990</td>\n",
       "      <td>2</td>\n",
       "      <td>1.000000</td>\n",
       "      <td>0.0</td>\n",
       "      <td>0.407409</td>\n",
       "      <td>84.055626</td>\n",
       "      <td>338.000000</td>\n",
       "      <td>0.613324</td>\n",
       "      <td>0.129283</td>\n",
       "      <td>1.880366e+08</td>\n",
       "      <td>11889512.388355</td>\n",
       "      <td>1</td>\n",
       "      <td>0</td>\n",
       "    </tr>\n",
       "    <tr>\n",
       "      <th>Dick Tracy</th>\n",
       "      <td>9</td>\n",
       "      <td>2332</td>\n",
       "      <td>1990</td>\n",
       "      <td>24</td>\n",
       "      <td>8.875000</td>\n",
       "      <td>1.0</td>\n",
       "      <td>0.619329</td>\n",
       "      <td>46.075866</td>\n",
       "      <td>142.750000</td>\n",
       "      <td>0.580769</td>\n",
       "      <td>0.294604</td>\n",
       "      <td>1.093385e+08</td>\n",
       "      <td>23760821.495652</td>\n",
       "      <td>1</td>\n",
       "      <td>1</td>\n",
       "    </tr>\n",
       "    <tr>\n",
       "      <th>Flatliners</th>\n",
       "      <td>18</td>\n",
       "      <td>1483</td>\n",
       "      <td>1990</td>\n",
       "      <td>30</td>\n",
       "      <td>6.966667</td>\n",
       "      <td>0.8</td>\n",
       "      <td>0.341229</td>\n",
       "      <td>27.310654</td>\n",
       "      <td>145.866667</td>\n",
       "      <td>0.616311</td>\n",
       "      <td>0.164876</td>\n",
       "      <td>6.480843e+07</td>\n",
       "      <td>10576352.925191</td>\n",
       "      <td>0</td>\n",
       "      <td>0</td>\n",
       "    </tr>\n",
       "    <tr>\n",
       "      <th>Problem Child</th>\n",
       "      <td>21</td>\n",
       "      <td>1769</td>\n",
       "      <td>1990</td>\n",
       "      <td>8</td>\n",
       "      <td>2.500000</td>\n",
       "      <td>0.0</td>\n",
       "      <td>0.181693</td>\n",
       "      <td>15.963458</td>\n",
       "      <td>120.000000</td>\n",
       "      <td>0.607353</td>\n",
       "      <td>0.192622</td>\n",
       "      <td>5.635723e+07</td>\n",
       "      <td>10568147.694282</td>\n",
       "      <td>0</td>\n",
       "      <td>0</td>\n",
       "    </tr>\n",
       "    <tr>\n",
       "      <th>Marked for Death</th>\n",
       "      <td>27</td>\n",
       "      <td>1974</td>\n",
       "      <td>1990</td>\n",
       "      <td>3</td>\n",
       "      <td>4.000000</td>\n",
       "      <td>0.0</td>\n",
       "      <td>0.052945</td>\n",
       "      <td>10.623149</td>\n",
       "      <td>376.000000</td>\n",
       "      <td>0.564525</td>\n",
       "      <td>0.277000</td>\n",
       "      <td>4.852985e+07</td>\n",
       "      <td>12426468.601316</td>\n",
       "      <td>0</td>\n",
       "      <td>0</td>\n",
       "    </tr>\n",
       "  </tbody>\n",
       "</table>\n",
       "</div>"
      ],
      "text/plain": [
       "                  ranking  total_theaters  year  review_count  star_avg  positive  valence_avg  valence_sum  n_scorables  pct_scorables  abs_valence_avg     adj_gross  adj_opening_gross  adj_gross_bin  adj_opening_gross_bin\n",
       "title                                                                                                                                                                                                                          \n",
       "Pretty Woman            4            1811  1990             2  1.000000       0.0     0.407409    84.055626   338.000000       0.613324         0.129283  1.880366e+08    11889512.388355              1                      0\n",
       "Dick Tracy              9            2332  1990            24  8.875000       1.0     0.619329    46.075866   142.750000       0.580769         0.294604  1.093385e+08    23760821.495652              1                      1\n",
       "Flatliners             18            1483  1990            30  6.966667       0.8     0.341229    27.310654   145.866667       0.616311         0.164876  6.480843e+07    10576352.925191              0                      0\n",
       "Problem Child          21            1769  1990             8  2.500000       0.0     0.181693    15.963458   120.000000       0.607353         0.192622  5.635723e+07    10568147.694282              0                      0\n",
       "Marked for Death       27            1974  1990             3  4.000000       0.0     0.052945    10.623149   376.000000       0.564525         0.277000  4.852985e+07    12426468.601316              0                      0"
      ]
     },
     "execution_count": 65,
     "metadata": {},
     "output_type": "execute_result"
    }
   ],
   "source": [
    "# Let's see the new data frame\n",
    "dftouse.head()"
   ]
  },
  {
   "cell_type": "code",
   "execution_count": 68,
   "metadata": {
    "collapsed": false
   },
   "outputs": [
    {
     "data": {
      "text/plain": [
       "<matplotlib.text.Text at 0x10dd26b90>"
      ]
     },
     "execution_count": 68,
     "metadata": {},
     "output_type": "execute_result"
    },
    {
     "data": {
      "image/png": "[encoded data removed]",
      "text/plain": [
       "<matplotlib.figure.Figure at 0x10dcb3f10>"
      ]
     },
     "metadata": {},
     "output_type": "display_data"
    }
   ],
   "source": [
    "plt.hist(dftouse.adj_gross_bin)\n",
    "plt.title(\"Gross Above Mean (1) vs. Gross Below Mean (0)\")"
   ]
  },
  {
   "cell_type": "code",
   "execution_count": 69,
   "metadata": {
    "collapsed": false,
    "scrolled": true
   },
   "outputs": [],
   "source": [
    "# Let's save\n",
    "fp = open(\"dftouse.json\",\"w\")\n",
    "json.dump(dftouse.to_dict(), fp)\n",
    "fp.close()"
   ]
  },
  {
   "cell_type": "markdown",
   "metadata": {},
   "source": [
    "- useful to consider polarizing reviews actually predict the box office performance\n",
    "- measures of dispersion on the sentiment analysis\n",
    "- different types of distributions you have in a given review\n",
    "- how frequently are certain words used\n",
    "- average length of words\n",
    "- average document lengths\n",
    "- ratio between high valence words and low valence words\n",
    "- we can do different sentiment scores based on different sentiment dictionaries\n",
    "- could use a BOW model (have the corpus of words in the reviews) & shrink down for regularization \n",
    "\n",
    "- We can adopt the hypothesis that stars predict box office gross\n",
    "- Or hypothesis that evry polarized responses predict box office gross\n",
    "- okay to have dud hypothesis\n",
    "\n",
    "- Graded on the effort we put in - low unimpressive results should not be equated with not having much work to do. We can make up for it via lit reviews or extra research. "
   ]
  },
  {
   "cell_type": "markdown",
   "metadata": {},
   "source": [
    "### Analysis"
   ]
  },
  {
   "cell_type": "code",
   "execution_count": 147,
   "metadata": {
    "collapsed": true
   },
   "outputs": [],
   "source": [
    "# Reopen dftouse\n",
    "with open(\"dftouse.json\", \"r\") as fp:\n",
    "    dftouse_dict = json.load(fp)\n",
    "dftouse = pd.DataFrame(dftouse_dict)"
   ]
  },
  {
   "cell_type": "markdown",
   "metadata": {},
   "source": [
    "We have chosen to only use opening grossing of movies as our y-variable. This is because the time for which the movie is open is standardized. We considered using (total grossing)/(total time in theaters) as the y-variable, but this was not feasible because we do not have a closing date for every movie and therefore could not calculate the total time in theaters fo every review."
   ]
  },
  {
   "cell_type": "markdown",
   "metadata": {},
   "source": [
    "Let's remove outliers from the dataset, so that we can more easily see trends. An outlier in column valence_avg is defined as a point that it more than 3 standard deviations away from the mean."
   ]
  },
  {
   "cell_type": "code",
   "execution_count": 154,
   "metadata": {
    "collapsed": false
   },
   "outputs": [],
   "source": [
    "def is_not_outlier(num, avg, sd, m = 3.):\n",
    "    return np.absolute(num-avg) < m*sd"
   ]
  },
  {
   "cell_type": "code",
   "execution_count": 155,
   "metadata": {
    "collapsed": false
   },
   "outputs": [],
   "source": [
    "v_avg_avg = np.mean(dftouse.valence_avg)\n",
    "v_avg_sd = np.std(dftouse.valence_avg)\n",
    "mask = [is_not_outlier(num, v_avg_avg, v_avg_sd) for num in dftouse.valence_avg]"
   ]
  },
  {
   "cell_type": "markdown",
   "metadata": {},
   "source": [
    "Let's see how many outliers we removed."
   ]
  },
  {
   "cell_type": "code",
   "execution_count": 156,
   "metadata": {
    "collapsed": false
   },
   "outputs": [
    {
     "data": {
      "text/plain": [
       "2"
      ]
     },
     "execution_count": 156,
     "metadata": {},
     "output_type": "execute_result"
    }
   ],
   "source": [
    "len(dftouse.valence_avg) - sum(mask)"
   ]
  },
  {
   "cell_type": "code",
   "execution_count": 157,
   "metadata": {
    "collapsed": false
   },
   "outputs": [],
   "source": [
    "dftouse = dftouse[mask]"
   ]
  },
  {
   "cell_type": "markdown",
   "metadata": {},
   "source": [
    "Now let's make scatter plots for each review, of opening gross values against average valence, sum valence, and polarity (absolute valence_avg)."
   ]
  },
  {
   "cell_type": "code",
   "execution_count": 158,
   "metadata": {
    "collapsed": false
   },
   "outputs": [
    {
     "data": {
      "image/png": "[encoded data removed]",
      "text/plain": [
       "<matplotlib.figure.Figure at 0x12954ced0>"
      ]
     },
     "metadata": {},
     "output_type": "display_data"
    }
   ],
   "source": [
    "# First, let's make scatter plots of opening gross numbers against valence_avg\n",
    "fig, axes = plt.subplots(nrows = 1, ncols = 3, figsize=(25, 8),tight_layout = True)\n",
    "titles = [\"Opening Gross vs. Valence Avg\", \"Opening Gross vs. Valence Sum\", \"Opening Gross vs. Polarity\"]\n",
    "xlabels = [\"Valence Avg\", \"Valence Sum\", \"| Valence Avg |\"]\n",
    "x = [dftouse.valence_avg, dftouse.valence_sum, dftouse.abs_valence_avg]\n",
    "for (ax, title, xlabel, x) in zip(axes.ravel(), titles, xlabels, x):\n",
    "    m, b = np.polyfit(x, dftouse.adj_opening_gross, 1)\n",
    "#     ax.plot(x, m*x + b, '-')\n",
    "    ax.plot(x, dftouse.adj_opening_gross, '.',x, m*x + b, '-')\n",
    "    ax.set_title(title)\n",
    "    ax.set_xlabel(xlabel)\n",
    "    ax.set_ylim(-1000, 1.8*1e8)"
   ]
  },
  {
   "cell_type": "markdown",
   "metadata": {},
   "source": [
    "The above scatterplots seem to show that there is little correlation between opening gross and all three predictors."
   ]
  },
  {
   "cell_type": "markdown",
   "metadata": {},
   "source": [
    "However, we foresee a limitation to our analysis. The reviews dataset we have was constructed by taking the most polarizing reviews that did not represent the realistic viewership response. For example, very successful movies that have bad reviews might be predicted as lowly grossing because they have a few poor reviews and it is in our dataset. To curb this problem, we are going to divide our dataset into movies that that received poor reviews and movies receivin good reviews. This is defined as the reviewer giving less than 4 stars and the reviewer giving more than 7 stars. We then conduct our regression analysis for each of these sub-datasets. Our hypothesis is that good, higher grossing movies that received poor reviews will receive less poorer reviews on average. In contrast, the good movies that received good reviews should receive higher reviews on average. We create these separate datasets below."
   ]
  },
  {
   "cell_type": "code",
   "execution_count": 163,
   "metadata": {
    "collapsed": false
   },
   "outputs": [],
   "source": [
    "dftouse_small = dftouse[dftouse['valence_avg'] <= np.mean(dftouse['valence_avg'])]\n",
    "dftouse_large = dftouse[dftouse['valence_avg'] >= np.mean(dftouse['valence_avg'])]"
   ]
  },
  {
   "cell_type": "code",
   "execution_count": 164,
   "metadata": {
    "collapsed": false
   },
   "outputs": [
    {
     "data": {
      "text/html": [
       "<table class=\"simpletable\">\n",
       "<caption>OLS Regression Results</caption>\n",
       "<tr>\n",
       "  <th>Dep. Variable:</th>    <td>adj_opening_gross</td> <th>  R-squared:         </th> <td>   0.000</td> \n",
       "</tr>\n",
       "<tr>\n",
       "  <th>Model:</th>                   <td>OLS</td>        <th>  Adj. R-squared:    </th> <td>  -0.007</td> \n",
       "</tr>\n",
       "<tr>\n",
       "  <th>Method:</th>             <td>Least Squares</td>   <th>  F-statistic:       </th> <td>6.968e-06</td>\n",
       "</tr>\n",
       "<tr>\n",
       "  <th>Date:</th>             <td>Sat, 05 Dec 2015</td>  <th>  Prob (F-statistic):</th>  <td> 0.998</td>  \n",
       "</tr>\n",
       "<tr>\n",
       "  <th>Time:</th>                 <td>15:55:44</td>      <th>  Log-Likelihood:    </th> <td> -2829.6</td> \n",
       "</tr>\n",
       "<tr>\n",
       "  <th>No. Observations:</th>      <td>   154</td>       <th>  AIC:               </th> <td>   5663.</td> \n",
       "</tr>\n",
       "<tr>\n",
       "  <th>Df Residuals:</th>          <td>   152</td>       <th>  BIC:               </th> <td>   5669.</td> \n",
       "</tr>\n",
       "<tr>\n",
       "  <th>Df Model:</th>              <td>     1</td>       <th>                     </th>     <td> </td>    \n",
       "</tr>\n",
       "<tr>\n",
       "  <th>Covariance Type:</th>      <td>nonrobust</td>     <th>                     </th>     <td> </td>    \n",
       "</tr>\n",
       "</table>\n",
       "<table class=\"simpletable\">\n",
       "<tr>\n",
       "       <td></td>          <th>coef</th>     <th>std err</th>      <th>t</th>      <th>P>|t|</th> <th>[95.0% Conf. Int.]</th> \n",
       "</tr>\n",
       "<tr>\n",
       "  <th>Intercept</th>   <td> 2.265e+07</td> <td> 5.08e+06</td> <td>    4.456</td> <td> 0.000</td> <td> 1.26e+07  3.27e+07</td>\n",
       "</tr>\n",
       "<tr>\n",
       "  <th>valence_sum</th> <td>  409.0778</td> <td> 1.55e+05</td> <td>    0.003</td> <td> 0.998</td> <td>-3.06e+05  3.07e+05</td>\n",
       "</tr>\n",
       "</table>\n",
       "<table class=\"simpletable\">\n",
       "<tr>\n",
       "  <th>Omnibus:</th>       <td>105.108</td> <th>  Durbin-Watson:     </th> <td>   2.024</td> \n",
       "</tr>\n",
       "<tr>\n",
       "  <th>Prob(Omnibus):</th> <td> 0.000</td>  <th>  Jarque-Bera (JB):  </th> <td> 747.547</td> \n",
       "</tr>\n",
       "<tr>\n",
       "  <th>Skew:</th>          <td> 2.478</td>  <th>  Prob(JB):          </th> <td>4.70e-163</td>\n",
       "</tr>\n",
       "<tr>\n",
       "  <th>Kurtosis:</th>      <td>12.589</td>  <th>  Cond. No.          </th> <td>    89.0</td> \n",
       "</tr>\n",
       "</table>"
      ],
      "text/plain": [
       "<class 'statsmodels.iolib.summary.Summary'>\n",
       "\"\"\"\n",
       "                            OLS Regression Results                            \n",
       "==============================================================================\n",
       "Dep. Variable:      adj_opening_gross   R-squared:                       0.000\n",
       "Model:                            OLS   Adj. R-squared:                 -0.007\n",
       "Method:                 Least Squares   F-statistic:                 6.968e-06\n",
       "Date:                Sat, 05 Dec 2015   Prob (F-statistic):              0.998\n",
       "Time:                        15:55:44   Log-Likelihood:                -2829.6\n",
       "No. Observations:                 154   AIC:                             5663.\n",
       "Df Residuals:                     152   BIC:                             5669.\n",
       "Df Model:                           1                                         \n",
       "Covariance Type:            nonrobust                                         \n",
       "===============================================================================\n",
       "                  coef    std err          t      P>|t|      [95.0% Conf. Int.]\n",
       "-------------------------------------------------------------------------------\n",
       "Intercept    2.265e+07   5.08e+06      4.456      0.000      1.26e+07  3.27e+07\n",
       "valence_sum   409.0778   1.55e+05      0.003      0.998     -3.06e+05  3.07e+05\n",
       "==============================================================================\n",
       "Omnibus:                      105.108   Durbin-Watson:                   2.024\n",
       "Prob(Omnibus):                  0.000   Jarque-Bera (JB):              747.547\n",
       "Skew:                           2.478   Prob(JB):                    4.70e-163\n",
       "Kurtosis:                      12.589   Cond. No.                         89.0\n",
       "==============================================================================\n",
       "\n",
       "Warnings:\n",
       "[1] Standard Errors assume that the covariance matrix of the errors is correctly specified.\n",
       "\"\"\""
      ]
     },
     "execution_count": 164,
     "metadata": {},
     "output_type": "execute_result"
    }
   ],
   "source": [
    "# And now, regressions\n",
    "reg_list = []\n",
    "\n",
    "og_val_avg = ols('adj_opening_gross ~ valence_avg',dftouse).fit()\n",
    "og_val_avg_small = ols('adj_opening_gross ~ valence_avg',dftouse_small).fit()\n",
    "og_val_avg_large = ols('adj_opening_gross ~ valence_avg',dftouse_large).fit()\n",
    "og_abs_val_avg_large = ols('adj_opening_gross ~ abs_valence_avg',dftouse).fit()\n",
    "\n",
    "og_val_sum = ols('adj_opening_gross ~ valence_sum',dftouse).fit()\n",
    "og_val_sum_small = ols('adj_opening_gross ~ valence_sum',dftouse_small).fit()\n",
    "og_val_sum_large = ols('adj_opening_gross ~ valence_sum',dftouse_large).fit()\n",
    "\n",
    "reg_list.append(og_val_avg)\n",
    "reg_list.append(og_val_avg)\n",
    "reg_list.append(og_val_avg_small)\n",
    "reg_list.append(og_val_avg_large)\n",
    "reg_list.append(og_abs_val_avg_large)\n",
    "\n",
    "reg_list.append(og_val_sum)\n",
    "reg_list.append(og_val_sum_small)\n",
    "reg_list.append(og_val_sum_large)\n",
    "\n",
    "og_val_avg.summary()\n",
    "og_val_avg_small.summary()\n",
    "og_val_avg_large.summary()\n",
    "og_abs_val_avg_large.summary()\n",
    "\n",
    "og_val_sum.summary()\n",
    "og_val_sum_small.summary()\n",
    "og_val_sum_large.summary()"
   ]
  },
  {
   "cell_type": "code",
   "execution_count": 167,
   "metadata": {
    "collapsed": false
   },
   "outputs": [
    {
     "name": "stdout",
     "output_type": "stream",
     "text": [
      "Optimization terminated successfully.\n",
      "         Current function value: 0.620079\n",
      "         Iterations 5\n",
      "                           Logit Regression Results                           \n",
      "==============================================================================\n",
      "Dep. Variable:          adj_gross_bin   No. Observations:                  331\n",
      "Model:                          Logit   Df Residuals:                      329\n",
      "Method:                           MLE   Df Model:                            1\n",
      "Date:                Sat, 05 Dec 2015   Pseudo R-squ.:                 0.01112\n",
      "Time:                        15:56:02   Log-Likelihood:                -205.25\n",
      "converged:                       True   LL-Null:                       -207.55\n",
      "                                        LLR p-value:                   0.03168\n",
      "===================================================================================\n",
      "                      coef    std err          z      P>|z|      [95.0% Conf. Int.]\n",
      "-----------------------------------------------------------------------------------\n",
      "Intercept          -0.1770      0.292     -0.605      0.545        -0.750     0.396\n",
      "abs_valence_avg    -2.8592      1.357     -2.107      0.035        -5.518    -0.200\n",
      "===================================================================================\n"
     ]
    }
   ],
   "source": [
    "logit_model = logit('adj_gross_bin ~ abs_valence_avg',dftouse).fit()\n",
    "print logit_model.summary()"
   ]
  },
  {
   "cell_type": "code",
   "execution_count": null,
   "metadata": {
    "collapsed": true
   },
   "outputs": [],
   "source": [
    "### Classify things!\n",
    "\n",
    "\n",
    "clfsvm=LinearSVC(loss=\"hinge\")\n",
    "# Cs=[0.001, 0.01, 0.1, 1.0, 10.0, 100.0]\n",
    "Xmatrix=adjframe[lcols].values\n",
    "Yresp=adjframe['RESP'].adj_opening_gross"
   ]
  },
  {
   "cell_type": "markdown",
   "metadata": {},
   "source": [
    "### Visualization"
   ]
  },
  {
   "cell_type": "markdown",
   "metadata": {},
   "source": [
    "## Milestone 3: Video and finishing touches"
   ]
  },
  {
   "cell_type": "markdown",
   "metadata": {},
   "source": [
    "### Screencast video"
   ]
  },
  {
   "cell_type": "markdown",
   "metadata": {},
   "source": [
    "### Website"
   ]
  },
  {
   "cell_type": "markdown",
   "metadata": {},
   "source": [
    "### Finishing touches"
   ]
  },
  {
   "cell_type": "code",
   "execution_count": null,
   "metadata": {
    "collapsed": true
   },
   "outputs": [],
   "source": []
  },
  {
   "cell_type": "markdown",
   "metadata": {},
   "source": [
    "Our analysis seems to show that valence is not a good predictor of grossing for movies. This is perhaps because our valence values are not representative of the reviews.\n",
    "\n",
    "At this stage, we would like at least establish a relationship between movie grossing and review"
   ]
  }
 ],
 "metadata": {
  "kernelspec": {
   "display_name": "Python 2",
   "language": "python",
   "name": "python2"
  },
  "language_info": {
   "codemirror_mode": {
    "name": "ipython",
    "version": 2
   },
   "file_extension": ".py",
   "mimetype": "text/x-python",
   "name": "python",
   "nbconvert_exporter": "python",
   "pygments_lexer": "ipython2",
   "version": "2.7.10"
  }
 },
 "nbformat": 4,
 "nbformat_minor": 0
}
