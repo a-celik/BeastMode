{
 "cells": [
  {
   "cell_type": "markdown",
   "metadata": {},
   "source": [
    "# CS109 Final Project Process Book"
   ]
  },
  {
   "cell_type": "markdown",
   "metadata": {},
   "source": [
    "## Background & Motivation\n",
    "Social media and entertainment are such pervasive parts of millennials' lives. We want to study the intersection of these two. Is it possible to predict box office success of film through sentiments expressed on social media? Stay tuned for more!"
   ]
  },
  {
   "cell_type": "markdown",
   "metadata": {},
   "source": [
    "## Table of Contents\n",
    "* [CS109 Final Project Process Book](#CS109-Final-Project-Process-Book)\n",
    "\t* [Milestone 1: Scrape and prepare data before thanksgiving](#Milestone-1:-Scrape-and-prepare-data-before-thanksgiving)\n",
    "\t\t* [Scraping and cleaning Box Office Mojo](#Scraping-and-cleaning-Box-Office-Mojo)\n",
    "\t\t* [Loading and preparing IMDB review dataset](#Loading-and-preparing-IMDB-review-dataset)\n",
    "\t\t* [Loading and preparing AFINN dictionary](#Loading-and-preparing-AFINN-dictionary)\n",
    "\t* [Milestone 2: Analysing and visualizing the data](#Milestone-2:-Analysing-and-visualizing-the-data)\n",
    "\t\t* [Descriptive statistics](#Descriptive-statistics)\n",
    "\t\t* [Analysis](#Analysis)\n",
    "        * [Visualization](#Visualization)\n",
    "\t* [Milestone 3: Video and finishing touches](#Milestone-3:-Video-and-finishing-touches)\n",
    "\t\t* [Screencast video](#Screencast-video)\n",
    "\t\t* [Website](#Website)\n",
    "\t\t* [Finishing touches](#Finishing-touches)"
   ]
  },
  {
   "cell_type": "code",
   "execution_count": 1,
   "metadata": {
    "collapsed": true
   },
   "outputs": [],
   "source": [
    "%matplotlib inline\n",
    "import numpy as np\n",
    "import scipy as sp\n",
    "import matplotlib as mpl\n",
    "import matplotlib.cm as cm\n",
    "import matplotlib.pyplot as plt\n",
    "import pandas as pd\n",
    "import time\n",
    "import json\n",
    "import statsmodels.api as sm\n",
    "from statsmodels.formula.api import glm, ols\n",
    "\n",
    "pd.set_option('display.width', 500)\n",
    "pd.set_option('display.max_columns', 100)\n",
    "pd.set_option('display.notebook_repr_html', True)\n",
    "import seaborn as sns\n",
    "sns.set_style(\"whitegrid\")\n",
    "sns.set_context(\"poster\")\n",
    "import math"
   ]
  },
  {
   "cell_type": "markdown",
   "metadata": {},
   "source": [
    "## Milestone 1: Scrape and prepare data before thanksgiving"
   ]
  },
  {
   "cell_type": "markdown",
   "metadata": {},
   "source": [
    "For our project we will be using data from 3 different sources\n",
    " <ul><b>Box Office Mojo (BOM)</b> (http://www.boxofficemojo.com) is a website that aggregates, in a table, a list of all movies released in a year and attributes such as how much it grossed in the opening week, how much it grossed in total and how long it aired for </ul>\n",
    " <ul><b>Large Movie Review Dataset</b> (http://ai.stanford.edu/~amaas/data/sentiment/) is a polarized dataset of movie reviews from IMDB prepared by Maas et al from Stanford. The dataset contains 25,000 entries in the training set and 25,000 entries in the test set. </ul>\n",
    " <ul><b>AFINN-111 Dictionary</b> (http://www2.imm.dtu.dk/pubdb/views/publication_details.php?id=60100) is a dictionary list of 2477 english words and phrases rated for valence with an integer from -5 to 5. Originally prepared by Finn Årup Nielsen</ul><br>\n",
    "In this first milestone, we will get all the data into a format that we can start running analysis on!"
   ]
  },
  {
   "cell_type": "markdown",
   "metadata": {},
   "source": [
    "### Scraping and cleaning Box Office Mojo"
   ]
  },
  {
   "cell_type": "markdown",
   "metadata": {},
   "source": [
    "First we import the `requests` and `BeautifulSoup` libraries to make working with HTTP requests easier, and then easily transfer HTML content to Python data structures."
   ]
  },
  {
   "cell_type": "code",
   "execution_count": 2,
   "metadata": {
    "collapsed": true
   },
   "outputs": [],
   "source": [
    "from bs4 import BeautifulSoup\n",
    "# The \"requests\" library makes working with HTTP requests easier\n",
    "# than the built-in urllib libraries.\n",
    "import requests"
   ]
  },
  {
   "cell_type": "markdown",
   "metadata": {},
   "source": [
    "Secondly, we prepare the data frame `movie_df` to store the data that we will scrape from BOM. We give this dataframe 9 columns: <br>\n",
    "    * ranking: the ranking of the movie in its release year by gross\n",
    "    * title: movie title\n",
    "    * gross: how much the movie grossed while in theatres\n",
    "    * Total_theaters: the total number of theaters that showed this movie\n",
    "    * opening_gross: how much the movie grossed in the opening weekend (Fri-Sun)\n",
    "    * opening_theaters: the total number of theaters that showed this movie in the opening weekend (Fri-Sun)\n",
    "    * open_date: date of opening\n",
    "    * close_date: date of closing\n",
    "    * year: year of release"
   ]
  },
  {
   "cell_type": "code",
   "execution_count": 3,
   "metadata": {
    "collapsed": false
   },
   "outputs": [],
   "source": [
    "movie_df = pd.DataFrame(columns=['close_date', 'gross', 'open_date', 'opening_gross', 'opening_theaters','ranking','title','total_theaters','year'])"
   ]
  },
  {
   "cell_type": "markdown",
   "metadata": {},
   "source": [
    "Now we write a function `rowInfoGrabber` that we will call in a loop over the table on the BOM webpage to grab the attributes and save them into the corresponding columns in `movie_df`."
   ]
  },
  {
   "cell_type": "code",
   "execution_count": 4,
   "metadata": {
    "collapsed": true
   },
   "outputs": [],
   "source": [
    "def rowInfoGrabber(r):\n",
    "    info = []\n",
    "    # Ranking\n",
    "    info.append(int(r.find(\"font\").get_text()))\n",
    "    # Title\n",
    "    info.append(r.find(\"a\").get_text())\n",
    "    # Gross\n",
    "    info.append(int(r.find(\"td\", attrs={\"align\":\"right\"}).find(\"b\").get_text().strip(\"$\").replace(\",\",\"\")))\n",
    "    '''\n",
    "    For the next 3 categories, we need to deal with the 2000 Anomaly \"Fantasia\" where there are missing numbers.\n",
    "    In this case I have chosen to replace the missing values 'N/A' with the values from 'Final Destination', which\n",
    "    if right above it in the movie table and differs in gross income by about $1 million, which is a small \n",
    "    difference. See the picture below for a snapshot of the anomaly in the movie table from 2000.\n",
    "    '''\n",
    "    # Total number of theaters\n",
    "    if r.find_all(\"td\",attrs={\"align\":\"right\"})[1].find(\"font\").get_text().replace(\",\",\"\") == 'N/A':\n",
    "        info.append(2587)\n",
    "    else:\n",
    "        info.append(int(r.find_all(\"td\",attrs={\"align\":\"right\"})[1].find(\"font\").get_text().replace(\",\",\"\")))\n",
    "    # Opening Gross\n",
    "    if r.find_all(\"td\", attrs={\"align\":\"right\"})[2].find(\"font\").get_text().strip(\"$\").replace(\",\",\"\") == 'N/A':\n",
    "        info.append(10015822)\n",
    "    else: \n",
    "        info.append(int(r.find_all(\"td\", attrs={\"align\":\"right\"})[2].find(\"font\").get_text().strip(\"$\").replace(\",\",\"\")))\n",
    "    # Opening Number of Theaters\n",
    "    if r.find_all(\"td\", attrs={\"align\":\"right\"})[3].find(\"font\").get_text().replace(\",\",\"\") == 'N/A':\n",
    "        info.append(2587)\n",
    "    else:\n",
    "        info.append(int(r.find_all(\"td\", attrs={\"align\":\"right\"})[3].find(\"font\").get_text().replace(\",\",\"\")))\n",
    "    # Date of Opening\n",
    "    info.append(r.find_all(\"td\", attrs={\"align\":\"right\"})[4].find(\"a\").get_text())\n",
    "    # Date of Closing: Before 2002 they didn't have a \"closing\" date in their tables. We must account for this.\n",
    "    if (len(r.find_all(\"td\", attrs={\"align\":\"right\"})) <= 5):\n",
    "        info.append('-')\n",
    "    else:\n",
    "        info.append(r.find_all(\"td\", attrs={\"align\":\"right\"})[5].find(\"font\").get_text())\n",
    "    return info"
   ]
  },
  {
   "cell_type": "markdown",
   "metadata": {},
   "source": [
    "This is the image: <image src=“Example.png”>"
   ]
  },
  {
   "cell_type": "code",
   "execution_count": 5,
   "metadata": {
    "collapsed": true
   },
   "outputs": [],
   "source": [
    "fields = [\"ranking\", \"title\", \"gross\", \"total_theaters\", \"opening_gross\", \"opening_theaters\", \"open_date\", \"close_date\"]"
   ]
  },
  {
   "cell_type": "markdown",
   "metadata": {
    "collapsed": true
   },
   "source": [
    "Finally we're ready to scrape! <br>\n",
    "Because IMDB was created in 1990, we will scrape that far back in BOM. So we're scraping the past 26 years (1990 - 2015). Also note that because the HTML was changed starting in 2001, our scraping will be a little different before and after then."
   ]
  },
  {
   "cell_type": "code",
   "execution_count": 6,
   "metadata": {
    "collapsed": false
   },
   "outputs": [
    {
     "name": "stdout",
     "output_type": "stream",
     "text": [
      "1990\n",
      "1991\n",
      "1992\n",
      "1993\n",
      "1994\n",
      "1995\n",
      "1996\n",
      "1997\n",
      "1998\n",
      "1999\n",
      "2000\n",
      "2001\n",
      "2002\n",
      "2003\n",
      "2004\n",
      "2005\n",
      "2006\n",
      "2007\n",
      "2008\n",
      "2009\n",
      "2010\n",
      "2011\n",
      "2012\n",
      "2013\n",
      "2014\n",
      "2015\n",
      "CPU times: user 12.3 s, sys: 187 ms, total: 12.4 s\n",
      "Wall time: 43.7 s\n"
     ]
    }
   ],
   "source": [
    "%%time\n",
    "years = [1990 + i for i in range(26)]\n",
    "for year in years:\n",
    "    pageText = requests.get(\"http://www.boxofficemojo.com/yearly/chart/?yr=%(yr)d&p=.htm\" % {'yr':year})\n",
    "    soup = BeautifulSoup(pageText.text, \"html.parser\")\n",
    "    movieTable = soup.find(\"td\", attrs={\"colspan\":\"3\"})\n",
    "    movieRows = movieTable.find(\"table\").find_all(\"tr\")[2:102]\n",
    "    print year\n",
    "    movie_dicts = [dict(zip(fields, rowInfoGrabber(row))) for row in movieRows]\n",
    "    year_df = pd.DataFrame(movie_dicts)\n",
    "    year_df['year'] = year\n",
    "    movie_df = movie_df.append(year_df, ignore_index=True)\n",
    "    time.sleep(1)"
   ]
  },
  {
   "cell_type": "code",
   "execution_count": 7,
   "metadata": {
    "collapsed": false
   },
   "outputs": [
    {
     "data": {
      "text/plain": [
       "(2600, 9)"
      ]
     },
     "execution_count": 7,
     "metadata": {},
     "output_type": "execute_result"
    }
   ],
   "source": [
    "movie_df.shape"
   ]
  },
  {
   "cell_type": "code",
   "execution_count": 8,
   "metadata": {
    "collapsed": false
   },
   "outputs": [
    {
     "data": {
      "text/html": [
       "<div>\n",
       "<table border=\"1\" class=\"dataframe\">\n",
       "  <thead>\n",
       "    <tr style=\"text-align: right;\">\n",
       "      <th></th>\n",
       "      <th>close_date</th>\n",
       "      <th>gross</th>\n",
       "      <th>open_date</th>\n",
       "      <th>opening_gross</th>\n",
       "      <th>opening_theaters</th>\n",
       "      <th>ranking</th>\n",
       "      <th>title</th>\n",
       "      <th>total_theaters</th>\n",
       "      <th>year</th>\n",
       "    </tr>\n",
       "  </thead>\n",
       "  <tbody>\n",
       "    <tr>\n",
       "      <th>0</th>\n",
       "      <td>-</td>\n",
       "      <td>285761243</td>\n",
       "      <td>11/16</td>\n",
       "      <td>17081997</td>\n",
       "      <td>1202</td>\n",
       "      <td>1</td>\n",
       "      <td>Home Alone</td>\n",
       "      <td>2173</td>\n",
       "      <td>1990</td>\n",
       "    </tr>\n",
       "    <tr>\n",
       "      <th>1</th>\n",
       "      <td>-</td>\n",
       "      <td>217631306</td>\n",
       "      <td>7/13</td>\n",
       "      <td>12191540</td>\n",
       "      <td>1101</td>\n",
       "      <td>2</td>\n",
       "      <td>Ghost</td>\n",
       "      <td>1766</td>\n",
       "      <td>1990</td>\n",
       "    </tr>\n",
       "    <tr>\n",
       "      <th>2</th>\n",
       "      <td>-</td>\n",
       "      <td>184208848</td>\n",
       "      <td>11/9</td>\n",
       "      <td>598257</td>\n",
       "      <td>14</td>\n",
       "      <td>3</td>\n",
       "      <td>Dances with Wolves</td>\n",
       "      <td>1636</td>\n",
       "      <td>1990</td>\n",
       "    </tr>\n",
       "    <tr>\n",
       "      <th>3</th>\n",
       "      <td>-</td>\n",
       "      <td>178406268</td>\n",
       "      <td>3/23</td>\n",
       "      <td>11280591</td>\n",
       "      <td>1325</td>\n",
       "      <td>4</td>\n",
       "      <td>Pretty Woman</td>\n",
       "      <td>1811</td>\n",
       "      <td>1990</td>\n",
       "    </tr>\n",
       "    <tr>\n",
       "      <th>4</th>\n",
       "      <td>-</td>\n",
       "      <td>135265915</td>\n",
       "      <td>3/30</td>\n",
       "      <td>25398367</td>\n",
       "      <td>2006</td>\n",
       "      <td>5</td>\n",
       "      <td>Teenage Mutant Ninja Turtles</td>\n",
       "      <td>2377</td>\n",
       "      <td>1990</td>\n",
       "    </tr>\n",
       "  </tbody>\n",
       "</table>\n",
       "</div>"
      ],
      "text/plain": [
       "  close_date      gross open_date  opening_gross  opening_theaters  ranking                         title  total_theaters  year\n",
       "0          -  285761243     11/16       17081997              1202        1                    Home Alone            2173  1990\n",
       "1          -  217631306      7/13       12191540              1101        2                         Ghost            1766  1990\n",
       "2          -  184208848      11/9         598257                14        3            Dances with Wolves            1636  1990\n",
       "3          -  178406268      3/23       11280591              1325        4                  Pretty Woman            1811  1990\n",
       "4          -  135265915      3/30       25398367              2006        5  Teenage Mutant Ninja Turtles            2377  1990"
      ]
     },
     "execution_count": 8,
     "metadata": {},
     "output_type": "execute_result"
    }
   ],
   "source": [
    "movie_df.head()"
   ]
  },
  {
   "cell_type": "markdown",
   "metadata": {},
   "source": [
    "Because some films do not have a close date, we will have to be careful with the close date!"
   ]
  },
  {
   "cell_type": "code",
   "execution_count": 9,
   "metadata": {
    "collapsed": false
   },
   "outputs": [],
   "source": [
    "# if we decide it's worth just dumping the movies with no close_date, we can use the code below\n",
    "# movie_df=movie_df[movie_df.close_date != '-'].reset_index(drop=True)"
   ]
  },
  {
   "cell_type": "markdown",
   "metadata": {},
   "source": [
    "Next, we combine the `close_date`, `open_date` and `year` columns into two columns `close_date` and `open_date` that are time series. This will make it easier for us to work with the data in the future. "
   ]
  },
  {
   "cell_type": "code",
   "execution_count": 10,
   "metadata": {
    "collapsed": false
   },
   "outputs": [],
   "source": [
    "# splitting the close_date and open_date into the respective month and day\n",
    "movie_df['close_month'] = movie_df['close_date'].map(lambda x: '0' if x=='-' else x[:x.find('/')])\n",
    "movie_df['close_day'] = movie_df['close_date'].map(lambda x: '0' if x=='-' else x[x.find('/')+1:len(x)])\n",
    "movie_df['open_month'] = movie_df['open_date'].map(lambda x: x[:x.find('/')])\n",
    "movie_df['open_day'] = movie_df['open_date'].map(lambda x: x[x.find('/')+1:len(x)])\n",
    "\n",
    "# dropping the old close_date and open_date\n",
    "movie_df = movie_df.drop('close_date', 1)\n",
    "movie_df = movie_df.drop('open_date', 1)\n",
    "\n",
    "# creating an open_year by turning the year column into a string and getting rid of trailing bits\n",
    "movie_df['open_year'] = movie_df.year.astype(str)\n",
    "movie_df['open_year'] = movie_df.open_year.map(lambda x: x[:x.find('.')])\n",
    "\n",
    "# creating a close_year column, by looking at whether the close month is earlier/later than the open month in the year\n",
    "close_month = movie_df['close_month'].astype(int)\n",
    "open_month = movie_df['open_month'].astype(int)\n",
    "year = movie_df['year'].astype(int)\n",
    "close_year=[]\n",
    "for i in range (0, len(year)):\n",
    "    if close_month[i] >= open_month[i]:\n",
    "        close_year.append(year[i])\n",
    "    else:\n",
    "        close_year.append(year[i]+1) \n",
    "movie_df['close_year'] = close_year\n",
    "movie_df['close_year'] = movie_df['close_year'].astype(str)"
   ]
  },
  {
   "cell_type": "code",
   "execution_count": 11,
   "metadata": {
    "collapsed": false
   },
   "outputs": [
    {
     "data": {
      "text/html": [
       "<div>\n",
       "<table border=\"1\" class=\"dataframe\">\n",
       "  <thead>\n",
       "    <tr style=\"text-align: right;\">\n",
       "      <th></th>\n",
       "      <th>gross</th>\n",
       "      <th>opening_gross</th>\n",
       "      <th>opening_theaters</th>\n",
       "      <th>ranking</th>\n",
       "      <th>title</th>\n",
       "      <th>total_theaters</th>\n",
       "      <th>year</th>\n",
       "      <th>close_month</th>\n",
       "      <th>close_day</th>\n",
       "      <th>open_month</th>\n",
       "      <th>open_day</th>\n",
       "      <th>open_year</th>\n",
       "      <th>close_year</th>\n",
       "    </tr>\n",
       "  </thead>\n",
       "  <tbody>\n",
       "    <tr>\n",
       "      <th>0</th>\n",
       "      <td>285761243</td>\n",
       "      <td>17081997</td>\n",
       "      <td>1202</td>\n",
       "      <td>1</td>\n",
       "      <td>Home Alone</td>\n",
       "      <td>2173</td>\n",
       "      <td>1990</td>\n",
       "      <td>0</td>\n",
       "      <td>0</td>\n",
       "      <td>11</td>\n",
       "      <td>16</td>\n",
       "      <td>1990</td>\n",
       "      <td>1991</td>\n",
       "    </tr>\n",
       "    <tr>\n",
       "      <th>1</th>\n",
       "      <td>217631306</td>\n",
       "      <td>12191540</td>\n",
       "      <td>1101</td>\n",
       "      <td>2</td>\n",
       "      <td>Ghost</td>\n",
       "      <td>1766</td>\n",
       "      <td>1990</td>\n",
       "      <td>0</td>\n",
       "      <td>0</td>\n",
       "      <td>7</td>\n",
       "      <td>13</td>\n",
       "      <td>1990</td>\n",
       "      <td>1991</td>\n",
       "    </tr>\n",
       "    <tr>\n",
       "      <th>2</th>\n",
       "      <td>184208848</td>\n",
       "      <td>598257</td>\n",
       "      <td>14</td>\n",
       "      <td>3</td>\n",
       "      <td>Dances with Wolves</td>\n",
       "      <td>1636</td>\n",
       "      <td>1990</td>\n",
       "      <td>0</td>\n",
       "      <td>0</td>\n",
       "      <td>11</td>\n",
       "      <td>9</td>\n",
       "      <td>1990</td>\n",
       "      <td>1991</td>\n",
       "    </tr>\n",
       "    <tr>\n",
       "      <th>3</th>\n",
       "      <td>178406268</td>\n",
       "      <td>11280591</td>\n",
       "      <td>1325</td>\n",
       "      <td>4</td>\n",
       "      <td>Pretty Woman</td>\n",
       "      <td>1811</td>\n",
       "      <td>1990</td>\n",
       "      <td>0</td>\n",
       "      <td>0</td>\n",
       "      <td>3</td>\n",
       "      <td>23</td>\n",
       "      <td>1990</td>\n",
       "      <td>1991</td>\n",
       "    </tr>\n",
       "    <tr>\n",
       "      <th>4</th>\n",
       "      <td>135265915</td>\n",
       "      <td>25398367</td>\n",
       "      <td>2006</td>\n",
       "      <td>5</td>\n",
       "      <td>Teenage Mutant Ninja Turtles</td>\n",
       "      <td>2377</td>\n",
       "      <td>1990</td>\n",
       "      <td>0</td>\n",
       "      <td>0</td>\n",
       "      <td>3</td>\n",
       "      <td>30</td>\n",
       "      <td>1990</td>\n",
       "      <td>1991</td>\n",
       "    </tr>\n",
       "  </tbody>\n",
       "</table>\n",
       "</div>"
      ],
      "text/plain": [
       "       gross  opening_gross  opening_theaters  ranking                         title  total_theaters  year close_month close_day open_month open_day open_year close_year\n",
       "0  285761243       17081997              1202        1                    Home Alone            2173  1990           0         0         11       16      1990       1991\n",
       "1  217631306       12191540              1101        2                         Ghost            1766  1990           0         0          7       13      1990       1991\n",
       "2  184208848         598257                14        3            Dances with Wolves            1636  1990           0         0         11        9      1990       1991\n",
       "3  178406268       11280591              1325        4                  Pretty Woman            1811  1990           0         0          3       23      1990       1991\n",
       "4  135265915       25398367              2006        5  Teenage Mutant Ninja Turtles            2377  1990           0         0          3       30      1990       1991"
      ]
     },
     "execution_count": 11,
     "metadata": {},
     "output_type": "execute_result"
    }
   ],
   "source": [
    "movie_df.head()"
   ]
  },
  {
   "cell_type": "code",
   "execution_count": 12,
   "metadata": {
    "collapsed": false
   },
   "outputs": [],
   "source": []
  },
  {
   "cell_type": "code",
   "execution_count": 13,
   "metadata": {
    "collapsed": false
   },
   "outputs": [],
   "source": []
  },
  {
   "cell_type": "markdown",
   "metadata": {},
   "source": [
    "Let's take a look at the data, now!"
   ]
  },
  {
   "cell_type": "code",
   "execution_count": 12,
   "metadata": {
    "collapsed": false
   },
   "outputs": [
    {
     "data": {
      "text/html": [
       "<div>\n",
       "<table border=\"1\" class=\"dataframe\">\n",
       "  <thead>\n",
       "    <tr style=\"text-align: right;\">\n",
       "      <th></th>\n",
       "      <th>gross</th>\n",
       "      <th>opening_gross</th>\n",
       "      <th>opening_theaters</th>\n",
       "      <th>ranking</th>\n",
       "      <th>title</th>\n",
       "      <th>total_theaters</th>\n",
       "      <th>year</th>\n",
       "      <th>close_month</th>\n",
       "      <th>close_day</th>\n",
       "      <th>open_month</th>\n",
       "      <th>open_day</th>\n",
       "      <th>open_year</th>\n",
       "      <th>close_year</th>\n",
       "    </tr>\n",
       "  </thead>\n",
       "  <tbody>\n",
       "    <tr>\n",
       "      <th>0</th>\n",
       "      <td>285761243</td>\n",
       "      <td>17081997</td>\n",
       "      <td>1202</td>\n",
       "      <td>1</td>\n",
       "      <td>Home Alone</td>\n",
       "      <td>2173</td>\n",
       "      <td>1990</td>\n",
       "      <td>0</td>\n",
       "      <td>0</td>\n",
       "      <td>11</td>\n",
       "      <td>16</td>\n",
       "      <td>1990</td>\n",
       "      <td>1991</td>\n",
       "    </tr>\n",
       "    <tr>\n",
       "      <th>1</th>\n",
       "      <td>217631306</td>\n",
       "      <td>12191540</td>\n",
       "      <td>1101</td>\n",
       "      <td>2</td>\n",
       "      <td>Ghost</td>\n",
       "      <td>1766</td>\n",
       "      <td>1990</td>\n",
       "      <td>0</td>\n",
       "      <td>0</td>\n",
       "      <td>7</td>\n",
       "      <td>13</td>\n",
       "      <td>1990</td>\n",
       "      <td>1991</td>\n",
       "    </tr>\n",
       "    <tr>\n",
       "      <th>2</th>\n",
       "      <td>184208848</td>\n",
       "      <td>598257</td>\n",
       "      <td>14</td>\n",
       "      <td>3</td>\n",
       "      <td>Dances with Wolves</td>\n",
       "      <td>1636</td>\n",
       "      <td>1990</td>\n",
       "      <td>0</td>\n",
       "      <td>0</td>\n",
       "      <td>11</td>\n",
       "      <td>9</td>\n",
       "      <td>1990</td>\n",
       "      <td>1991</td>\n",
       "    </tr>\n",
       "    <tr>\n",
       "      <th>3</th>\n",
       "      <td>178406268</td>\n",
       "      <td>11280591</td>\n",
       "      <td>1325</td>\n",
       "      <td>4</td>\n",
       "      <td>Pretty Woman</td>\n",
       "      <td>1811</td>\n",
       "      <td>1990</td>\n",
       "      <td>0</td>\n",
       "      <td>0</td>\n",
       "      <td>3</td>\n",
       "      <td>23</td>\n",
       "      <td>1990</td>\n",
       "      <td>1991</td>\n",
       "    </tr>\n",
       "    <tr>\n",
       "      <th>4</th>\n",
       "      <td>135265915</td>\n",
       "      <td>25398367</td>\n",
       "      <td>2006</td>\n",
       "      <td>5</td>\n",
       "      <td>Teenage Mutant Ninja Turtles</td>\n",
       "      <td>2377</td>\n",
       "      <td>1990</td>\n",
       "      <td>0</td>\n",
       "      <td>0</td>\n",
       "      <td>3</td>\n",
       "      <td>30</td>\n",
       "      <td>1990</td>\n",
       "      <td>1991</td>\n",
       "    </tr>\n",
       "  </tbody>\n",
       "</table>\n",
       "</div>"
      ],
      "text/plain": [
       "       gross  opening_gross  opening_theaters  ranking                         title  total_theaters  year close_month close_day open_month open_day open_year close_year\n",
       "0  285761243       17081997              1202        1                    Home Alone            2173  1990           0         0         11       16      1990       1991\n",
       "1  217631306       12191540              1101        2                         Ghost            1766  1990           0         0          7       13      1990       1991\n",
       "2  184208848         598257                14        3            Dances with Wolves            1636  1990           0         0         11        9      1990       1991\n",
       "3  178406268       11280591              1325        4                  Pretty Woman            1811  1990           0         0          3       23      1990       1991\n",
       "4  135265915       25398367              2006        5  Teenage Mutant Ninja Turtles            2377  1990           0         0          3       30      1990       1991"
      ]
     },
     "execution_count": 12,
     "metadata": {},
     "output_type": "execute_result"
    }
   ],
   "source": [
    "movie_df.head()"
   ]
  },
  {
   "cell_type": "markdown",
   "metadata": {},
   "source": [
    "Let's take a look at if we can get the run times for each movie!"
   ]
  },
  {
   "cell_type": "code",
   "execution_count": 13,
   "metadata": {
    "collapsed": false
   },
   "outputs": [
    {
     "ename": "AttributeError",
     "evalue": "'Series' object has no attribute 'close_date'",
     "output_type": "error",
     "traceback": [
      "\u001b[0;31m---------------------------------------------------------------------------\u001b[0m",
      "\u001b[0;31mAttributeError\u001b[0m                            Traceback (most recent call last)",
      "\u001b[0;32m<ipython-input-13-90b495e926a8>\u001b[0m in \u001b[0;36m<module>\u001b[0;34m()\u001b[0m\n\u001b[1;32m      1\u001b[0m \u001b[0mrun_time\u001b[0m\u001b[0;34m=\u001b[0m\u001b[0;34m[\u001b[0m\u001b[0;34m]\u001b[0m\u001b[0;34m\u001b[0m\u001b[0m\n\u001b[1;32m      2\u001b[0m \u001b[0;32mfor\u001b[0m \u001b[0mindex\u001b[0m\u001b[0;34m,\u001b[0m \u001b[0mrow\u001b[0m \u001b[0;32min\u001b[0m \u001b[0mmovie_df\u001b[0m\u001b[0;34m.\u001b[0m\u001b[0miterrows\u001b[0m\u001b[0;34m(\u001b[0m\u001b[0;34m)\u001b[0m\u001b[0;34m:\u001b[0m\u001b[0;34m\u001b[0m\u001b[0m\n\u001b[0;32m----> 3\u001b[0;31m     \u001b[0;32mif\u001b[0m \u001b[0mrow\u001b[0m\u001b[0;34m.\u001b[0m\u001b[0mclose_date\u001b[0m \u001b[0;34m!=\u001b[0m \u001b[0mNone\u001b[0m\u001b[0;34m:\u001b[0m\u001b[0;34m\u001b[0m\u001b[0m\n\u001b[0m\u001b[1;32m      4\u001b[0m         \u001b[0mrun_time\u001b[0m\u001b[0;34m.\u001b[0m\u001b[0mappend\u001b[0m\u001b[0;34m(\u001b[0m\u001b[0mrow\u001b[0m\u001b[0;34m[\u001b[0m\u001b[0;34m'close_date'\u001b[0m\u001b[0;34m]\u001b[0m\u001b[0;34m-\u001b[0m\u001b[0mrow\u001b[0m\u001b[0;34m[\u001b[0m\u001b[0;34m'open_date'\u001b[0m\u001b[0;34m]\u001b[0m\u001b[0;34m)\u001b[0m\u001b[0;34m\u001b[0m\u001b[0m\n\u001b[1;32m      5\u001b[0m     \u001b[0;32melse\u001b[0m\u001b[0;34m:\u001b[0m\u001b[0;34m\u001b[0m\u001b[0m\n",
      "\u001b[0;32m/Users/alpkaancelik/anaconda/lib/python2.7/site-packages/pandas/core/generic.pyc\u001b[0m in \u001b[0;36m__getattr__\u001b[0;34m(self, name)\u001b[0m\n\u001b[1;32m   2148\u001b[0m                 \u001b[0;32mreturn\u001b[0m \u001b[0mself\u001b[0m\u001b[0;34m[\u001b[0m\u001b[0mname\u001b[0m\u001b[0;34m]\u001b[0m\u001b[0;34m\u001b[0m\u001b[0m\n\u001b[1;32m   2149\u001b[0m             raise AttributeError(\"'%s' object has no attribute '%s'\" %\n\u001b[0;32m-> 2150\u001b[0;31m                                  (type(self).__name__, name))\n\u001b[0m\u001b[1;32m   2151\u001b[0m \u001b[0;34m\u001b[0m\u001b[0m\n\u001b[1;32m   2152\u001b[0m     \u001b[0;32mdef\u001b[0m \u001b[0m__setattr__\u001b[0m\u001b[0;34m(\u001b[0m\u001b[0mself\u001b[0m\u001b[0;34m,\u001b[0m \u001b[0mname\u001b[0m\u001b[0;34m,\u001b[0m \u001b[0mvalue\u001b[0m\u001b[0;34m)\u001b[0m\u001b[0;34m:\u001b[0m\u001b[0;34m\u001b[0m\u001b[0m\n",
      "\u001b[0;31mAttributeError\u001b[0m: 'Series' object has no attribute 'close_date'"
     ]
    }
   ],
   "source": [
    "run_time=[]\n",
    "for index, row in movie_df.iterrows():\n",
    "    if row.close_date != None:\n",
    "        run_time.append(row['close_date']-row['open_date'])\n",
    "    else: \n",
    "        run_time.append('N/A')"
   ]
  },
  {
   "cell_type": "code",
   "execution_count": 14,
   "metadata": {
    "collapsed": false
   },
   "outputs": [
    {
     "data": {
      "text/html": [
       "<div>\n",
       "<table border=\"1\" class=\"dataframe\">\n",
       "  <thead>\n",
       "    <tr style=\"text-align: right;\">\n",
       "      <th></th>\n",
       "      <th>gross</th>\n",
       "      <th>opening_gross</th>\n",
       "      <th>opening_theaters</th>\n",
       "      <th>ranking</th>\n",
       "      <th>title</th>\n",
       "      <th>total_theaters</th>\n",
       "      <th>year</th>\n",
       "      <th>close_month</th>\n",
       "      <th>close_day</th>\n",
       "      <th>open_month</th>\n",
       "      <th>open_day</th>\n",
       "      <th>open_year</th>\n",
       "      <th>close_year</th>\n",
       "    </tr>\n",
       "  </thead>\n",
       "  <tbody>\n",
       "    <tr>\n",
       "      <th>0</th>\n",
       "      <td>285761243</td>\n",
       "      <td>17081997</td>\n",
       "      <td>1202</td>\n",
       "      <td>1</td>\n",
       "      <td>Home Alone</td>\n",
       "      <td>2173</td>\n",
       "      <td>1990</td>\n",
       "      <td>0</td>\n",
       "      <td>0</td>\n",
       "      <td>11</td>\n",
       "      <td>16</td>\n",
       "      <td>1990</td>\n",
       "      <td>1991</td>\n",
       "    </tr>\n",
       "    <tr>\n",
       "      <th>1</th>\n",
       "      <td>217631306</td>\n",
       "      <td>12191540</td>\n",
       "      <td>1101</td>\n",
       "      <td>2</td>\n",
       "      <td>Ghost</td>\n",
       "      <td>1766</td>\n",
       "      <td>1990</td>\n",
       "      <td>0</td>\n",
       "      <td>0</td>\n",
       "      <td>7</td>\n",
       "      <td>13</td>\n",
       "      <td>1990</td>\n",
       "      <td>1991</td>\n",
       "    </tr>\n",
       "    <tr>\n",
       "      <th>2</th>\n",
       "      <td>184208848</td>\n",
       "      <td>598257</td>\n",
       "      <td>14</td>\n",
       "      <td>3</td>\n",
       "      <td>Dances with Wolves</td>\n",
       "      <td>1636</td>\n",
       "      <td>1990</td>\n",
       "      <td>0</td>\n",
       "      <td>0</td>\n",
       "      <td>11</td>\n",
       "      <td>9</td>\n",
       "      <td>1990</td>\n",
       "      <td>1991</td>\n",
       "    </tr>\n",
       "    <tr>\n",
       "      <th>3</th>\n",
       "      <td>178406268</td>\n",
       "      <td>11280591</td>\n",
       "      <td>1325</td>\n",
       "      <td>4</td>\n",
       "      <td>Pretty Woman</td>\n",
       "      <td>1811</td>\n",
       "      <td>1990</td>\n",
       "      <td>0</td>\n",
       "      <td>0</td>\n",
       "      <td>3</td>\n",
       "      <td>23</td>\n",
       "      <td>1990</td>\n",
       "      <td>1991</td>\n",
       "    </tr>\n",
       "    <tr>\n",
       "      <th>4</th>\n",
       "      <td>135265915</td>\n",
       "      <td>25398367</td>\n",
       "      <td>2006</td>\n",
       "      <td>5</td>\n",
       "      <td>Teenage Mutant Ninja Turtles</td>\n",
       "      <td>2377</td>\n",
       "      <td>1990</td>\n",
       "      <td>0</td>\n",
       "      <td>0</td>\n",
       "      <td>3</td>\n",
       "      <td>30</td>\n",
       "      <td>1990</td>\n",
       "      <td>1991</td>\n",
       "    </tr>\n",
       "  </tbody>\n",
       "</table>\n",
       "</div>"
      ],
      "text/plain": [
       "       gross  opening_gross  opening_theaters  ranking                         title  total_theaters  year close_month close_day open_month open_day open_year close_year\n",
       "0  285761243       17081997              1202        1                    Home Alone            2173  1990           0         0         11       16      1990       1991\n",
       "1  217631306       12191540              1101        2                         Ghost            1766  1990           0         0          7       13      1990       1991\n",
       "2  184208848         598257                14        3            Dances with Wolves            1636  1990           0         0         11        9      1990       1991\n",
       "3  178406268       11280591              1325        4                  Pretty Woman            1811  1990           0         0          3       23      1990       1991\n",
       "4  135265915       25398367              2006        5  Teenage Mutant Ninja Turtles            2377  1990           0         0          3       30      1990       1991"
      ]
     },
     "execution_count": 14,
     "metadata": {},
     "output_type": "execute_result"
    }
   ],
   "source": [
    "movie_df.head()"
   ]
  },
  {
   "cell_type": "markdown",
   "metadata": {},
   "source": [
    "Looks like the data is ready for us to use! Let's save this data so we're ready to use it next time. "
   ]
  },
  {
   "cell_type": "code",
   "execution_count": 17,
   "metadata": {
    "collapsed": false
   },
   "outputs": [
    {
     "name": "stdout",
     "output_type": "stream",
     "text": [
      "Requirement already satisfied (use --upgrade to upgrade): pymongo in /anaconda/lib/python2.7/site-packages\r\n"
     ]
    }
   ],
   "source": [
    "! pip install pymongo"
   ]
  },
  {
   "cell_type": "code",
   "execution_count": 15,
   "metadata": {
    "collapsed": false
   },
   "outputs": [],
   "source": [
    "# Save the movie Dictionaries corresponding to each row of the BoxOfficeMojo table.\n",
    "import json # (dong)\n",
    "# import pymongo\n",
    "# from bson import json_util\n",
    "\n",
    "# Make a dictionary out of the dataset for storage in JSON format.\n",
    "movieSaved = {feature: movie_df[feature].values.tolist() for feature in movie_df.columns.values}\n",
    "fp = open(\"allMovies_new.json\",\"w\")\n",
    "json.dump(movieSaved, fp)\n",
    "fp.close()"
   ]
  },
  {
   "cell_type": "markdown",
   "metadata": {
    "collapsed": true
   },
   "source": [
    "### Loading and preparing IMDB review dataset"
   ]
  },
  {
   "cell_type": "markdown",
   "metadata": {},
   "source": [
    "We have cleaned up our IMDB review dataset in the ipython notebook `New.ipynb`. From that notebook we have been able to save dictionaries of our data, which we will now call. "
   ]
  },
  {
   "cell_type": "code",
   "execution_count": 16,
   "metadata": {
    "collapsed": false
   },
   "outputs": [],
   "source": [
    "with open(\"train_df_dict.json\", \"r\") as fd:\n",
    "    train_df_dict = json.load(fd)\n",
    "with open(\"test_df_dict.json\", \"r\") as fd:\n",
    "    test_df_dict = json.load(fd)"
   ]
  },
  {
   "cell_type": "code",
   "execution_count": 17,
   "metadata": {
    "collapsed": false
   },
   "outputs": [],
   "source": [
    "train_df = pd.DataFrame(train_df_dict)\n",
    "test_df = pd.DataFrame(test_df_dict)"
   ]
  },
  {
   "cell_type": "markdown",
   "metadata": {},
   "source": [
    "The Stanford group distinguishes between train and test because this was relevant for their project. This may prove to be useful later, so we will keep two separate dataframes. However, for our purposes at the moment, we can combine them since the BOM data will serve as our true data set."
   ]
  },
  {
   "cell_type": "code",
   "execution_count": 18,
   "metadata": {
    "collapsed": true
   },
   "outputs": [],
   "source": [
    "IMDB_df = train_df.append(test_df)"
   ]
  },
  {
   "cell_type": "markdown",
   "metadata": {},
   "source": [
    "We want to figure out which movies from IMDB_df are also present in our BOM DF. So let's get all the movie titles in our BOM table. "
   ]
  },
  {
   "cell_type": "code",
   "execution_count": 19,
   "metadata": {
    "collapsed": false
   },
   "outputs": [],
   "source": [
    "BOM_movie_list = movie_df.title.values.tolist()"
   ]
  },
  {
   "cell_type": "markdown",
   "metadata": {},
   "source": [
    "Now let's create a mask over IMDB_df, the boolean values of which indicate whether or not a movie is in the BOM list."
   ]
  },
  {
   "cell_type": "code",
   "execution_count": 20,
   "metadata": {
    "collapsed": false
   },
   "outputs": [],
   "source": [
    "movie_mask = [(movie in BOM_movie_list) for movie in IMDB_df.movie_name]"
   ]
  },
  {
   "cell_type": "code",
   "execution_count": 21,
   "metadata": {
    "collapsed": false
   },
   "outputs": [
    {
     "data": {
      "text/plain": [
       "4111"
      ]
     },
     "execution_count": 21,
     "metadata": {},
     "output_type": "execute_result"
    }
   ],
   "source": [
    "sum(movie_mask)"
   ]
  },
  {
   "cell_type": "markdown",
   "metadata": {},
   "source": [
    "We can now create out final, relevant IMDB data frame, with only those movies that also appear in the BOM tables from 1990 - 2015. "
   ]
  },
  {
   "cell_type": "code",
   "execution_count": 22,
   "metadata": {
    "collapsed": false
   },
   "outputs": [],
   "source": [
    "IMDB_dftouse=IMDB_df[movie_mask]"
   ]
  },
  {
   "cell_type": "markdown",
   "metadata": {},
   "source": [
    "Finally we want to save our dictionary of IMDB_dftouse into a JSON file for storage."
   ]
  },
  {
   "cell_type": "code",
   "execution_count": 23,
   "metadata": {
    "collapsed": true
   },
   "outputs": [],
   "source": [
    "IMDB_dftouse_dict = {feature: IMDB_dftouse[feature].values.tolist() for feature in IMDB_dftouse.columns.values}\n",
    "\n",
    "fp = open(\"IMDB_dftouse_dict.json\",\"w\")\n",
    "json.dump(IMDB_dftouse_dict, fp)\n",
    "fp.close()"
   ]
  },
  {
   "cell_type": "code",
   "execution_count": 24,
   "metadata": {
    "collapsed": true
   },
   "outputs": [],
   "source": [
    "with open(\"IMDB_dftouse_dict.json\", \"r\") as fd:\n",
    "    IMDB_dftouse_dict = json.load(fd)"
   ]
  },
  {
   "cell_type": "markdown",
   "metadata": {},
   "source": [
    "### Loading and preparing AFINN dictionary"
   ]
  },
  {
   "cell_type": "markdown",
   "metadata": {},
   "source": [
    "We wil read in the AFINN-111 dictionary from the tab-delimited .txt file and save it into a pandas dataframe `dictionary`. "
   ]
  },
  {
   "cell_type": "code",
   "execution_count": 25,
   "metadata": {
    "collapsed": true
   },
   "outputs": [],
   "source": [
    "words = []\n",
    "valences = []\n",
    "\n",
    "with open('AFINN/AFINN-111.txt','rb') as source:\n",
    "    for line in source:\n",
    "        fields = line.split('\\t')\n",
    "        words.append(fields[0])\n",
    "        valences.append(fields[1])\n",
    "dictionary = pd.DataFrame({'words': words, 'valences':valences})"
   ]
  },
  {
   "cell_type": "markdown",
   "metadata": {},
   "source": [
    "Because the valences are read in as a string, we will clean it up and change it to an int so it is ready for manipulation. "
   ]
  },
  {
   "cell_type": "code",
   "execution_count": 26,
   "metadata": {
    "collapsed": false
   },
   "outputs": [],
   "source": [
    "dictionary['valences'] = dictionary['valences'].map(lambda x: x if x.find('\\n')== -1 else x[:x.find('\\n')])\n",
    "dictionary['valences']=dictionary['valences'].astype(int)"
   ]
  },
  {
   "cell_type": "markdown",
   "metadata": {},
   "source": [
    "Let's take a look at the dictionary!"
   ]
  },
  {
   "cell_type": "code",
   "execution_count": 27,
   "metadata": {
    "collapsed": false
   },
   "outputs": [
    {
     "data": {
      "text/html": [
       "<div>\n",
       "<table border=\"1\" class=\"dataframe\">\n",
       "  <thead>\n",
       "    <tr style=\"text-align: right;\">\n",
       "      <th></th>\n",
       "      <th>valences</th>\n",
       "      <th>words</th>\n",
       "    </tr>\n",
       "  </thead>\n",
       "  <tbody>\n",
       "    <tr>\n",
       "      <th>0</th>\n",
       "      <td>-2</td>\n",
       "      <td>abandon</td>\n",
       "    </tr>\n",
       "    <tr>\n",
       "      <th>1</th>\n",
       "      <td>-2</td>\n",
       "      <td>abandoned</td>\n",
       "    </tr>\n",
       "    <tr>\n",
       "      <th>2</th>\n",
       "      <td>-2</td>\n",
       "      <td>abandons</td>\n",
       "    </tr>\n",
       "    <tr>\n",
       "      <th>3</th>\n",
       "      <td>-2</td>\n",
       "      <td>abducted</td>\n",
       "    </tr>\n",
       "    <tr>\n",
       "      <th>4</th>\n",
       "      <td>-2</td>\n",
       "      <td>abduction</td>\n",
       "    </tr>\n",
       "  </tbody>\n",
       "</table>\n",
       "</div>"
      ],
      "text/plain": [
       "   valences      words\n",
       "0        -2    abandon\n",
       "1        -2  abandoned\n",
       "2        -2   abandons\n",
       "3        -2   abducted\n",
       "4        -2  abduction"
      ]
     },
     "execution_count": 27,
     "metadata": {},
     "output_type": "execute_result"
    }
   ],
   "source": [
    "dictionary.head()"
   ]
  },
  {
   "cell_type": "markdown",
   "metadata": {},
   "source": [
    "Looks like the dictionary is ready for us to use! Let's save it so we have it in the event that anything happens. "
   ]
  },
  {
   "cell_type": "code",
   "execution_count": 28,
   "metadata": {
    "collapsed": false
   },
   "outputs": [],
   "source": [
    "# dictionary.to_csv(\"dictionary.csv\", index=False)\n",
    "dictionary=pd.read_csv(\"dictionary.csv\")"
   ]
  },
  {
   "cell_type": "markdown",
   "metadata": {},
   "source": [
    "## Milestone 2: Analysing and visualizing the data"
   ]
  },
  {
   "cell_type": "markdown",
   "metadata": {},
   "source": [
    "### Descriptive statistics"
   ]
  },
  {
   "cell_type": "markdown",
   "metadata": {},
   "source": [
    "We're going to reimport our prepared datasets - dictionary.csv (contains the dictionary from the AFINN dataset), and allMovies_new.json (which contains all the reviews that cross over with our BOM data). We will import these as panda dataframes `dictionary` and `IMDB_df` respectively. "
   ]
  },
  {
   "cell_type": "code",
   "execution_count": 29,
   "metadata": {
    "collapsed": false
   },
   "outputs": [],
   "source": [
    "dictionary=pd.read_csv(\"dictionary.csv\")\n",
    "\n",
    "with open(\"IMDB_dftouse_dict.json\", \"r\") as fd:\n",
    "    IMDB = json.load(fd)\n",
    "IMDB_df = pd.DataFrame(IMDB)"
   ]
  },
  {
   "cell_type": "markdown",
   "metadata": {},
   "source": [
    "Now we'll import allMoives_new.json. Remember that we still need to convert some of the columns into the datetime type so we'll do that afterwards. "
   ]
  },
  {
   "cell_type": "code",
   "execution_count": 30,
   "metadata": {
    "collapsed": true
   },
   "outputs": [],
   "source": [
    "with open(\"allMovies_new.json\", \"r\") as fd:\n",
    "    movie_df = json.load(fd)\n",
    "    movie_df = pd.DataFrame(movie_df)"
   ]
  },
  {
   "cell_type": "code",
   "execution_count": 31,
   "metadata": {
    "collapsed": true
   },
   "outputs": [],
   "source": [
    "# making close_date and open_date by concatenating the year, month and day\n",
    "import datetime\n",
    "close_date = []\n",
    "for index, row in movie_df.iterrows():\n",
    "    if row.close_day != '0':\n",
    "        close_date.append(datetime.datetime(int(row.close_year), int(row.close_month), int(row.close_day)))\n",
    "    else: \n",
    "        close_date.append(None)\n",
    "movie_df['close_date'] = close_date\n",
    "\n",
    "movie_df['open_date']=movie_df.open_year + '-' + movie_df.open_month + '-' + movie_df.open_day\n",
    "movie_df['open_date']=movie_df['open_date'].apply(pd.datetools.parse)\n",
    "\n",
    "# dropping unnecessary columns\n",
    "movie_df = movie_df.drop('close_day', 1)\n",
    "movie_df = movie_df.drop('close_month', 1)\n",
    "movie_df = movie_df.drop('open_day', 1)\n",
    "movie_df = movie_df.drop('open_month', 1)"
   ]
  },
  {
   "cell_type": "markdown",
   "metadata": {},
   "source": [
    "Great! Let's take a look at all the dataframes we've created"
   ]
  },
  {
   "cell_type": "code",
   "execution_count": 32,
   "metadata": {
    "collapsed": false
   },
   "outputs": [
    {
     "data": {
      "text/html": [
       "<div>\n",
       "<table border=\"1\" class=\"dataframe\">\n",
       "  <thead>\n",
       "    <tr style=\"text-align: right;\">\n",
       "      <th></th>\n",
       "      <th>close_year</th>\n",
       "      <th>gross</th>\n",
       "      <th>open_year</th>\n",
       "      <th>opening_gross</th>\n",
       "      <th>opening_theaters</th>\n",
       "      <th>ranking</th>\n",
       "      <th>title</th>\n",
       "      <th>total_theaters</th>\n",
       "      <th>year</th>\n",
       "      <th>close_date</th>\n",
       "      <th>open_date</th>\n",
       "    </tr>\n",
       "  </thead>\n",
       "  <tbody>\n",
       "    <tr>\n",
       "      <th>0</th>\n",
       "      <td>1991</td>\n",
       "      <td>285761243</td>\n",
       "      <td>1990</td>\n",
       "      <td>17081997</td>\n",
       "      <td>1202</td>\n",
       "      <td>1</td>\n",
       "      <td>Home Alone</td>\n",
       "      <td>2173</td>\n",
       "      <td>1990</td>\n",
       "      <td>None</td>\n",
       "      <td>1990-11-16</td>\n",
       "    </tr>\n",
       "    <tr>\n",
       "      <th>1</th>\n",
       "      <td>1991</td>\n",
       "      <td>217631306</td>\n",
       "      <td>1990</td>\n",
       "      <td>12191540</td>\n",
       "      <td>1101</td>\n",
       "      <td>2</td>\n",
       "      <td>Ghost</td>\n",
       "      <td>1766</td>\n",
       "      <td>1990</td>\n",
       "      <td>None</td>\n",
       "      <td>1990-07-13</td>\n",
       "    </tr>\n",
       "    <tr>\n",
       "      <th>2</th>\n",
       "      <td>1991</td>\n",
       "      <td>184208848</td>\n",
       "      <td>1990</td>\n",
       "      <td>598257</td>\n",
       "      <td>14</td>\n",
       "      <td>3</td>\n",
       "      <td>Dances with Wolves</td>\n",
       "      <td>1636</td>\n",
       "      <td>1990</td>\n",
       "      <td>None</td>\n",
       "      <td>1990-11-09</td>\n",
       "    </tr>\n",
       "    <tr>\n",
       "      <th>3</th>\n",
       "      <td>1991</td>\n",
       "      <td>178406268</td>\n",
       "      <td>1990</td>\n",
       "      <td>11280591</td>\n",
       "      <td>1325</td>\n",
       "      <td>4</td>\n",
       "      <td>Pretty Woman</td>\n",
       "      <td>1811</td>\n",
       "      <td>1990</td>\n",
       "      <td>None</td>\n",
       "      <td>1990-03-23</td>\n",
       "    </tr>\n",
       "    <tr>\n",
       "      <th>4</th>\n",
       "      <td>1991</td>\n",
       "      <td>135265915</td>\n",
       "      <td>1990</td>\n",
       "      <td>25398367</td>\n",
       "      <td>2006</td>\n",
       "      <td>5</td>\n",
       "      <td>Teenage Mutant Ninja Turtles</td>\n",
       "      <td>2377</td>\n",
       "      <td>1990</td>\n",
       "      <td>None</td>\n",
       "      <td>1990-03-30</td>\n",
       "    </tr>\n",
       "    <tr>\n",
       "      <th>5</th>\n",
       "      <td>1991</td>\n",
       "      <td>122012643</td>\n",
       "      <td>1990</td>\n",
       "      <td>17161835</td>\n",
       "      <td>1225</td>\n",
       "      <td>6</td>\n",
       "      <td>The Hunt for Red October</td>\n",
       "      <td>1817</td>\n",
       "      <td>1990</td>\n",
       "      <td>None</td>\n",
       "      <td>1990-03-02</td>\n",
       "    </tr>\n",
       "    <tr>\n",
       "      <th>6</th>\n",
       "      <td>1991</td>\n",
       "      <td>119394840</td>\n",
       "      <td>1990</td>\n",
       "      <td>25533700</td>\n",
       "      <td>2060</td>\n",
       "      <td>7</td>\n",
       "      <td>Total Recall</td>\n",
       "      <td>2131</td>\n",
       "      <td>1990</td>\n",
       "      <td>None</td>\n",
       "      <td>1990-06-01</td>\n",
       "    </tr>\n",
       "    <tr>\n",
       "      <th>7</th>\n",
       "      <td>1991</td>\n",
       "      <td>117540947</td>\n",
       "      <td>1990</td>\n",
       "      <td>21744661</td>\n",
       "      <td>2507</td>\n",
       "      <td>8</td>\n",
       "      <td>Die Hard 2: Die Harder</td>\n",
       "      <td>2507</td>\n",
       "      <td>1990</td>\n",
       "      <td>None</td>\n",
       "      <td>1990-07-06</td>\n",
       "    </tr>\n",
       "    <tr>\n",
       "      <th>8</th>\n",
       "      <td>1991</td>\n",
       "      <td>103738726</td>\n",
       "      <td>1990</td>\n",
       "      <td>22543911</td>\n",
       "      <td>2332</td>\n",
       "      <td>9</td>\n",
       "      <td>Dick Tracy</td>\n",
       "      <td>2332</td>\n",
       "      <td>1990</td>\n",
       "      <td>None</td>\n",
       "      <td>1990-06-15</td>\n",
       "    </tr>\n",
       "    <tr>\n",
       "      <th>9</th>\n",
       "      <td>1991</td>\n",
       "      <td>91457688</td>\n",
       "      <td>1990</td>\n",
       "      <td>7918560</td>\n",
       "      <td>1833</td>\n",
       "      <td>10</td>\n",
       "      <td>Kindergarten Cop</td>\n",
       "      <td>1937</td>\n",
       "      <td>1990</td>\n",
       "      <td>None</td>\n",
       "      <td>1990-12-22</td>\n",
       "    </tr>\n",
       "    <tr>\n",
       "      <th>10</th>\n",
       "      <td>1991</td>\n",
       "      <td>87727583</td>\n",
       "      <td>1990</td>\n",
       "      <td>19089645</td>\n",
       "      <td>2019</td>\n",
       "      <td>11</td>\n",
       "      <td>Back to the Future Part III</td>\n",
       "      <td>2070</td>\n",
       "      <td>1990</td>\n",
       "      <td>None</td>\n",
       "      <td>1990-05-25</td>\n",
       "    </tr>\n",
       "    <tr>\n",
       "      <th>11</th>\n",
       "      <td>1991</td>\n",
       "      <td>86303188</td>\n",
       "      <td>1990</td>\n",
       "      <td>11718981</td>\n",
       "      <td>1349</td>\n",
       "      <td>12</td>\n",
       "      <td>Presumed Innocent</td>\n",
       "      <td>1451</td>\n",
       "      <td>1990</td>\n",
       "      <td>None</td>\n",
       "      <td>1990-07-27</td>\n",
       "    </tr>\n",
       "    <tr>\n",
       "      <th>12</th>\n",
       "      <td>1991</td>\n",
       "      <td>82670733</td>\n",
       "      <td>1990</td>\n",
       "      <td>15490445</td>\n",
       "      <td>2307</td>\n",
       "      <td>13</td>\n",
       "      <td>Days of Thunder</td>\n",
       "      <td>2307</td>\n",
       "      <td>1990</td>\n",
       "      <td>None</td>\n",
       "      <td>1990-06-29</td>\n",
       "    </tr>\n",
       "    <tr>\n",
       "      <th>13</th>\n",
       "      <td>1991</td>\n",
       "      <td>80818974</td>\n",
       "      <td>1990</td>\n",
       "      <td>19475559</td>\n",
       "      <td>2721</td>\n",
       "      <td>14</td>\n",
       "      <td>Another 48 HRS.</td>\n",
       "      <td>2721</td>\n",
       "      <td>1990</td>\n",
       "      <td>None</td>\n",
       "      <td>1990-06-08</td>\n",
       "    </tr>\n",
       "    <tr>\n",
       "      <th>14</th>\n",
       "      <td>1991</td>\n",
       "      <td>71609321</td>\n",
       "      <td>1990</td>\n",
       "      <td>13774642</td>\n",
       "      <td>1281</td>\n",
       "      <td>15</td>\n",
       "      <td>Three Men and a Little Lady</td>\n",
       "      <td>1614</td>\n",
       "      <td>1990</td>\n",
       "      <td>None</td>\n",
       "      <td>1990-11-21</td>\n",
       "    </tr>\n",
       "    <tr>\n",
       "      <th>15</th>\n",
       "      <td>1991</td>\n",
       "      <td>70978012</td>\n",
       "      <td>1990</td>\n",
       "      <td>15338160</td>\n",
       "      <td>1944</td>\n",
       "      <td>16</td>\n",
       "      <td>Bird on a Wire</td>\n",
       "      <td>2008</td>\n",
       "      <td>1990</td>\n",
       "      <td>None</td>\n",
       "      <td>1990-05-18</td>\n",
       "    </tr>\n",
       "    <tr>\n",
       "      <th>16</th>\n",
       "      <td>1991</td>\n",
       "      <td>66666062</td>\n",
       "      <td>1990</td>\n",
       "      <td>19558558</td>\n",
       "      <td>1901</td>\n",
       "      <td>17</td>\n",
       "      <td>The Godfather Part III</td>\n",
       "      <td>1922</td>\n",
       "      <td>1990</td>\n",
       "      <td>None</td>\n",
       "      <td>1990-12-25</td>\n",
       "    </tr>\n",
       "    <tr>\n",
       "      <th>17</th>\n",
       "      <td>1991</td>\n",
       "      <td>61489265</td>\n",
       "      <td>1990</td>\n",
       "      <td>10034685</td>\n",
       "      <td>1319</td>\n",
       "      <td>18</td>\n",
       "      <td>Flatliners</td>\n",
       "      <td>1483</td>\n",
       "      <td>1990</td>\n",
       "      <td>None</td>\n",
       "      <td>1990-08-10</td>\n",
       "    </tr>\n",
       "    <tr>\n",
       "      <th>18</th>\n",
       "      <td>1991</td>\n",
       "      <td>61276872</td>\n",
       "      <td>1990</td>\n",
       "      <td>10076834</td>\n",
       "      <td>1244</td>\n",
       "      <td>19</td>\n",
       "      <td>Misery</td>\n",
       "      <td>1370</td>\n",
       "      <td>1990</td>\n",
       "      <td>None</td>\n",
       "      <td>1990-11-30</td>\n",
       "    </tr>\n",
       "    <tr>\n",
       "      <th>19</th>\n",
       "      <td>1991</td>\n",
       "      <td>56362352</td>\n",
       "      <td>1990</td>\n",
       "      <td>159622</td>\n",
       "      <td>2</td>\n",
       "      <td>20</td>\n",
       "      <td>Edward Scissorhands</td>\n",
       "      <td>1372</td>\n",
       "      <td>1990</td>\n",
       "      <td>None</td>\n",
       "      <td>1990-12-07</td>\n",
       "    </tr>\n",
       "    <tr>\n",
       "      <th>20</th>\n",
       "      <td>1991</td>\n",
       "      <td>53470891</td>\n",
       "      <td>1990</td>\n",
       "      <td>10026900</td>\n",
       "      <td>1714</td>\n",
       "      <td>21</td>\n",
       "      <td>Problem Child</td>\n",
       "      <td>1769</td>\n",
       "      <td>1990</td>\n",
       "      <td>None</td>\n",
       "      <td>1990-07-27</td>\n",
       "    </tr>\n",
       "    <tr>\n",
       "      <th>21</th>\n",
       "      <td>1991</td>\n",
       "      <td>53208180</td>\n",
       "      <td>1990</td>\n",
       "      <td>8045760</td>\n",
       "      <td>1479</td>\n",
       "      <td>22</td>\n",
       "      <td>Arachnophobia</td>\n",
       "      <td>2005</td>\n",
       "      <td>1990</td>\n",
       "      <td>None</td>\n",
       "      <td>1990-07-20</td>\n",
       "    </tr>\n",
       "    <tr>\n",
       "      <th>22</th>\n",
       "      <td>1991</td>\n",
       "      <td>52096475</td>\n",
       "      <td>1990</td>\n",
       "      <td>417076</td>\n",
       "      <td>12</td>\n",
       "      <td>23</td>\n",
       "      <td>Awakenings</td>\n",
       "      <td>1330</td>\n",
       "      <td>1990</td>\n",
       "      <td>None</td>\n",
       "      <td>1990-12-22</td>\n",
       "    </tr>\n",
       "    <tr>\n",
       "      <th>23</th>\n",
       "      <td>1991</td>\n",
       "      <td>47789074</td>\n",
       "      <td>1990</td>\n",
       "      <td>8100640</td>\n",
       "      <td>1576</td>\n",
       "      <td>24</td>\n",
       "      <td>Look Who's Talking Too</td>\n",
       "      <td>1647</td>\n",
       "      <td>1990</td>\n",
       "      <td>None</td>\n",
       "      <td>1990-12-14</td>\n",
       "    </tr>\n",
       "    <tr>\n",
       "      <th>24</th>\n",
       "      <td>1991</td>\n",
       "      <td>47410827</td>\n",
       "      <td>1990</td>\n",
       "      <td>9213631</td>\n",
       "      <td>1301</td>\n",
       "      <td>25</td>\n",
       "      <td>Hard to Kill</td>\n",
       "      <td>1508</td>\n",
       "      <td>1990</td>\n",
       "      <td>None</td>\n",
       "      <td>1990-02-09</td>\n",
       "    </tr>\n",
       "    <tr>\n",
       "      <th>25</th>\n",
       "      <td>1991</td>\n",
       "      <td>46836214</td>\n",
       "      <td>1990</td>\n",
       "      <td>6368901</td>\n",
       "      <td>1070</td>\n",
       "      <td>26</td>\n",
       "      <td>Goodfellas</td>\n",
       "      <td>1328</td>\n",
       "      <td>1990</td>\n",
       "      <td>None</td>\n",
       "      <td>1990-09-19</td>\n",
       "    </tr>\n",
       "    <tr>\n",
       "      <th>26</th>\n",
       "      <td>1991</td>\n",
       "      <td>46044396</td>\n",
       "      <td>1990</td>\n",
       "      <td>11790047</td>\n",
       "      <td>1968</td>\n",
       "      <td>27</td>\n",
       "      <td>Marked for Death</td>\n",
       "      <td>1974</td>\n",
       "      <td>1990</td>\n",
       "      <td>None</td>\n",
       "      <td>1990-10-05</td>\n",
       "    </tr>\n",
       "    <tr>\n",
       "      <th>27</th>\n",
       "      <td>1991</td>\n",
       "      <td>45681173</td>\n",
       "      <td>1990</td>\n",
       "      <td>14145411</td>\n",
       "      <td>1768</td>\n",
       "      <td>28</td>\n",
       "      <td>Robocop 2</td>\n",
       "      <td>1806</td>\n",
       "      <td>1990</td>\n",
       "      <td>None</td>\n",
       "      <td>1990-06-22</td>\n",
       "    </tr>\n",
       "    <tr>\n",
       "      <th>28</th>\n",
       "      <td>1991</td>\n",
       "      <td>44645619</td>\n",
       "      <td>1990</td>\n",
       "      <td>7708029</td>\n",
       "      <td>1901</td>\n",
       "      <td>29</td>\n",
       "      <td>The Jungle Book (re-issue) (1990)</td>\n",
       "      <td>1923</td>\n",
       "      <td>1990</td>\n",
       "      <td>None</td>\n",
       "      <td>1990-07-13</td>\n",
       "    </tr>\n",
       "    <tr>\n",
       "      <th>29</th>\n",
       "      <td>1991</td>\n",
       "      <td>44143410</td>\n",
       "      <td>1990</td>\n",
       "      <td>8017438</td>\n",
       "      <td>1770</td>\n",
       "      <td>30</td>\n",
       "      <td>Young Guns II</td>\n",
       "      <td>1770</td>\n",
       "      <td>1990</td>\n",
       "      <td>None</td>\n",
       "      <td>1990-08-03</td>\n",
       "    </tr>\n",
       "    <tr>\n",
       "      <th>...</th>\n",
       "      <td>...</td>\n",
       "      <td>...</td>\n",
       "      <td>...</td>\n",
       "      <td>...</td>\n",
       "      <td>...</td>\n",
       "      <td>...</td>\n",
       "      <td>...</td>\n",
       "      <td>...</td>\n",
       "      <td>...</td>\n",
       "      <td>...</td>\n",
       "      <td>...</td>\n",
       "    </tr>\n",
       "    <tr>\n",
       "      <th>2570</th>\n",
       "      <td>2016</td>\n",
       "      <td>31090320</td>\n",
       "      <td>2015</td>\n",
       "      <td>13143310</td>\n",
       "      <td>2984</td>\n",
       "      <td>71</td>\n",
       "      <td>Crimson Peak</td>\n",
       "      <td>2991</td>\n",
       "      <td>2015</td>\n",
       "      <td>None</td>\n",
       "      <td>2015-10-16</td>\n",
       "    </tr>\n",
       "    <tr>\n",
       "      <th>2571</th>\n",
       "      <td>2016</td>\n",
       "      <td>29467855</td>\n",
       "      <td>2015</td>\n",
       "      <td>8246267</td>\n",
       "      <td>1960</td>\n",
       "      <td>72</td>\n",
       "      <td>A Walk in the Woods</td>\n",
       "      <td>2158</td>\n",
       "      <td>2015</td>\n",
       "      <td>None</td>\n",
       "      <td>2015-09-02</td>\n",
       "    </tr>\n",
       "    <tr>\n",
       "      <th>2572</th>\n",
       "      <td>2015</td>\n",
       "      <td>27740955</td>\n",
       "      <td>2015</td>\n",
       "      <td>10542116</td>\n",
       "      <td>2766</td>\n",
       "      <td>73</td>\n",
       "      <td>Sinister 2</td>\n",
       "      <td>2799</td>\n",
       "      <td>2015</td>\n",
       "      <td>2015-10-29 00:00:00</td>\n",
       "      <td>2015-08-21</td>\n",
       "    </tr>\n",
       "    <tr>\n",
       "      <th>2573</th>\n",
       "      <td>2015</td>\n",
       "      <td>27288872</td>\n",
       "      <td>2015</td>\n",
       "      <td>8111264</td>\n",
       "      <td>3355</td>\n",
       "      <td>74</td>\n",
       "      <td>No Escape</td>\n",
       "      <td>3415</td>\n",
       "      <td>2015</td>\n",
       "      <td>2015-11-26 00:00:00</td>\n",
       "      <td>2015-08-26</td>\n",
       "    </tr>\n",
       "    <tr>\n",
       "      <th>2574</th>\n",
       "      <td>2016</td>\n",
       "      <td>26983145</td>\n",
       "      <td>2015</td>\n",
       "      <td>10812861</td>\n",
       "      <td>3082</td>\n",
       "      <td>75</td>\n",
       "      <td>The Last Witch Hunter</td>\n",
       "      <td>3082</td>\n",
       "      <td>2015</td>\n",
       "      <td>None</td>\n",
       "      <td>2015-10-23</td>\n",
       "    </tr>\n",
       "    <tr>\n",
       "      <th>2575</th>\n",
       "      <td>2016</td>\n",
       "      <td>26822144</td>\n",
       "      <td>2015</td>\n",
       "      <td>6610961</td>\n",
       "      <td>1603</td>\n",
       "      <td>76</td>\n",
       "      <td>Ricki and the Flash</td>\n",
       "      <td>2064</td>\n",
       "      <td>2015</td>\n",
       "      <td>None</td>\n",
       "      <td>2015-08-07</td>\n",
       "    </tr>\n",
       "    <tr>\n",
       "      <th>2576</th>\n",
       "      <td>2015</td>\n",
       "      <td>26501323</td>\n",
       "      <td>2015</td>\n",
       "      <td>15027415</td>\n",
       "      <td>2602</td>\n",
       "      <td>77</td>\n",
       "      <td>The Woman in Black 2: Angel of Death</td>\n",
       "      <td>2602</td>\n",
       "      <td>2015</td>\n",
       "      <td>2015-03-19 00:00:00</td>\n",
       "      <td>2015-01-02</td>\n",
       "    </tr>\n",
       "    <tr>\n",
       "      <th>2577</th>\n",
       "      <td>2015</td>\n",
       "      <td>26461644</td>\n",
       "      <td>2015</td>\n",
       "      <td>11012305</td>\n",
       "      <td>3171</td>\n",
       "      <td>78</td>\n",
       "      <td>Run All Night</td>\n",
       "      <td>3171</td>\n",
       "      <td>2015</td>\n",
       "      <td>2015-05-07 00:00:00</td>\n",
       "      <td>2015-03-13</td>\n",
       "    </tr>\n",
       "    <tr>\n",
       "      <th>2578</th>\n",
       "      <td>2015</td>\n",
       "      <td>25801047</td>\n",
       "      <td>2015</td>\n",
       "      <td>10203437</td>\n",
       "      <td>2666</td>\n",
       "      <td>79</td>\n",
       "      <td>The Lazarus Effect</td>\n",
       "      <td>2666</td>\n",
       "      <td>2015</td>\n",
       "      <td>2015-06-11 00:00:00</td>\n",
       "      <td>2015-02-27</td>\n",
       "    </tr>\n",
       "    <tr>\n",
       "      <th>2579</th>\n",
       "      <td>2015</td>\n",
       "      <td>25442958</td>\n",
       "      <td>2015</td>\n",
       "      <td>237264</td>\n",
       "      <td>4</td>\n",
       "      <td>80</td>\n",
       "      <td>Ex Machina</td>\n",
       "      <td>2004</td>\n",
       "      <td>2015</td>\n",
       "      <td>2015-09-03 00:00:00</td>\n",
       "      <td>2015-04-10</td>\n",
       "    </tr>\n",
       "    <tr>\n",
       "      <th>2580</th>\n",
       "      <td>2016</td>\n",
       "      <td>24278827</td>\n",
       "      <td>2015</td>\n",
       "      <td>9880536</td>\n",
       "      <td>2960</td>\n",
       "      <td>81</td>\n",
       "      <td>The Night Before</td>\n",
       "      <td>2960</td>\n",
       "      <td>2015</td>\n",
       "      <td>None</td>\n",
       "      <td>2015-11-20</td>\n",
       "    </tr>\n",
       "    <tr>\n",
       "      <th>2581</th>\n",
       "      <td>2015</td>\n",
       "      <td>22764410</td>\n",
       "      <td>2015</td>\n",
       "      <td>9808463</td>\n",
       "      <td>2720</td>\n",
       "      <td>82</td>\n",
       "      <td>The Gallows</td>\n",
       "      <td>2720</td>\n",
       "      <td>2015</td>\n",
       "      <td>2015-09-17 00:00:00</td>\n",
       "      <td>2015-07-10</td>\n",
       "    </tr>\n",
       "    <tr>\n",
       "      <th>2582</th>\n",
       "      <td>2015</td>\n",
       "      <td>22467450</td>\n",
       "      <td>2015</td>\n",
       "      <td>8326530</td>\n",
       "      <td>3261</td>\n",
       "      <td>83</td>\n",
       "      <td>Hitman: Agent 47</td>\n",
       "      <td>3273</td>\n",
       "      <td>2015</td>\n",
       "      <td>2015-10-15 00:00:00</td>\n",
       "      <td>2015-08-21</td>\n",
       "    </tr>\n",
       "    <tr>\n",
       "      <th>2583</th>\n",
       "      <td>2015</td>\n",
       "      <td>22348241</td>\n",
       "      <td>2015</td>\n",
       "      <td>8310252</td>\n",
       "      <td>2893</td>\n",
       "      <td>84</td>\n",
       "      <td>Project Almanac</td>\n",
       "      <td>2900</td>\n",
       "      <td>2015</td>\n",
       "      <td>2015-03-26 00:00:00</td>\n",
       "      <td>2015-01-30</td>\n",
       "    </tr>\n",
       "    <tr>\n",
       "      <th>2584</th>\n",
       "      <td>2015</td>\n",
       "      <td>21571189</td>\n",
       "      <td>2015</td>\n",
       "      <td>6213362</td>\n",
       "      <td>1823</td>\n",
       "      <td>85</td>\n",
       "      <td>Black or White</td>\n",
       "      <td>1823</td>\n",
       "      <td>2015</td>\n",
       "      <td>2015-05-14 00:00:00</td>\n",
       "      <td>2015-01-30</td>\n",
       "    </tr>\n",
       "    <tr>\n",
       "      <th>2585</th>\n",
       "      <td>2015</td>\n",
       "      <td>21067116</td>\n",
       "      <td>2015</td>\n",
       "      <td>9670235</td>\n",
       "      <td>2815</td>\n",
       "      <td>86</td>\n",
       "      <td>Aloha</td>\n",
       "      <td>2815</td>\n",
       "      <td>2015</td>\n",
       "      <td>2015-07-30 00:00:00</td>\n",
       "      <td>2015-05-29</td>\n",
       "    </tr>\n",
       "    <tr>\n",
       "      <th>2586</th>\n",
       "      <td>2016</td>\n",
       "      <td>20453601</td>\n",
       "      <td>2015</td>\n",
       "      <td>8317545</td>\n",
       "      <td>2603</td>\n",
       "      <td>87</td>\n",
       "      <td>Love the Coopers</td>\n",
       "      <td>2603</td>\n",
       "      <td>2015</td>\n",
       "      <td>None</td>\n",
       "      <td>2015-11-13</td>\n",
       "    </tr>\n",
       "    <tr>\n",
       "      <th>2587</th>\n",
       "      <td>2015</td>\n",
       "      <td>19375982</td>\n",
       "      <td>2015</td>\n",
       "      <td>4038962</td>\n",
       "      <td>2320</td>\n",
       "      <td>88</td>\n",
       "      <td>Shaun the Sheep Movie</td>\n",
       "      <td>2360</td>\n",
       "      <td>2015</td>\n",
       "      <td>2015-10-22 00:00:00</td>\n",
       "      <td>2015-08-05</td>\n",
       "    </tr>\n",
       "    <tr>\n",
       "      <th>2588</th>\n",
       "      <td>2015</td>\n",
       "      <td>18754371</td>\n",
       "      <td>2015</td>\n",
       "      <td>197000</td>\n",
       "      <td>12</td>\n",
       "      <td>89</td>\n",
       "      <td>Still Alice</td>\n",
       "      <td>1318</td>\n",
       "      <td>2015</td>\n",
       "      <td>2015-05-21 00:00:00</td>\n",
       "      <td>2015-01-16</td>\n",
       "    </tr>\n",
       "    <tr>\n",
       "      <th>2589</th>\n",
       "      <td>2016</td>\n",
       "      <td>18300124</td>\n",
       "      <td>2015</td>\n",
       "      <td>8070493</td>\n",
       "      <td>1656</td>\n",
       "      <td>90</td>\n",
       "      <td>Paranormal Activity: The Ghost Dimension</td>\n",
       "      <td>1656</td>\n",
       "      <td>2015</td>\n",
       "      <td>None</td>\n",
       "      <td>2015-10-23</td>\n",
       "    </tr>\n",
       "    <tr>\n",
       "      <th>2590</th>\n",
       "      <td>2015</td>\n",
       "      <td>17737646</td>\n",
       "      <td>2015</td>\n",
       "      <td>2434908</td>\n",
       "      <td>361</td>\n",
       "      <td>91</td>\n",
       "      <td>Mr. Holmes</td>\n",
       "      <td>898</td>\n",
       "      <td>2015</td>\n",
       "      <td>2015-11-05 00:00:00</td>\n",
       "      <td>2015-07-17</td>\n",
       "    </tr>\n",
       "    <tr>\n",
       "      <th>2591</th>\n",
       "      <td>2016</td>\n",
       "      <td>17703103</td>\n",
       "      <td>2015</td>\n",
       "      <td>521522</td>\n",
       "      <td>4</td>\n",
       "      <td>92</td>\n",
       "      <td>Steve Jobs</td>\n",
       "      <td>2493</td>\n",
       "      <td>2015</td>\n",
       "      <td>None</td>\n",
       "      <td>2015-10-09</td>\n",
       "    </tr>\n",
       "    <tr>\n",
       "      <th>2592</th>\n",
       "      <td>2015</td>\n",
       "      <td>17506470</td>\n",
       "      <td>2015</td>\n",
       "      <td>6100010</td>\n",
       "      <td>2002</td>\n",
       "      <td>93</td>\n",
       "      <td>Dope</td>\n",
       "      <td>2002</td>\n",
       "      <td>2015</td>\n",
       "      <td>2015-09-17 00:00:00</td>\n",
       "      <td>2015-06-19</td>\n",
       "    </tr>\n",
       "    <tr>\n",
       "      <th>2593</th>\n",
       "      <td>2015</td>\n",
       "      <td>17223265</td>\n",
       "      <td>2015</td>\n",
       "      <td>7217640</td>\n",
       "      <td>2875</td>\n",
       "      <td>94</td>\n",
       "      <td>Seventh Son</td>\n",
       "      <td>2875</td>\n",
       "      <td>2015</td>\n",
       "      <td>2015-03-19 00:00:00</td>\n",
       "      <td>2015-02-06</td>\n",
       "    </tr>\n",
       "    <tr>\n",
       "      <th>2594</th>\n",
       "      <td>2015</td>\n",
       "      <td>16432322</td>\n",
       "      <td>2015</td>\n",
       "      <td>4577861</td>\n",
       "      <td>2012</td>\n",
       "      <td>95</td>\n",
       "      <td>Monkey Kingdom</td>\n",
       "      <td>2012</td>\n",
       "      <td>2015</td>\n",
       "      <td>2015-07-23 00:00:00</td>\n",
       "      <td>2015-04-17</td>\n",
       "    </tr>\n",
       "    <tr>\n",
       "      <th>2595</th>\n",
       "      <td>2015</td>\n",
       "      <td>16029670</td>\n",
       "      <td>2015</td>\n",
       "      <td>7355622</td>\n",
       "      <td>3434</td>\n",
       "      <td>96</td>\n",
       "      <td>The Transporter Refueled</td>\n",
       "      <td>3434</td>\n",
       "      <td>2015</td>\n",
       "      <td>2015-11-19 00:00:00</td>\n",
       "      <td>2015-09-04</td>\n",
       "    </tr>\n",
       "    <tr>\n",
       "      <th>2596</th>\n",
       "      <td>2015</td>\n",
       "      <td>14674076</td>\n",
       "      <td>2015</td>\n",
       "      <td>160089</td>\n",
       "      <td>4</td>\n",
       "      <td>97</td>\n",
       "      <td>It Follows</td>\n",
       "      <td>1655</td>\n",
       "      <td>2015</td>\n",
       "      <td>2015-06-25 00:00:00</td>\n",
       "      <td>2015-03-13</td>\n",
       "    </tr>\n",
       "    <tr>\n",
       "      <th>2597</th>\n",
       "      <td>2015</td>\n",
       "      <td>14440985</td>\n",
       "      <td>2015</td>\n",
       "      <td>5454284</td>\n",
       "      <td>2778</td>\n",
       "      <td>98</td>\n",
       "      <td>American Ultra</td>\n",
       "      <td>2778</td>\n",
       "      <td>2015</td>\n",
       "      <td>2015-10-08 00:00:00</td>\n",
       "      <td>2015-08-21</td>\n",
       "    </tr>\n",
       "    <tr>\n",
       "      <th>2598</th>\n",
       "      <td>2016</td>\n",
       "      <td>14201575</td>\n",
       "      <td>2015</td>\n",
       "      <td>4002226</td>\n",
       "      <td>1553</td>\n",
       "      <td>99</td>\n",
       "      <td>Woodlawn</td>\n",
       "      <td>1553</td>\n",
       "      <td>2015</td>\n",
       "      <td>None</td>\n",
       "      <td>2015-10-16</td>\n",
       "    </tr>\n",
       "    <tr>\n",
       "      <th>2599</th>\n",
       "      <td>2016</td>\n",
       "      <td>13952579</td>\n",
       "      <td>2015</td>\n",
       "      <td>6652996</td>\n",
       "      <td>2392</td>\n",
       "      <td>100</td>\n",
       "      <td>The Secret in their Eyes (2015)</td>\n",
       "      <td>2392</td>\n",
       "      <td>2015</td>\n",
       "      <td>None</td>\n",
       "      <td>2015-11-20</td>\n",
       "    </tr>\n",
       "  </tbody>\n",
       "</table>\n",
       "<p>2600 rows × 11 columns</p>\n",
       "</div>"
      ],
      "text/plain": [
       "     close_year      gross open_year  opening_gross  opening_theaters  ranking                                     title  total_theaters  year           close_date  open_date\n",
       "0          1991  285761243      1990       17081997              1202        1                                Home Alone            2173  1990                 None 1990-11-16\n",
       "1          1991  217631306      1990       12191540              1101        2                                     Ghost            1766  1990                 None 1990-07-13\n",
       "2          1991  184208848      1990         598257                14        3                        Dances with Wolves            1636  1990                 None 1990-11-09\n",
       "3          1991  178406268      1990       11280591              1325        4                              Pretty Woman            1811  1990                 None 1990-03-23\n",
       "4          1991  135265915      1990       25398367              2006        5              Teenage Mutant Ninja Turtles            2377  1990                 None 1990-03-30\n",
       "5          1991  122012643      1990       17161835              1225        6                  The Hunt for Red October            1817  1990                 None 1990-03-02\n",
       "6          1991  119394840      1990       25533700              2060        7                              Total Recall            2131  1990                 None 1990-06-01\n",
       "7          1991  117540947      1990       21744661              2507        8                    Die Hard 2: Die Harder            2507  1990                 None 1990-07-06\n",
       "8          1991  103738726      1990       22543911              2332        9                                Dick Tracy            2332  1990                 None 1990-06-15\n",
       "9          1991   91457688      1990        7918560              1833       10                          Kindergarten Cop            1937  1990                 None 1990-12-22\n",
       "10         1991   87727583      1990       19089645              2019       11               Back to the Future Part III            2070  1990                 None 1990-05-25\n",
       "11         1991   86303188      1990       11718981              1349       12                         Presumed Innocent            1451  1990                 None 1990-07-27\n",
       "12         1991   82670733      1990       15490445              2307       13                           Days of Thunder            2307  1990                 None 1990-06-29\n",
       "13         1991   80818974      1990       19475559              2721       14                           Another 48 HRS.            2721  1990                 None 1990-06-08\n",
       "14         1991   71609321      1990       13774642              1281       15               Three Men and a Little Lady            1614  1990                 None 1990-11-21\n",
       "15         1991   70978012      1990       15338160              1944       16                            Bird on a Wire            2008  1990                 None 1990-05-18\n",
       "16         1991   66666062      1990       19558558              1901       17                    The Godfather Part III            1922  1990                 None 1990-12-25\n",
       "17         1991   61489265      1990       10034685              1319       18                                Flatliners            1483  1990                 None 1990-08-10\n",
       "18         1991   61276872      1990       10076834              1244       19                                    Misery            1370  1990                 None 1990-11-30\n",
       "19         1991   56362352      1990         159622                 2       20                       Edward Scissorhands            1372  1990                 None 1990-12-07\n",
       "20         1991   53470891      1990       10026900              1714       21                             Problem Child            1769  1990                 None 1990-07-27\n",
       "21         1991   53208180      1990        8045760              1479       22                             Arachnophobia            2005  1990                 None 1990-07-20\n",
       "22         1991   52096475      1990         417076                12       23                                Awakenings            1330  1990                 None 1990-12-22\n",
       "23         1991   47789074      1990        8100640              1576       24                    Look Who's Talking Too            1647  1990                 None 1990-12-14\n",
       "24         1991   47410827      1990        9213631              1301       25                              Hard to Kill            1508  1990                 None 1990-02-09\n",
       "25         1991   46836214      1990        6368901              1070       26                                Goodfellas            1328  1990                 None 1990-09-19\n",
       "26         1991   46044396      1990       11790047              1968       27                          Marked for Death            1974  1990                 None 1990-10-05\n",
       "27         1991   45681173      1990       14145411              1768       28                                 Robocop 2            1806  1990                 None 1990-06-22\n",
       "28         1991   44645619      1990        7708029              1901       29         The Jungle Book (re-issue) (1990)            1923  1990                 None 1990-07-13\n",
       "29         1991   44143410      1990        8017438              1770       30                             Young Guns II            1770  1990                 None 1990-08-03\n",
       "...         ...        ...       ...            ...               ...      ...                                       ...             ...   ...                  ...        ...\n",
       "2570       2016   31090320      2015       13143310              2984       71                              Crimson Peak            2991  2015                 None 2015-10-16\n",
       "2571       2016   29467855      2015        8246267              1960       72                       A Walk in the Woods            2158  2015                 None 2015-09-02\n",
       "2572       2015   27740955      2015       10542116              2766       73                                Sinister 2            2799  2015  2015-10-29 00:00:00 2015-08-21\n",
       "2573       2015   27288872      2015        8111264              3355       74                                 No Escape            3415  2015  2015-11-26 00:00:00 2015-08-26\n",
       "2574       2016   26983145      2015       10812861              3082       75                     The Last Witch Hunter            3082  2015                 None 2015-10-23\n",
       "2575       2016   26822144      2015        6610961              1603       76                       Ricki and the Flash            2064  2015                 None 2015-08-07\n",
       "2576       2015   26501323      2015       15027415              2602       77      The Woman in Black 2: Angel of Death            2602  2015  2015-03-19 00:00:00 2015-01-02\n",
       "2577       2015   26461644      2015       11012305              3171       78                             Run All Night            3171  2015  2015-05-07 00:00:00 2015-03-13\n",
       "2578       2015   25801047      2015       10203437              2666       79                        The Lazarus Effect            2666  2015  2015-06-11 00:00:00 2015-02-27\n",
       "2579       2015   25442958      2015         237264                 4       80                                Ex Machina            2004  2015  2015-09-03 00:00:00 2015-04-10\n",
       "2580       2016   24278827      2015        9880536              2960       81                          The Night Before            2960  2015                 None 2015-11-20\n",
       "2581       2015   22764410      2015        9808463              2720       82                               The Gallows            2720  2015  2015-09-17 00:00:00 2015-07-10\n",
       "2582       2015   22467450      2015        8326530              3261       83                          Hitman: Agent 47            3273  2015  2015-10-15 00:00:00 2015-08-21\n",
       "2583       2015   22348241      2015        8310252              2893       84                           Project Almanac            2900  2015  2015-03-26 00:00:00 2015-01-30\n",
       "2584       2015   21571189      2015        6213362              1823       85                            Black or White            1823  2015  2015-05-14 00:00:00 2015-01-30\n",
       "2585       2015   21067116      2015        9670235              2815       86                                     Aloha            2815  2015  2015-07-30 00:00:00 2015-05-29\n",
       "2586       2016   20453601      2015        8317545              2603       87                          Love the Coopers            2603  2015                 None 2015-11-13\n",
       "2587       2015   19375982      2015        4038962              2320       88                     Shaun the Sheep Movie            2360  2015  2015-10-22 00:00:00 2015-08-05\n",
       "2588       2015   18754371      2015         197000                12       89                               Still Alice            1318  2015  2015-05-21 00:00:00 2015-01-16\n",
       "2589       2016   18300124      2015        8070493              1656       90  Paranormal Activity: The Ghost Dimension            1656  2015                 None 2015-10-23\n",
       "2590       2015   17737646      2015        2434908               361       91                                Mr. Holmes             898  2015  2015-11-05 00:00:00 2015-07-17\n",
       "2591       2016   17703103      2015         521522                 4       92                                Steve Jobs            2493  2015                 None 2015-10-09\n",
       "2592       2015   17506470      2015        6100010              2002       93                                      Dope            2002  2015  2015-09-17 00:00:00 2015-06-19\n",
       "2593       2015   17223265      2015        7217640              2875       94                               Seventh Son            2875  2015  2015-03-19 00:00:00 2015-02-06\n",
       "2594       2015   16432322      2015        4577861              2012       95                            Monkey Kingdom            2012  2015  2015-07-23 00:00:00 2015-04-17\n",
       "2595       2015   16029670      2015        7355622              3434       96                  The Transporter Refueled            3434  2015  2015-11-19 00:00:00 2015-09-04\n",
       "2596       2015   14674076      2015         160089                 4       97                                It Follows            1655  2015  2015-06-25 00:00:00 2015-03-13\n",
       "2597       2015   14440985      2015        5454284              2778       98                            American Ultra            2778  2015  2015-10-08 00:00:00 2015-08-21\n",
       "2598       2016   14201575      2015        4002226              1553       99                                  Woodlawn            1553  2015                 None 2015-10-16\n",
       "2599       2016   13952579      2015        6652996              2392      100           The Secret in their Eyes (2015)            2392  2015                 None 2015-11-20\n",
       "\n",
       "[2600 rows x 11 columns]"
      ]
     },
     "execution_count": 32,
     "metadata": {},
     "output_type": "execute_result"
    }
   ],
   "source": [
    "movie_df"
   ]
  },
  {
   "cell_type": "code",
   "execution_count": 33,
   "metadata": {
    "collapsed": false
   },
   "outputs": [
    {
     "data": {
      "text/html": [
       "<div>\n",
       "<table border=\"1\" class=\"dataframe\">\n",
       "  <thead>\n",
       "    <tr style=\"text-align: right;\">\n",
       "      <th></th>\n",
       "      <th>movie_id</th>\n",
       "      <th>movie_name</th>\n",
       "      <th>positive</th>\n",
       "      <th>stars</th>\n",
       "      <th>text</th>\n",
       "      <th>url</th>\n",
       "    </tr>\n",
       "  </thead>\n",
       "  <tbody>\n",
       "    <tr>\n",
       "      <th>0</th>\n",
       "      <td>10027</td>\n",
       "      <td>Titanic</td>\n",
       "      <td>True</td>\n",
       "      <td>7</td>\n",
       "      <td>Sure, Titanic was a good movie, the first time...</td>\n",
       "      <td>http://www.imdb.com/title/tt0120338/usercommen...</td>\n",
       "    </tr>\n",
       "    <tr>\n",
       "      <th>1</th>\n",
       "      <td>10028</td>\n",
       "      <td>Titanic</td>\n",
       "      <td>True</td>\n",
       "      <td>10</td>\n",
       "      <td>When I saw this movie I was stunned by what a ...</td>\n",
       "      <td>http://www.imdb.com/title/tt0120338/usercommen...</td>\n",
       "    </tr>\n",
       "    <tr>\n",
       "      <th>2</th>\n",
       "      <td>10029</td>\n",
       "      <td>Titanic</td>\n",
       "      <td>True</td>\n",
       "      <td>10</td>\n",
       "      <td>Why do people bitch about this movie and not a...</td>\n",
       "      <td>http://www.imdb.com/title/tt0120338/usercommen...</td>\n",
       "    </tr>\n",
       "    <tr>\n",
       "      <th>3</th>\n",
       "      <td>10030</td>\n",
       "      <td>Titanic</td>\n",
       "      <td>True</td>\n",
       "      <td>10</td>\n",
       "      <td>What's inexplicable? Firstly, the hatred towar...</td>\n",
       "      <td>http://www.imdb.com/title/tt0120338/usercommen...</td>\n",
       "    </tr>\n",
       "    <tr>\n",
       "      <th>4</th>\n",
       "      <td>10031</td>\n",
       "      <td>Titanic</td>\n",
       "      <td>True</td>\n",
       "      <td>10</td>\n",
       "      <td>Previously, I wrote that I loved \"Titanic\", cr...</td>\n",
       "      <td>http://www.imdb.com/title/tt0120338/usercommen...</td>\n",
       "    </tr>\n",
       "  </tbody>\n",
       "</table>\n",
       "</div>"
      ],
      "text/plain": [
       "   movie_id movie_name positive  stars                                               text                                                url\n",
       "0     10027    Titanic     True      7  Sure, Titanic was a good movie, the first time...  http://www.imdb.com/title/tt0120338/usercommen...\n",
       "1     10028    Titanic     True     10  When I saw this movie I was stunned by what a ...  http://www.imdb.com/title/tt0120338/usercommen...\n",
       "2     10029    Titanic     True     10  Why do people bitch about this movie and not a...  http://www.imdb.com/title/tt0120338/usercommen...\n",
       "3     10030    Titanic     True     10  What's inexplicable? Firstly, the hatred towar...  http://www.imdb.com/title/tt0120338/usercommen...\n",
       "4     10031    Titanic     True     10  Previously, I wrote that I loved \"Titanic\", cr...  http://www.imdb.com/title/tt0120338/usercommen..."
      ]
     },
     "execution_count": 33,
     "metadata": {},
     "output_type": "execute_result"
    }
   ],
   "source": [
    "IMDB_df.head()"
   ]
  },
  {
   "cell_type": "code",
   "execution_count": 34,
   "metadata": {
    "collapsed": false
   },
   "outputs": [
    {
     "data": {
      "text/html": [
       "<div>\n",
       "<table border=\"1\" class=\"dataframe\">\n",
       "  <thead>\n",
       "    <tr style=\"text-align: right;\">\n",
       "      <th></th>\n",
       "      <th>valences</th>\n",
       "      <th>words</th>\n",
       "    </tr>\n",
       "  </thead>\n",
       "  <tbody>\n",
       "    <tr>\n",
       "      <th>0</th>\n",
       "      <td>-2</td>\n",
       "      <td>abandon</td>\n",
       "    </tr>\n",
       "    <tr>\n",
       "      <th>1</th>\n",
       "      <td>-2</td>\n",
       "      <td>abandoned</td>\n",
       "    </tr>\n",
       "    <tr>\n",
       "      <th>2</th>\n",
       "      <td>-2</td>\n",
       "      <td>abandons</td>\n",
       "    </tr>\n",
       "    <tr>\n",
       "      <th>3</th>\n",
       "      <td>-2</td>\n",
       "      <td>abducted</td>\n",
       "    </tr>\n",
       "    <tr>\n",
       "      <th>4</th>\n",
       "      <td>-2</td>\n",
       "      <td>abduction</td>\n",
       "    </tr>\n",
       "  </tbody>\n",
       "</table>\n",
       "</div>"
      ],
      "text/plain": [
       "   valences      words\n",
       "0        -2    abandon\n",
       "1        -2  abandoned\n",
       "2        -2   abandons\n",
       "3        -2   abducted\n",
       "4        -2  abduction"
      ]
     },
     "execution_count": 34,
     "metadata": {},
     "output_type": "execute_result"
    }
   ],
   "source": [
    "dictionary.head()"
   ]
  },
  {
   "cell_type": "markdown",
   "metadata": {},
   "source": [
    "Now, we want to make a new dataframe `flattened_df` that we can use to run our regressions on. This dataframe will include all the columns in `movie_df` and the extra columns\n",
    "* number of reviews for the movie in IMDB_df\n",
    "* average stars from the reviews\n",
    "* overall ranking"
   ]
  },
  {
   "cell_type": "code",
   "execution_count": 35,
   "metadata": {
    "collapsed": true
   },
   "outputs": [],
   "source": [
    "# set index to title\n",
    "indexed_df = movie_df.set_index(\"title\")"
   ]
  },
  {
   "cell_type": "code",
   "execution_count": 36,
   "metadata": {
    "collapsed": true
   },
   "outputs": [],
   "source": [
    "# use groupby to get the review_count and the star_avg\n",
    "gold = IMDB_df.groupby(\"movie_name\")\n",
    "review_count = gold.movie_name.count()\n",
    "star_avg = gold.stars.mean()\n",
    "positive = gold.positive.mean()"
   ]
  },
  {
   "cell_type": "code",
   "execution_count": 37,
   "metadata": {
    "collapsed": false
   },
   "outputs": [],
   "source": [
    "# concatenate the two series into our final dataframe flattened_df\n",
    "flattened_df = pd.concat([indexed_df, review_count], axis=1, join_axes=[indexed_df.index])\n",
    "flattened_df.rename(columns={'movie_name': 'review_count'}, inplace=True)\n",
    "flattened_df = pd.concat([flattened_df, star_avg], axis=1, join_axes=[indexed_df.index])\n",
    "flattened_df.rename(columns={'stars': 'star_avg'}, inplace=True)\n",
    "flattened_df = pd.concat([flattened_df, positive], axis=1, join_axes=[indexed_df.index])"
   ]
  },
  {
   "cell_type": "markdown",
   "metadata": {},
   "source": [
    "Let's take a look at what our dataframe looks like now!"
   ]
  },
  {
   "cell_type": "code",
   "execution_count": 38,
   "metadata": {
    "collapsed": false
   },
   "outputs": [
    {
     "data": {
      "text/html": [
       "<div>\n",
       "<table border=\"1\" class=\"dataframe\">\n",
       "  <thead>\n",
       "    <tr style=\"text-align: right;\">\n",
       "      <th></th>\n",
       "      <th>close_year</th>\n",
       "      <th>gross</th>\n",
       "      <th>open_year</th>\n",
       "      <th>opening_gross</th>\n",
       "      <th>opening_theaters</th>\n",
       "      <th>ranking</th>\n",
       "      <th>total_theaters</th>\n",
       "      <th>year</th>\n",
       "      <th>close_date</th>\n",
       "      <th>open_date</th>\n",
       "      <th>review_count</th>\n",
       "      <th>star_avg</th>\n",
       "      <th>positive</th>\n",
       "    </tr>\n",
       "    <tr>\n",
       "      <th>title</th>\n",
       "      <th></th>\n",
       "      <th></th>\n",
       "      <th></th>\n",
       "      <th></th>\n",
       "      <th></th>\n",
       "      <th></th>\n",
       "      <th></th>\n",
       "      <th></th>\n",
       "      <th></th>\n",
       "      <th></th>\n",
       "      <th></th>\n",
       "      <th></th>\n",
       "      <th></th>\n",
       "    </tr>\n",
       "  </thead>\n",
       "  <tbody>\n",
       "    <tr>\n",
       "      <th>Home Alone</th>\n",
       "      <td>1991</td>\n",
       "      <td>285761243</td>\n",
       "      <td>1990</td>\n",
       "      <td>17081997</td>\n",
       "      <td>1202</td>\n",
       "      <td>1</td>\n",
       "      <td>2173</td>\n",
       "      <td>1990</td>\n",
       "      <td>None</td>\n",
       "      <td>1990-11-16</td>\n",
       "      <td>NaN</td>\n",
       "      <td>NaN</td>\n",
       "      <td>NaN</td>\n",
       "    </tr>\n",
       "    <tr>\n",
       "      <th>Ghost</th>\n",
       "      <td>1991</td>\n",
       "      <td>217631306</td>\n",
       "      <td>1990</td>\n",
       "      <td>12191540</td>\n",
       "      <td>1101</td>\n",
       "      <td>2</td>\n",
       "      <td>1766</td>\n",
       "      <td>1990</td>\n",
       "      <td>None</td>\n",
       "      <td>1990-07-13</td>\n",
       "      <td>NaN</td>\n",
       "      <td>NaN</td>\n",
       "      <td>NaN</td>\n",
       "    </tr>\n",
       "    <tr>\n",
       "      <th>Dances with Wolves</th>\n",
       "      <td>1991</td>\n",
       "      <td>184208848</td>\n",
       "      <td>1990</td>\n",
       "      <td>598257</td>\n",
       "      <td>14</td>\n",
       "      <td>3</td>\n",
       "      <td>1636</td>\n",
       "      <td>1990</td>\n",
       "      <td>None</td>\n",
       "      <td>1990-11-09</td>\n",
       "      <td>NaN</td>\n",
       "      <td>NaN</td>\n",
       "      <td>NaN</td>\n",
       "    </tr>\n",
       "    <tr>\n",
       "      <th>Pretty Woman</th>\n",
       "      <td>1991</td>\n",
       "      <td>178406268</td>\n",
       "      <td>1990</td>\n",
       "      <td>11280591</td>\n",
       "      <td>1325</td>\n",
       "      <td>4</td>\n",
       "      <td>1811</td>\n",
       "      <td>1990</td>\n",
       "      <td>None</td>\n",
       "      <td>1990-03-23</td>\n",
       "      <td>2</td>\n",
       "      <td>1</td>\n",
       "      <td>0</td>\n",
       "    </tr>\n",
       "    <tr>\n",
       "      <th>Teenage Mutant Ninja Turtles</th>\n",
       "      <td>1991</td>\n",
       "      <td>135265915</td>\n",
       "      <td>1990</td>\n",
       "      <td>25398367</td>\n",
       "      <td>2006</td>\n",
       "      <td>5</td>\n",
       "      <td>2377</td>\n",
       "      <td>1990</td>\n",
       "      <td>None</td>\n",
       "      <td>1990-03-30</td>\n",
       "      <td>NaN</td>\n",
       "      <td>NaN</td>\n",
       "      <td>NaN</td>\n",
       "    </tr>\n",
       "  </tbody>\n",
       "</table>\n",
       "</div>"
      ],
      "text/plain": [
       "                             close_year      gross open_year  opening_gross  opening_theaters  ranking  total_theaters  year close_date  open_date  review_count  star_avg  positive\n",
       "title                                                                                                                                                                               \n",
       "Home Alone                         1991  285761243      1990       17081997              1202        1            2173  1990       None 1990-11-16           NaN       NaN       NaN\n",
       "Ghost                              1991  217631306      1990       12191540              1101        2            1766  1990       None 1990-07-13           NaN       NaN       NaN\n",
       "Dances with Wolves                 1991  184208848      1990         598257                14        3            1636  1990       None 1990-11-09           NaN       NaN       NaN\n",
       "Pretty Woman                       1991  178406268      1990       11280591              1325        4            1811  1990       None 1990-03-23             2         1         0\n",
       "Teenage Mutant Ninja Turtles       1991  135265915      1990       25398367              2006        5            2377  1990       None 1990-03-30           NaN       NaN       NaN"
      ]
     },
     "execution_count": 38,
     "metadata": {},
     "output_type": "execute_result"
    }
   ],
   "source": [
    "flattened_df.head()"
   ]
  },
  {
   "cell_type": "code",
   "execution_count": 39,
   "metadata": {
    "collapsed": false
   },
   "outputs": [
    {
     "data": {
      "text/plain": [
       "(334, 13)"
      ]
     },
     "execution_count": 39,
     "metadata": {},
     "output_type": "execute_result"
    }
   ],
   "source": [
    "dftouse = flattened_df[~flattened_df['review_count'].map(np.isnan)]\n",
    "dftouse.shape"
   ]
  },
  {
   "cell_type": "code",
   "execution_count": 40,
   "metadata": {
    "collapsed": false
   },
   "outputs": [
    {
     "data": {
      "text/html": [
       "<div>\n",
       "<table border=\"1\" class=\"dataframe\">\n",
       "  <thead>\n",
       "    <tr style=\"text-align: right;\">\n",
       "      <th></th>\n",
       "      <th>close_year</th>\n",
       "      <th>gross</th>\n",
       "      <th>open_year</th>\n",
       "      <th>opening_gross</th>\n",
       "      <th>opening_theaters</th>\n",
       "      <th>ranking</th>\n",
       "      <th>total_theaters</th>\n",
       "      <th>year</th>\n",
       "      <th>close_date</th>\n",
       "      <th>open_date</th>\n",
       "      <th>review_count</th>\n",
       "      <th>star_avg</th>\n",
       "      <th>positive</th>\n",
       "    </tr>\n",
       "    <tr>\n",
       "      <th>title</th>\n",
       "      <th></th>\n",
       "      <th></th>\n",
       "      <th></th>\n",
       "      <th></th>\n",
       "      <th></th>\n",
       "      <th></th>\n",
       "      <th></th>\n",
       "      <th></th>\n",
       "      <th></th>\n",
       "      <th></th>\n",
       "      <th></th>\n",
       "      <th></th>\n",
       "      <th></th>\n",
       "    </tr>\n",
       "  </thead>\n",
       "  <tbody>\n",
       "    <tr>\n",
       "      <th>Pretty Woman</th>\n",
       "      <td>1991</td>\n",
       "      <td>178406268</td>\n",
       "      <td>1990</td>\n",
       "      <td>11280591</td>\n",
       "      <td>1325</td>\n",
       "      <td>4</td>\n",
       "      <td>1811</td>\n",
       "      <td>1990</td>\n",
       "      <td>None</td>\n",
       "      <td>1990-03-23</td>\n",
       "      <td>2</td>\n",
       "      <td>1.000000</td>\n",
       "      <td>0.0</td>\n",
       "    </tr>\n",
       "    <tr>\n",
       "      <th>Dick Tracy</th>\n",
       "      <td>1991</td>\n",
       "      <td>103738726</td>\n",
       "      <td>1990</td>\n",
       "      <td>22543911</td>\n",
       "      <td>2332</td>\n",
       "      <td>9</td>\n",
       "      <td>2332</td>\n",
       "      <td>1990</td>\n",
       "      <td>None</td>\n",
       "      <td>1990-06-15</td>\n",
       "      <td>24</td>\n",
       "      <td>8.875000</td>\n",
       "      <td>1.0</td>\n",
       "    </tr>\n",
       "    <tr>\n",
       "      <th>Flatliners</th>\n",
       "      <td>1991</td>\n",
       "      <td>61489265</td>\n",
       "      <td>1990</td>\n",
       "      <td>10034685</td>\n",
       "      <td>1319</td>\n",
       "      <td>18</td>\n",
       "      <td>1483</td>\n",
       "      <td>1990</td>\n",
       "      <td>None</td>\n",
       "      <td>1990-08-10</td>\n",
       "      <td>30</td>\n",
       "      <td>6.966667</td>\n",
       "      <td>0.8</td>\n",
       "    </tr>\n",
       "    <tr>\n",
       "      <th>Problem Child</th>\n",
       "      <td>1991</td>\n",
       "      <td>53470891</td>\n",
       "      <td>1990</td>\n",
       "      <td>10026900</td>\n",
       "      <td>1714</td>\n",
       "      <td>21</td>\n",
       "      <td>1769</td>\n",
       "      <td>1990</td>\n",
       "      <td>None</td>\n",
       "      <td>1990-07-27</td>\n",
       "      <td>8</td>\n",
       "      <td>2.500000</td>\n",
       "      <td>0.0</td>\n",
       "    </tr>\n",
       "    <tr>\n",
       "      <th>Marked for Death</th>\n",
       "      <td>1991</td>\n",
       "      <td>46044396</td>\n",
       "      <td>1990</td>\n",
       "      <td>11790047</td>\n",
       "      <td>1968</td>\n",
       "      <td>27</td>\n",
       "      <td>1974</td>\n",
       "      <td>1990</td>\n",
       "      <td>None</td>\n",
       "      <td>1990-10-05</td>\n",
       "      <td>3</td>\n",
       "      <td>4.000000</td>\n",
       "      <td>0.0</td>\n",
       "    </tr>\n",
       "  </tbody>\n",
       "</table>\n",
       "</div>"
      ],
      "text/plain": [
       "                 close_year      gross open_year  opening_gross  opening_theaters  ranking  total_theaters  year close_date  open_date  review_count  star_avg  positive\n",
       "title                                                                                                                                                                   \n",
       "Pretty Woman           1991  178406268      1990       11280591              1325        4            1811  1990       None 1990-03-23             2  1.000000       0.0\n",
       "Dick Tracy             1991  103738726      1990       22543911              2332        9            2332  1990       None 1990-06-15            24  8.875000       1.0\n",
       "Flatliners             1991   61489265      1990       10034685              1319       18            1483  1990       None 1990-08-10            30  6.966667       0.8\n",
       "Problem Child          1991   53470891      1990       10026900              1714       21            1769  1990       None 1990-07-27             8  2.500000       0.0\n",
       "Marked for Death       1991   46044396      1990       11790047              1968       27            1974  1990       None 1990-10-05             3  4.000000       0.0"
      ]
     },
     "execution_count": 40,
     "metadata": {},
     "output_type": "execute_result"
    }
   ],
   "source": [
    "dftouse.head()"
   ]
  },
  {
   "cell_type": "code",
   "execution_count": 41,
   "metadata": {
    "collapsed": false
   },
   "outputs": [
    {
     "data": {
      "text/plain": [
       "<matplotlib.collections.PathCollection at 0x11bfc43d0>"
      ]
     },
     "execution_count": 41,
     "metadata": {},
     "output_type": "execute_result"
    },
    {
     "name": "stderr",
     "output_type": "stream",
     "text": [
      "/Users/alpkaancelik/anaconda/lib/python2.7/site-packages/matplotlib/collections.py:590: FutureWarning: elementwise comparison failed; returning scalar instead, but in the future will perform elementwise comparison\n",
      "  if self._edgecolors == str('face'):\n"
     ]
    },
    {
     "data": {
      "image/png": "[encoded data removed]",
      "text/plain": [
       "<matplotlib.figure.Figure at 0x117d68a10>"
      ]
     },
     "metadata": {},
     "output_type": "display_data"
    }
   ],
   "source": [
    "plt.scatter(y=dftouse.opening_gross, x=dftouse.star_avg)"
   ]
  },
  {
   "cell_type": "code",
   "execution_count": 42,
   "metadata": {
    "collapsed": false
   },
   "outputs": [
    {
     "ename": "NameError",
     "evalue": "name 'dftouse_four' is not defined",
     "output_type": "error",
     "traceback": [
      "\u001b[0;31m---------------------------------------------------------------------------\u001b[0m",
      "\u001b[0;31mNameError\u001b[0m                                 Traceback (most recent call last)",
      "\u001b[0;32m<ipython-input-42-113626d5200e>\u001b[0m in \u001b[0;36m<module>\u001b[0;34m()\u001b[0m\n\u001b[0;32m----> 1\u001b[0;31m \u001b[0mplt\u001b[0m\u001b[0;34m.\u001b[0m\u001b[0mscatter\u001b[0m\u001b[0;34m(\u001b[0m\u001b[0my\u001b[0m\u001b[0;34m=\u001b[0m\u001b[0mdftouse_four\u001b[0m\u001b[0;34m.\u001b[0m\u001b[0mopening_gross\u001b[0m\u001b[0;34m,\u001b[0m \u001b[0mx\u001b[0m\u001b[0;34m=\u001b[0m\u001b[0mdftouse_four\u001b[0m\u001b[0;34m.\u001b[0m\u001b[0mstar_avg\u001b[0m\u001b[0;34m,\u001b[0m\u001b[0ms\u001b[0m\u001b[0;34m=\u001b[0m\u001b[0mdftouse_four\u001b[0m\u001b[0;34m.\u001b[0m\u001b[0mreview_count\u001b[0m\u001b[0;34m)\u001b[0m\u001b[0;34m\u001b[0m\u001b[0m\n\u001b[0m",
      "\u001b[0;31mNameError\u001b[0m: name 'dftouse_four' is not defined"
     ]
    }
   ],
   "source": [
    "plt.scatter(y=dftouse_four.opening_gross, x=dftouse_four.star_avg,s=dftouse_four.review_count)"
   ]
  },
  {
   "cell_type": "code",
   "execution_count": 160,
   "metadata": {
    "collapsed": false
   },
   "outputs": [
    {
     "data": {
      "text/plain": [
       "<matplotlib.collections.PathCollection at 0x111fa4990>"
      ]
     },
     "execution_count": 160,
     "metadata": {},
     "output_type": "execute_result"
    },
    {
     "data": {
      "image/png": "[encoded data removed]",
      "text/plain": [
       "<matplotlib.figure.Figure at 0x10c917390>"
      ]
     },
     "metadata": {},
     "output_type": "display_data"
    }
   ],
   "source": [
    "plt.scatter(y=dftouse_seven.opening_gross, x=dftouse_seven.star_avg,s=dftouse_seven.review_count)"
   ]
  },
  {
   "cell_type": "code",
   "execution_count": 43,
   "metadata": {
    "collapsed": true
   },
   "outputs": [],
   "source": [
    "dftouse_four = flattened_df[flattened_df['star_avg'] <= 4]\n",
    "dftouse_seven = flattened_df[flattened_df['star_avg'] >= 7]"
   ]
  },
  {
   "cell_type": "code",
   "execution_count": 44,
   "metadata": {
    "collapsed": false
   },
   "outputs": [
    {
     "data": {
      "text/html": [
       "<div>\n",
       "<table border=\"1\" class=\"dataframe\">\n",
       "  <thead>\n",
       "    <tr style=\"text-align: right;\">\n",
       "      <th></th>\n",
       "      <th>close_year</th>\n",
       "      <th>gross</th>\n",
       "      <th>open_year</th>\n",
       "      <th>opening_gross</th>\n",
       "      <th>opening_theaters</th>\n",
       "      <th>ranking</th>\n",
       "      <th>total_theaters</th>\n",
       "      <th>year</th>\n",
       "      <th>close_date</th>\n",
       "      <th>open_date</th>\n",
       "      <th>review_count</th>\n",
       "      <th>star_avg</th>\n",
       "      <th>positive</th>\n",
       "    </tr>\n",
       "    <tr>\n",
       "      <th>title</th>\n",
       "      <th></th>\n",
       "      <th></th>\n",
       "      <th></th>\n",
       "      <th></th>\n",
       "      <th></th>\n",
       "      <th></th>\n",
       "      <th></th>\n",
       "      <th></th>\n",
       "      <th></th>\n",
       "      <th></th>\n",
       "      <th></th>\n",
       "      <th></th>\n",
       "      <th></th>\n",
       "    </tr>\n",
       "  </thead>\n",
       "  <tbody>\n",
       "    <tr>\n",
       "      <th>Pretty Woman</th>\n",
       "      <td>1991</td>\n",
       "      <td>178406268</td>\n",
       "      <td>1990</td>\n",
       "      <td>11280591</td>\n",
       "      <td>1325</td>\n",
       "      <td>4</td>\n",
       "      <td>1811</td>\n",
       "      <td>1990</td>\n",
       "      <td>None</td>\n",
       "      <td>1990-03-23</td>\n",
       "      <td>2</td>\n",
       "      <td>1.0</td>\n",
       "      <td>0</td>\n",
       "    </tr>\n",
       "    <tr>\n",
       "      <th>Problem Child</th>\n",
       "      <td>1991</td>\n",
       "      <td>53470891</td>\n",
       "      <td>1990</td>\n",
       "      <td>10026900</td>\n",
       "      <td>1714</td>\n",
       "      <td>21</td>\n",
       "      <td>1769</td>\n",
       "      <td>1990</td>\n",
       "      <td>None</td>\n",
       "      <td>1990-07-27</td>\n",
       "      <td>8</td>\n",
       "      <td>2.5</td>\n",
       "      <td>0</td>\n",
       "    </tr>\n",
       "    <tr>\n",
       "      <th>Marked for Death</th>\n",
       "      <td>1991</td>\n",
       "      <td>46044396</td>\n",
       "      <td>1990</td>\n",
       "      <td>11790047</td>\n",
       "      <td>1968</td>\n",
       "      <td>27</td>\n",
       "      <td>1974</td>\n",
       "      <td>1990</td>\n",
       "      <td>None</td>\n",
       "      <td>1990-10-05</td>\n",
       "      <td>3</td>\n",
       "      <td>4.0</td>\n",
       "      <td>0</td>\n",
       "    </tr>\n",
       "    <tr>\n",
       "      <th>Air America</th>\n",
       "      <td>1991</td>\n",
       "      <td>31053601</td>\n",
       "      <td>1990</td>\n",
       "      <td>8064480</td>\n",
       "      <td>1902</td>\n",
       "      <td>37</td>\n",
       "      <td>1902</td>\n",
       "      <td>1990</td>\n",
       "      <td>None</td>\n",
       "      <td>1990-08-10</td>\n",
       "      <td>5</td>\n",
       "      <td>2.8</td>\n",
       "      <td>0</td>\n",
       "    </tr>\n",
       "    <tr>\n",
       "      <th>Internal Affairs</th>\n",
       "      <td>1991</td>\n",
       "      <td>27734391</td>\n",
       "      <td>1990</td>\n",
       "      <td>5043516</td>\n",
       "      <td>975</td>\n",
       "      <td>43</td>\n",
       "      <td>986</td>\n",
       "      <td>1990</td>\n",
       "      <td>None</td>\n",
       "      <td>1990-01-12</td>\n",
       "      <td>2</td>\n",
       "      <td>3.5</td>\n",
       "      <td>0</td>\n",
       "    </tr>\n",
       "  </tbody>\n",
       "</table>\n",
       "</div>"
      ],
      "text/plain": [
       "                 close_year      gross open_year  opening_gross  opening_theaters  ranking  total_theaters  year close_date  open_date  review_count  star_avg  positive\n",
       "title                                                                                                                                                                   \n",
       "Pretty Woman           1991  178406268      1990       11280591              1325        4            1811  1990       None 1990-03-23             2       1.0         0\n",
       "Problem Child          1991   53470891      1990       10026900              1714       21            1769  1990       None 1990-07-27             8       2.5         0\n",
       "Marked for Death       1991   46044396      1990       11790047              1968       27            1974  1990       None 1990-10-05             3       4.0         0\n",
       "Air America            1991   31053601      1990        8064480              1902       37            1902  1990       None 1990-08-10             5       2.8         0\n",
       "Internal Affairs       1991   27734391      1990        5043516               975       43             986  1990       None 1990-01-12             2       3.5         0"
      ]
     },
     "execution_count": 44,
     "metadata": {},
     "output_type": "execute_result"
    }
   ],
   "source": [
    "dftouse_four.head()"
   ]
  },
  {
   "cell_type": "code",
   "execution_count": 45,
   "metadata": {
    "collapsed": false
   },
   "outputs": [
    {
     "data": {
      "text/html": [
       "<table class=\"simpletable\">\n",
       "<caption>OLS Regression Results</caption>\n",
       "<tr>\n",
       "  <th>Dep. Variable:</th>      <td>opening_gross</td>  <th>  R-squared:         </th> <td>   0.004</td> \n",
       "</tr>\n",
       "<tr>\n",
       "  <th>Model:</th>                   <td>OLS</td>       <th>  Adj. R-squared:    </th> <td>   0.001</td> \n",
       "</tr>\n",
       "<tr>\n",
       "  <th>Method:</th>             <td>Least Squares</td>  <th>  F-statistic:       </th> <td>   1.465</td> \n",
       "</tr>\n",
       "<tr>\n",
       "  <th>Date:</th>             <td>Tue, 01 Dec 2015</td> <th>  Prob (F-statistic):</th>  <td> 0.227</td>  \n",
       "</tr>\n",
       "<tr>\n",
       "  <th>Time:</th>                 <td>10:57:18</td>     <th>  Log-Likelihood:    </th> <td> -6007.5</td> \n",
       "</tr>\n",
       "<tr>\n",
       "  <th>No. Observations:</th>      <td>   334</td>      <th>  AIC:               </th> <td>1.202e+04</td>\n",
       "</tr>\n",
       "<tr>\n",
       "  <th>Df Residuals:</th>          <td>   332</td>      <th>  BIC:               </th> <td>1.203e+04</td>\n",
       "</tr>\n",
       "<tr>\n",
       "  <th>Df Model:</th>              <td>     1</td>      <th>                     </th>     <td> </td>    \n",
       "</tr>\n",
       "<tr>\n",
       "  <th>Covariance Type:</th>      <td>nonrobust</td>    <th>                     </th>     <td> </td>    \n",
       "</tr>\n",
       "</table>\n",
       "<table class=\"simpletable\">\n",
       "<tr>\n",
       "      <td></td>         <th>coef</th>     <th>std err</th>      <th>t</th>      <th>P>|t|</th> <th>[95.0% Conf. Int.]</th> \n",
       "</tr>\n",
       "<tr>\n",
       "  <th>Intercept</th> <td> 1.769e+07</td> <td> 1.58e+06</td> <td>   11.170</td> <td> 0.000</td> <td> 1.46e+07  2.08e+07</td>\n",
       "</tr>\n",
       "<tr>\n",
       "  <th>star_avg</th>  <td>-3.764e+05</td> <td> 3.11e+05</td> <td>   -1.210</td> <td> 0.227</td> <td>-9.88e+05  2.35e+05</td>\n",
       "</tr>\n",
       "</table>\n",
       "<table class=\"simpletable\">\n",
       "<tr>\n",
       "  <th>Omnibus:</th>       <td>203.186</td> <th>  Durbin-Watson:     </th> <td>   1.180</td>\n",
       "</tr>\n",
       "<tr>\n",
       "  <th>Prob(Omnibus):</th> <td> 0.000</td>  <th>  Jarque-Bera (JB):  </th> <td>1582.013</td>\n",
       "</tr>\n",
       "<tr>\n",
       "  <th>Skew:</th>          <td> 2.499</td>  <th>  Prob(JB):          </th> <td>    0.00</td>\n",
       "</tr>\n",
       "<tr>\n",
       "  <th>Kurtosis:</th>      <td>12.418</td>  <th>  Cond. No.          </th> <td>    9.64</td>\n",
       "</tr>\n",
       "</table>"
      ],
      "text/plain": [
       "<class 'statsmodels.iolib.summary.Summary'>\n",
       "\"\"\"\n",
       "                            OLS Regression Results                            \n",
       "==============================================================================\n",
       "Dep. Variable:          opening_gross   R-squared:                       0.004\n",
       "Model:                            OLS   Adj. R-squared:                  0.001\n",
       "Method:                 Least Squares   F-statistic:                     1.465\n",
       "Date:                Tue, 01 Dec 2015   Prob (F-statistic):              0.227\n",
       "Time:                        10:57:18   Log-Likelihood:                -6007.5\n",
       "No. Observations:                 334   AIC:                         1.202e+04\n",
       "Df Residuals:                     332   BIC:                         1.203e+04\n",
       "Df Model:                           1                                         \n",
       "Covariance Type:            nonrobust                                         \n",
       "==============================================================================\n",
       "                 coef    std err          t      P>|t|      [95.0% Conf. Int.]\n",
       "------------------------------------------------------------------------------\n",
       "Intercept   1.769e+07   1.58e+06     11.170      0.000      1.46e+07  2.08e+07\n",
       "star_avg   -3.764e+05   3.11e+05     -1.210      0.227     -9.88e+05  2.35e+05\n",
       "==============================================================================\n",
       "Omnibus:                      203.186   Durbin-Watson:                   1.180\n",
       "Prob(Omnibus):                  0.000   Jarque-Bera (JB):             1582.013\n",
       "Skew:                           2.499   Prob(JB):                         0.00\n",
       "Kurtosis:                      12.418   Cond. No.                         9.64\n",
       "==============================================================================\n",
       "\n",
       "Warnings:\n",
       "[1] Standard Errors assume that the covariance matrix of the errors is correctly specified.\n",
       "\"\"\""
      ]
     },
     "execution_count": 45,
     "metadata": {},
     "output_type": "execute_result"
    }
   ],
   "source": [
    "bobby_ols = ols('opening_gross ~ star_avg',dftouse).fit()\n",
    "bobby_ols.summary()"
   ]
  },
  {
   "cell_type": "code",
   "execution_count": 46,
   "metadata": {
    "collapsed": false
   },
   "outputs": [
    {
     "data": {
      "text/html": [
       "<table class=\"simpletable\">\n",
       "<caption>OLS Regression Results</caption>\n",
       "<tr>\n",
       "  <th>Dep. Variable:</th>      <td>opening_gross</td>  <th>  R-squared:         </th> <td>   0.005</td>\n",
       "</tr>\n",
       "<tr>\n",
       "  <th>Model:</th>                   <td>OLS</td>       <th>  Adj. R-squared:    </th> <td>   0.000</td>\n",
       "</tr>\n",
       "<tr>\n",
       "  <th>Method:</th>             <td>Least Squares</td>  <th>  F-statistic:       </th> <td>   1.002</td>\n",
       "</tr>\n",
       "<tr>\n",
       "  <th>Date:</th>             <td>Tue, 01 Dec 2015</td> <th>  Prob (F-statistic):</th>  <td> 0.318</td> \n",
       "</tr>\n",
       "<tr>\n",
       "  <th>Time:</th>                 <td>10:57:22</td>     <th>  Log-Likelihood:    </th> <td> -3954.6</td>\n",
       "</tr>\n",
       "<tr>\n",
       "  <th>No. Observations:</th>      <td>   220</td>      <th>  AIC:               </th> <td>   7913.</td>\n",
       "</tr>\n",
       "<tr>\n",
       "  <th>Df Residuals:</th>          <td>   218</td>      <th>  BIC:               </th> <td>   7920.</td>\n",
       "</tr>\n",
       "<tr>\n",
       "  <th>Df Model:</th>              <td>     1</td>      <th>                     </th>     <td> </td>   \n",
       "</tr>\n",
       "<tr>\n",
       "  <th>Covariance Type:</th>      <td>nonrobust</td>    <th>                     </th>     <td> </td>   \n",
       "</tr>\n",
       "</table>\n",
       "<table class=\"simpletable\">\n",
       "<tr>\n",
       "      <td></td>         <th>coef</th>     <th>std err</th>      <th>t</th>      <th>P>|t|</th> <th>[95.0% Conf. Int.]</th> \n",
       "</tr>\n",
       "<tr>\n",
       "  <th>Intercept</th> <td> 1.973e+07</td> <td> 3.31e+06</td> <td>    5.959</td> <td> 0.000</td> <td> 1.32e+07  2.63e+07</td>\n",
       "</tr>\n",
       "<tr>\n",
       "  <th>star_avg</th>  <td>-1.297e+06</td> <td>  1.3e+06</td> <td>   -1.001</td> <td> 0.318</td> <td>-3.85e+06  1.26e+06</td>\n",
       "</tr>\n",
       "</table>\n",
       "<table class=\"simpletable\">\n",
       "<tr>\n",
       "  <th>Omnibus:</th>       <td>126.033</td> <th>  Durbin-Watson:     </th> <td>   1.069</td> \n",
       "</tr>\n",
       "<tr>\n",
       "  <th>Prob(Omnibus):</th> <td> 0.000</td>  <th>  Jarque-Bera (JB):  </th> <td> 716.861</td> \n",
       "</tr>\n",
       "<tr>\n",
       "  <th>Skew:</th>          <td> 2.270</td>  <th>  Prob(JB):          </th> <td>2.17e-156</td>\n",
       "</tr>\n",
       "<tr>\n",
       "  <th>Kurtosis:</th>      <td>10.589</td>  <th>  Cond. No.          </th> <td>    9.19</td> \n",
       "</tr>\n",
       "</table>"
      ],
      "text/plain": [
       "<class 'statsmodels.iolib.summary.Summary'>\n",
       "\"\"\"\n",
       "                            OLS Regression Results                            \n",
       "==============================================================================\n",
       "Dep. Variable:          opening_gross   R-squared:                       0.005\n",
       "Model:                            OLS   Adj. R-squared:                  0.000\n",
       "Method:                 Least Squares   F-statistic:                     1.002\n",
       "Date:                Tue, 01 Dec 2015   Prob (F-statistic):              0.318\n",
       "Time:                        10:57:22   Log-Likelihood:                -3954.6\n",
       "No. Observations:                 220   AIC:                             7913.\n",
       "Df Residuals:                     218   BIC:                             7920.\n",
       "Df Model:                           1                                         \n",
       "Covariance Type:            nonrobust                                         \n",
       "==============================================================================\n",
       "                 coef    std err          t      P>|t|      [95.0% Conf. Int.]\n",
       "------------------------------------------------------------------------------\n",
       "Intercept   1.973e+07   3.31e+06      5.959      0.000      1.32e+07  2.63e+07\n",
       "star_avg   -1.297e+06    1.3e+06     -1.001      0.318     -3.85e+06  1.26e+06\n",
       "==============================================================================\n",
       "Omnibus:                      126.033   Durbin-Watson:                   1.069\n",
       "Prob(Omnibus):                  0.000   Jarque-Bera (JB):              716.861\n",
       "Skew:                           2.270   Prob(JB):                    2.17e-156\n",
       "Kurtosis:                      10.589   Cond. No.                         9.19\n",
       "==============================================================================\n",
       "\n",
       "Warnings:\n",
       "[1] Standard Errors assume that the covariance matrix of the errors is correctly specified.\n",
       "\"\"\""
      ]
     },
     "execution_count": 46,
     "metadata": {},
     "output_type": "execute_result"
    }
   ],
   "source": [
    "bobby_ols = ols('opening_gross ~ star_avg',dftouse_four).fit()\n",
    "bobby_ols.summary()"
   ]
  },
  {
   "cell_type": "code",
   "execution_count": 47,
   "metadata": {
    "collapsed": false
   },
   "outputs": [
    {
     "data": {
      "text/html": [
       "<table class=\"simpletable\">\n",
       "<caption>OLS Regression Results</caption>\n",
       "<tr>\n",
       "  <th>Dep. Variable:</th>      <td>opening_gross</td>  <th>  R-squared:         </th> <td>   0.009</td>\n",
       "</tr>\n",
       "<tr>\n",
       "  <th>Model:</th>                   <td>OLS</td>       <th>  Adj. R-squared:    </th> <td>  -0.003</td>\n",
       "</tr>\n",
       "<tr>\n",
       "  <th>Method:</th>             <td>Least Squares</td>  <th>  F-statistic:       </th> <td>  0.7432</td>\n",
       "</tr>\n",
       "<tr>\n",
       "  <th>Date:</th>             <td>Tue, 01 Dec 2015</td> <th>  Prob (F-statistic):</th>  <td> 0.391</td> \n",
       "</tr>\n",
       "<tr>\n",
       "  <th>Time:</th>                 <td>10:57:26</td>     <th>  Log-Likelihood:    </th> <td> -1553.5</td>\n",
       "</tr>\n",
       "<tr>\n",
       "  <th>No. Observations:</th>      <td>    86</td>      <th>  AIC:               </th> <td>   3111.</td>\n",
       "</tr>\n",
       "<tr>\n",
       "  <th>Df Residuals:</th>          <td>    84</td>      <th>  BIC:               </th> <td>   3116.</td>\n",
       "</tr>\n",
       "<tr>\n",
       "  <th>Df Model:</th>              <td>     1</td>      <th>                     </th>     <td> </td>   \n",
       "</tr>\n",
       "<tr>\n",
       "  <th>Covariance Type:</th>      <td>nonrobust</td>    <th>                     </th>     <td> </td>   \n",
       "</tr>\n",
       "</table>\n",
       "<table class=\"simpletable\">\n",
       "<tr>\n",
       "      <td></td>         <th>coef</th>     <th>std err</th>      <th>t</th>      <th>P>|t|</th> <th>[95.0% Conf. Int.]</th> \n",
       "</tr>\n",
       "<tr>\n",
       "  <th>Intercept</th> <td> 3.719e+07</td> <td> 2.64e+07</td> <td>    1.408</td> <td> 0.163</td> <td>-1.53e+07  8.97e+07</td>\n",
       "</tr>\n",
       "<tr>\n",
       "  <th>star_avg</th>  <td>-2.671e+06</td> <td>  3.1e+06</td> <td>   -0.862</td> <td> 0.391</td> <td>-8.83e+06  3.49e+06</td>\n",
       "</tr>\n",
       "</table>\n",
       "<table class=\"simpletable\">\n",
       "<tr>\n",
       "  <th>Omnibus:</th>       <td>81.009</td> <th>  Durbin-Watson:     </th> <td>   1.855</td> \n",
       "</tr>\n",
       "<tr>\n",
       "  <th>Prob(Omnibus):</th> <td> 0.000</td> <th>  Jarque-Bera (JB):  </th> <td> 666.603</td> \n",
       "</tr>\n",
       "<tr>\n",
       "  <th>Skew:</th>          <td> 2.982</td> <th>  Prob(JB):          </th> <td>1.77e-145</td>\n",
       "</tr>\n",
       "<tr>\n",
       "  <th>Kurtosis:</th>      <td>15.266</td> <th>  Cond. No.          </th> <td>    123.</td> \n",
       "</tr>\n",
       "</table>"
      ],
      "text/plain": [
       "<class 'statsmodels.iolib.summary.Summary'>\n",
       "\"\"\"\n",
       "                            OLS Regression Results                            \n",
       "==============================================================================\n",
       "Dep. Variable:          opening_gross   R-squared:                       0.009\n",
       "Model:                            OLS   Adj. R-squared:                 -0.003\n",
       "Method:                 Least Squares   F-statistic:                    0.7432\n",
       "Date:                Tue, 01 Dec 2015   Prob (F-statistic):              0.391\n",
       "Time:                        10:57:26   Log-Likelihood:                -1553.5\n",
       "No. Observations:                  86   AIC:                             3111.\n",
       "Df Residuals:                      84   BIC:                             3116.\n",
       "Df Model:                           1                                         \n",
       "Covariance Type:            nonrobust                                         \n",
       "==============================================================================\n",
       "                 coef    std err          t      P>|t|      [95.0% Conf. Int.]\n",
       "------------------------------------------------------------------------------\n",
       "Intercept   3.719e+07   2.64e+07      1.408      0.163     -1.53e+07  8.97e+07\n",
       "star_avg   -2.671e+06    3.1e+06     -0.862      0.391     -8.83e+06  3.49e+06\n",
       "==============================================================================\n",
       "Omnibus:                       81.009   Durbin-Watson:                   1.855\n",
       "Prob(Omnibus):                  0.000   Jarque-Bera (JB):              666.603\n",
       "Skew:                           2.982   Prob(JB):                    1.77e-145\n",
       "Kurtosis:                      15.266   Cond. No.                         123.\n",
       "==============================================================================\n",
       "\n",
       "Warnings:\n",
       "[1] Standard Errors assume that the covariance matrix of the errors is correctly specified.\n",
       "\"\"\""
      ]
     },
     "execution_count": 47,
     "metadata": {},
     "output_type": "execute_result"
    }
   ],
   "source": [
    "bobby_ols = ols('opening_gross ~ star_avg',dftouse_seven).fit()\n",
    "bobby_ols.summary()"
   ]
  },
  {
   "cell_type": "markdown",
   "metadata": {},
   "source": [
    "ASK ANDREW WHETHER WE NEED TEST/TRAIN FOR OUR REGRESSION\n",
    "\n",
    "WORK FLOW 0 GOAL: DESCRIPTIVE STATISTICS <br>\n",
    "- How many unique movies we have in our IMDB_df\n",
    "- how many reviews they have each \n",
    "- which years do they represent\n",
    "\n",
    "WORK FLOW 1 GOAL: MAKE A VALENCE SCORE THAT CLOSELY MATCHES STARS\n",
    "1. Create a valence score for each review\n",
    "    * summation \n",
    "    * average\n",
    "    * product\n",
    "1a. Check how good our valence score is by testing on the stars\n",
    "\n",
    "WORK FLOW 2 GOAL: FIND A REGRESSION MODEL THAT BEST PREDICTS THE FOLLOWING Y VARIABLES\n",
    "2. Regress on: \n",
    "    * opening_gross (controlled for opening weekend)\n",
    "    * opening_gross/opening_theater\n",
    "    * total_gross\n",
    "    * total_gross/total_theateer\n",
    "\n",
    "    \n",
    "3. "
   ]
  },
  {
   "cell_type": "code",
   "execution_count": 68,
   "metadata": {
    "collapsed": false
   },
   "outputs": [],
   "source": [
    "#ALP - getting inflation data\n",
    "inflation = pd.read_csv(\"inf.csv\")"
   ]
  },
  {
   "cell_type": "code",
   "execution_count": 70,
   "metadata": {
    "collapsed": false
   },
   "outputs": [
    {
     "name": "stdout",
     "output_type": "stream",
     "text": [
      "      DATE     VALUE\n",
      "0   1/1/90  5.397956\n",
      "1   1/1/91  4.234964\n",
      "2   1/1/92  3.028820\n",
      "3   1/1/93  2.951657\n",
      "4   1/1/94  2.607442\n",
      "5   1/1/95  2.805420\n",
      "6   1/1/96  2.931204\n",
      "7   1/1/97  2.337690\n",
      "8   1/1/98  1.552279\n",
      "9   1/1/99  2.188027\n",
      "10  1/1/00  3.376857\n",
      "11  1/1/01  2.826171\n",
      "12  1/1/02  1.586032\n",
      "13  1/1/03  2.270095\n",
      "14  1/1/04  2.677237\n",
      "15  1/1/05  3.392747\n",
      "16  1/1/06  3.225944\n",
      "17  1/1/07  2.852672\n",
      "18  1/1/08  3.839100\n",
      "19  1/1/09 -0.355546\n",
      "20  1/1/10  1.640043\n",
      "21  1/1/11  3.156842\n",
      "22  1/1/12  2.069337\n",
      "23  1/1/13  1.464833\n",
      "24  1/1/14  1.622223\n"
     ]
    }
   ],
   "source": [
    "print inflation"
   ]
  },
  {
   "cell_type": "markdown",
   "metadata": {},
   "source": [
    "### Analysis"
   ]
  },
  {
   "cell_type": "markdown",
   "metadata": {},
   "source": [
    "### Visualization"
   ]
  },
  {
   "cell_type": "markdown",
   "metadata": {},
   "source": [
    "## Milestone 3: Video and finishing touches"
   ]
  },
  {
   "cell_type": "markdown",
   "metadata": {},
   "source": [
    "### Screencast video"
   ]
  },
  {
   "cell_type": "markdown",
   "metadata": {},
   "source": [
    "### Website"
   ]
  },
  {
   "cell_type": "markdown",
   "metadata": {},
   "source": [
    "### Finishing touches"
   ]
  },
  {
   "cell_type": "code",
   "execution_count": null,
   "metadata": {
    "collapsed": true
   },
   "outputs": [],
   "source": []
  }
 ],
 "metadata": {
  "kernelspec": {
   "display_name": "Python 2",
   "language": "python",
   "name": "python2"
  },
  "language_info": {
   "codemirror_mode": {
    "name": "ipython",
    "version": 2
   },
   "file_extension": ".py",
   "mimetype": "text/x-python",
   "name": "python",
   "nbconvert_exporter": "python",
   "pygments_lexer": "ipython2",
   "version": "2.7.10"
  }
 },
 "nbformat": 4,
 "nbformat_minor": 0
}
